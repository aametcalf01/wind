{
 "cells": [
  {
   "cell_type": "markdown",
   "metadata": {},
   "source": [
    "###### Save this notebook to the `Notebooks` directory.<br><br>\n",
    "The code follows the structure of the Wind repository on big Andy's Github. In theory, if you have cloned the repository, the code should handle data retrieval when the notebook is saved in the `Notebooks` directory."
   ]
  },
  {
   "cell_type": "code",
   "execution_count": 1,
   "metadata": {},
   "outputs": [
    {
     "data": {
      "application/javascript": [
       "IPython.OutputArea.prototype._should_scroll = function(lines) {\n",
       "    return false;\n",
       "}"
      ],
      "text/plain": [
       "<IPython.core.display.Javascript object>"
      ]
     },
     "metadata": {},
     "output_type": "display_data"
    }
   ],
   "source": [
    "%%javascript\n",
    "IPython.OutputArea.prototype._should_scroll = function(lines) {\n",
    "    return false;\n",
    "}"
   ]
  },
  {
   "cell_type": "code",
   "execution_count": 2,
   "metadata": {},
   "outputs": [
    {
     "name": "stderr",
     "output_type": "stream",
     "text": [
      "C:\\Users\\Dave Landay\\Anaconda3\\lib\\site-packages\\sklearn\\cross_validation.py:44: DeprecationWarning: This module was deprecated in version 0.18 in favor of the model_selection module into which all the refactored classes and functions are moved. Also note that the interface of the new CV iterators are different from that of this module. This module will be removed in 0.20.\n",
      "  \"This module will be removed in 0.20.\", DeprecationWarning)\n",
      "C:\\Users\\Dave Landay\\Anaconda3\\lib\\site-packages\\sklearn\\grid_search.py:43: DeprecationWarning: This module was deprecated in version 0.18 in favor of the model_selection module into which all the refactored classes and functions are moved. This module will be removed in 0.20.\n",
      "  DeprecationWarning)\n"
     ]
    }
   ],
   "source": [
    "import os\n",
    "import sys\n",
    "import numpy as np\n",
    "import pandas as pd\n",
    "import sklearn\n",
    "from sklearn.ensemble import RandomForestClassifier\n",
    "from sklearn.multioutput import MultiOutputClassifier\n",
    "from sklearn.model_selection import cross_val_score\n",
    "from sklearn.metrics import accuracy_score\n",
    "from sklearn.model_selection import train_test_split as tts\n",
    "from sklearn.grid_search import GridSearchCV\n",
    "\n",
    "import matplotlib.pyplot as plt\n",
    "import copy\n",
    "\n",
    "%matplotlib inline"
   ]
  },
  {
   "cell_type": "markdown",
   "metadata": {},
   "source": [
    "Build the data:"
   ]
  },
  {
   "cell_type": "code",
   "execution_count": 3,
   "metadata": {},
   "outputs": [
    {
     "name": "stdout",
     "output_type": "stream",
     "text": [
      "current: C:\\Users\\Dave Landay\\Documents\\Machine Learning\\GroupProject\\wind\\Notebooks\n",
      "back one dir: C:\\Users\\Dave Landay\\Documents\\Machine Learning\\GroupProject\\wind\n",
      "\n"
     ]
    }
   ],
   "source": [
    "#Test to see that we are backing out of `Notebooks` and retrieving data from Wind parent directory:\n",
    "path = os.getcwd()\n",
    "print('current: '+ path)\n",
    "os.chdir('..')\n",
    "path = os.getcwd()\n",
    "print('back one dir: '+path+'\\n')\n",
    "\n",
    "# Define path extension where data lives and the file we want to open:\n",
    "path2data = '\\CS295\\procData\\ourData\\FinalData'\n",
    "file_of_interest = '2015Avg.txt'\n",
    "\n",
    "#load Data into a dataframe (define the header names appropriately):\n",
    "data = pd.read_csv(path+path2data+'\\\\'+file_of_interest, names=['Lat','Lon','Ele','YR--MODAHRMN','DIR','SPD','GUS',\n",
    "                                                                  'TEMP','SLP'])"
   ]
  },
  {
   "cell_type": "code",
   "execution_count": 4,
   "metadata": {},
   "outputs": [
    {
     "data": {
      "text/html": [
       "<div>\n",
       "<style>\n",
       "    .dataframe thead tr:only-child th {\n",
       "        text-align: right;\n",
       "    }\n",
       "\n",
       "    .dataframe thead th {\n",
       "        text-align: left;\n",
       "    }\n",
       "\n",
       "    .dataframe tbody tr th {\n",
       "        vertical-align: top;\n",
       "    }\n",
       "</style>\n",
       "<table border=\"1\" class=\"dataframe\">\n",
       "  <thead>\n",
       "    <tr style=\"text-align: right;\">\n",
       "      <th></th>\n",
       "      <th>Lat</th>\n",
       "      <th>Lon</th>\n",
       "      <th>Ele</th>\n",
       "      <th>YR--MODAHRMN</th>\n",
       "      <th>DIR</th>\n",
       "      <th>SPD</th>\n",
       "      <th>TEMP</th>\n",
       "      <th>SLP</th>\n",
       "    </tr>\n",
       "  </thead>\n",
       "  <tbody>\n",
       "    <tr>\n",
       "      <th>0</th>\n",
       "      <td>60.383</td>\n",
       "      <td>22.55</td>\n",
       "      <td>5.2</td>\n",
       "      <td>20150101</td>\n",
       "      <td>4.712389</td>\n",
       "      <td>2.840804</td>\n",
       "      <td>35.75</td>\n",
       "      <td>1007.03181818</td>\n",
       "    </tr>\n",
       "    <tr>\n",
       "      <th>1</th>\n",
       "      <td>60.383</td>\n",
       "      <td>22.55</td>\n",
       "      <td>5.2</td>\n",
       "      <td>20150102</td>\n",
       "      <td>4.712389</td>\n",
       "      <td>5.648369</td>\n",
       "      <td>38.5</td>\n",
       "      <td>981.977272727</td>\n",
       "    </tr>\n",
       "    <tr>\n",
       "      <th>2</th>\n",
       "      <td>60.383</td>\n",
       "      <td>22.55</td>\n",
       "      <td>5.2</td>\n",
       "      <td>20150103</td>\n",
       "      <td>-1.516701</td>\n",
       "      <td>4.951222</td>\n",
       "      <td>35.6818181818</td>\n",
       "      <td>978.972727273</td>\n",
       "    </tr>\n",
       "    <tr>\n",
       "      <th>3</th>\n",
       "      <td>60.383</td>\n",
       "      <td>22.55</td>\n",
       "      <td>5.2</td>\n",
       "      <td>20150104</td>\n",
       "      <td>0.495934</td>\n",
       "      <td>6.277769</td>\n",
       "      <td>29.8636363636</td>\n",
       "      <td>997.059090909</td>\n",
       "    </tr>\n",
       "    <tr>\n",
       "      <th>4</th>\n",
       "      <td>60.383</td>\n",
       "      <td>22.55</td>\n",
       "      <td>5.2</td>\n",
       "      <td>20150105</td>\n",
       "      <td>0.379936</td>\n",
       "      <td>6.052150</td>\n",
       "      <td>13.9166666667</td>\n",
       "      <td>1020.12083333</td>\n",
       "    </tr>\n",
       "    <tr>\n",
       "      <th>5</th>\n",
       "      <td>60.383</td>\n",
       "      <td>22.55</td>\n",
       "      <td>5.2</td>\n",
       "      <td>20150106</td>\n",
       "      <td>1.570796</td>\n",
       "      <td>1.673521</td>\n",
       "      <td>11.75</td>\n",
       "      <td>1030.37083333</td>\n",
       "    </tr>\n",
       "    <tr>\n",
       "      <th>6</th>\n",
       "      <td>60.383</td>\n",
       "      <td>22.55</td>\n",
       "      <td>5.2</td>\n",
       "      <td>20150107</td>\n",
       "      <td>4.712389</td>\n",
       "      <td>7.661832</td>\n",
       "      <td>32.4583333333</td>\n",
       "      <td>1019.10416667</td>\n",
       "    </tr>\n",
       "    <tr>\n",
       "      <th>7</th>\n",
       "      <td>60.383</td>\n",
       "      <td>22.55</td>\n",
       "      <td>5.2</td>\n",
       "      <td>20150108</td>\n",
       "      <td>4.712389</td>\n",
       "      <td>3.511538</td>\n",
       "      <td>35.625</td>\n",
       "      <td>1002.35</td>\n",
       "    </tr>\n",
       "    <tr>\n",
       "      <th>8</th>\n",
       "      <td>60.383</td>\n",
       "      <td>22.55</td>\n",
       "      <td>5.2</td>\n",
       "      <td>20150109</td>\n",
       "      <td>4.712389</td>\n",
       "      <td>1.809526</td>\n",
       "      <td>33.2083333333</td>\n",
       "      <td>989.120833333</td>\n",
       "    </tr>\n",
       "    <tr>\n",
       "      <th>9</th>\n",
       "      <td>60.383</td>\n",
       "      <td>22.55</td>\n",
       "      <td>5.2</td>\n",
       "      <td>20150110</td>\n",
       "      <td>1.570796</td>\n",
       "      <td>1.609291</td>\n",
       "      <td>31.3333333333</td>\n",
       "      <td>982.275</td>\n",
       "    </tr>\n",
       "  </tbody>\n",
       "</table>\n",
       "</div>"
      ],
      "text/plain": [
       "      Lat    Lon  Ele  YR--MODAHRMN       DIR       SPD           TEMP  \\\n",
       "0  60.383  22.55  5.2      20150101  4.712389  2.840804          35.75   \n",
       "1  60.383  22.55  5.2      20150102  4.712389  5.648369           38.5   \n",
       "2  60.383  22.55  5.2      20150103 -1.516701  4.951222  35.6818181818   \n",
       "3  60.383  22.55  5.2      20150104  0.495934  6.277769  29.8636363636   \n",
       "4  60.383  22.55  5.2      20150105  0.379936  6.052150  13.9166666667   \n",
       "5  60.383  22.55  5.2      20150106  1.570796  1.673521          11.75   \n",
       "6  60.383  22.55  5.2      20150107  4.712389  7.661832  32.4583333333   \n",
       "7  60.383  22.55  5.2      20150108  4.712389  3.511538         35.625   \n",
       "8  60.383  22.55  5.2      20150109  4.712389  1.809526  33.2083333333   \n",
       "9  60.383  22.55  5.2      20150110  1.570796  1.609291  31.3333333333   \n",
       "\n",
       "             SLP  \n",
       "0  1007.03181818  \n",
       "1  981.977272727  \n",
       "2  978.972727273  \n",
       "3  997.059090909  \n",
       "4  1020.12083333  \n",
       "5  1030.37083333  \n",
       "6  1019.10416667  \n",
       "7        1002.35  \n",
       "8  989.120833333  \n",
       "9        982.275  "
      ]
     },
     "execution_count": 4,
     "metadata": {},
     "output_type": "execute_result"
    }
   ],
   "source": [
    "#delete the gust column (to many Null values):\n",
    "del data['GUS']\n",
    "\n",
    "#Display first ten entries:\n",
    "data[:10]"
   ]
  },
  {
   "cell_type": "code",
   "execution_count": 5,
   "metadata": {
    "collapsed": true
   },
   "outputs": [],
   "source": [
    "#Descritize Wind Speed (Use Beaufort Wind Scale):\n",
    "def beaufort(value):\n",
    "    \"\"\"BEAUFORT takes a wind speed value (in m/s) and classifies  it based on the Beaufort Wind Scale:\n",
    "    0 --- Calm ----------- less than 1 mph (0 m/s)\n",
    "    1 --- Light air ------ 1 - 3 mph 0.5-1.5 m/s\n",
    "    2 --- Light breeze --- 4 - 7 mph 2-3 m/s\n",
    "    3 --- Gentle breeze -- 8 - 12 mph 3.5-5 m/s\n",
    "    4 --- Moderate breeze  13 - 18 mph 5.5-8 m/s\n",
    "    5 --- Fresh breeze --- 19 - 24 mph 8.5-10.5 m/s\n",
    "    6 --- Strong breeze -- 25 - 31 mph 11-13.5 m/s\n",
    "    7 --- Moderate gale -- 32 - 38 mph 14-16.5 m/s\n",
    "    8 --- Fresh gale  ---- 39 - 46 mph 17-20 m/s\n",
    "    9 --- Strong gale ---- 47 - 54 mph 20.5-23.5 m/s\n",
    "    10 -- Whole gale ----- 55 - 63 mph 24-27.5 m/s\n",
    "    11 -- Storm ---------- 64 - 73 mph 28-31.5 m/s\n",
    "    12 -- Hurricane ------ over 73 mph over 32 m/s\"\"\"\n",
    "    \n",
    "    #Define intervals:\n",
    "    if value < 0.5:\n",
    "        value = 0\n",
    "    if value >= 0.5 and value < 2:\n",
    "        value = 1\n",
    "    if value >= 2 and value < 3:\n",
    "        value = 2\n",
    "    if value >=3 and value < 5:\n",
    "        value = 3\n",
    "    if value >=5 and value < 8:\n",
    "        value = 4\n",
    "    if  value >=8 and value < 10.5:\n",
    "        value = 5\n",
    "    if value >=10.5 and value < 13.5:\n",
    "        value = 6\n",
    "    if value >= 13.5 and value < 16.5:\n",
    "        value = 7\n",
    "    if value >= 16.5 and value < 20:\n",
    "        value = 8\n",
    "    if value >= 20 and value < 23.5:\n",
    "        value = 9\n",
    "    if value >= 23.5 and value < 27.5:\n",
    "        value = 10\n",
    "    if value >= 27.5 and value < 31.5:\n",
    "        value = 11\n",
    "    if value >= 31.5:\n",
    "        value = 12\n",
    "        \n",
    "    return value"
   ]
  },
  {
   "cell_type": "code",
   "execution_count": 6,
   "metadata": {
    "scrolled": true
   },
   "outputs": [
    {
     "data": {
      "text/html": [
       "<div>\n",
       "<style>\n",
       "    .dataframe thead tr:only-child th {\n",
       "        text-align: right;\n",
       "    }\n",
       "\n",
       "    .dataframe thead th {\n",
       "        text-align: left;\n",
       "    }\n",
       "\n",
       "    .dataframe tbody tr th {\n",
       "        vertical-align: top;\n",
       "    }\n",
       "</style>\n",
       "<table border=\"1\" class=\"dataframe\">\n",
       "  <thead>\n",
       "    <tr style=\"text-align: right;\">\n",
       "      <th></th>\n",
       "      <th>Lat</th>\n",
       "      <th>Lon</th>\n",
       "      <th>Ele</th>\n",
       "      <th>YR--MODAHRMN</th>\n",
       "      <th>DIR</th>\n",
       "      <th>SPD</th>\n",
       "      <th>TEMP</th>\n",
       "      <th>SLP</th>\n",
       "    </tr>\n",
       "  </thead>\n",
       "  <tbody>\n",
       "    <tr>\n",
       "      <th>0</th>\n",
       "      <td>60.383</td>\n",
       "      <td>22.55</td>\n",
       "      <td>5.2</td>\n",
       "      <td>20150101</td>\n",
       "      <td>4.712389</td>\n",
       "      <td>2</td>\n",
       "      <td>35.75</td>\n",
       "      <td>1007.03181818</td>\n",
       "    </tr>\n",
       "    <tr>\n",
       "      <th>1</th>\n",
       "      <td>60.383</td>\n",
       "      <td>22.55</td>\n",
       "      <td>5.2</td>\n",
       "      <td>20150102</td>\n",
       "      <td>4.712389</td>\n",
       "      <td>4</td>\n",
       "      <td>38.5</td>\n",
       "      <td>981.977272727</td>\n",
       "    </tr>\n",
       "    <tr>\n",
       "      <th>2</th>\n",
       "      <td>60.383</td>\n",
       "      <td>22.55</td>\n",
       "      <td>5.2</td>\n",
       "      <td>20150103</td>\n",
       "      <td>-1.516701</td>\n",
       "      <td>3</td>\n",
       "      <td>35.6818181818</td>\n",
       "      <td>978.972727273</td>\n",
       "    </tr>\n",
       "    <tr>\n",
       "      <th>3</th>\n",
       "      <td>60.383</td>\n",
       "      <td>22.55</td>\n",
       "      <td>5.2</td>\n",
       "      <td>20150104</td>\n",
       "      <td>0.495934</td>\n",
       "      <td>4</td>\n",
       "      <td>29.8636363636</td>\n",
       "      <td>997.059090909</td>\n",
       "    </tr>\n",
       "    <tr>\n",
       "      <th>4</th>\n",
       "      <td>60.383</td>\n",
       "      <td>22.55</td>\n",
       "      <td>5.2</td>\n",
       "      <td>20150105</td>\n",
       "      <td>0.379936</td>\n",
       "      <td>4</td>\n",
       "      <td>13.9166666667</td>\n",
       "      <td>1020.12083333</td>\n",
       "    </tr>\n",
       "    <tr>\n",
       "      <th>5</th>\n",
       "      <td>60.383</td>\n",
       "      <td>22.55</td>\n",
       "      <td>5.2</td>\n",
       "      <td>20150106</td>\n",
       "      <td>1.570796</td>\n",
       "      <td>1</td>\n",
       "      <td>11.75</td>\n",
       "      <td>1030.37083333</td>\n",
       "    </tr>\n",
       "    <tr>\n",
       "      <th>6</th>\n",
       "      <td>60.383</td>\n",
       "      <td>22.55</td>\n",
       "      <td>5.2</td>\n",
       "      <td>20150107</td>\n",
       "      <td>4.712389</td>\n",
       "      <td>4</td>\n",
       "      <td>32.4583333333</td>\n",
       "      <td>1019.10416667</td>\n",
       "    </tr>\n",
       "    <tr>\n",
       "      <th>7</th>\n",
       "      <td>60.383</td>\n",
       "      <td>22.55</td>\n",
       "      <td>5.2</td>\n",
       "      <td>20150108</td>\n",
       "      <td>4.712389</td>\n",
       "      <td>3</td>\n",
       "      <td>35.625</td>\n",
       "      <td>1002.35</td>\n",
       "    </tr>\n",
       "    <tr>\n",
       "      <th>8</th>\n",
       "      <td>60.383</td>\n",
       "      <td>22.55</td>\n",
       "      <td>5.2</td>\n",
       "      <td>20150109</td>\n",
       "      <td>4.712389</td>\n",
       "      <td>1</td>\n",
       "      <td>33.2083333333</td>\n",
       "      <td>989.120833333</td>\n",
       "    </tr>\n",
       "    <tr>\n",
       "      <th>9</th>\n",
       "      <td>60.383</td>\n",
       "      <td>22.55</td>\n",
       "      <td>5.2</td>\n",
       "      <td>20150110</td>\n",
       "      <td>1.570796</td>\n",
       "      <td>1</td>\n",
       "      <td>31.3333333333</td>\n",
       "      <td>982.275</td>\n",
       "    </tr>\n",
       "  </tbody>\n",
       "</table>\n",
       "</div>"
      ],
      "text/plain": [
       "      Lat    Lon  Ele  YR--MODAHRMN       DIR  SPD           TEMP  \\\n",
       "0  60.383  22.55  5.2      20150101  4.712389    2          35.75   \n",
       "1  60.383  22.55  5.2      20150102  4.712389    4           38.5   \n",
       "2  60.383  22.55  5.2      20150103 -1.516701    3  35.6818181818   \n",
       "3  60.383  22.55  5.2      20150104  0.495934    4  29.8636363636   \n",
       "4  60.383  22.55  5.2      20150105  0.379936    4  13.9166666667   \n",
       "5  60.383  22.55  5.2      20150106  1.570796    1          11.75   \n",
       "6  60.383  22.55  5.2      20150107  4.712389    4  32.4583333333   \n",
       "7  60.383  22.55  5.2      20150108  4.712389    3         35.625   \n",
       "8  60.383  22.55  5.2      20150109  4.712389    1  33.2083333333   \n",
       "9  60.383  22.55  5.2      20150110  1.570796    1  31.3333333333   \n",
       "\n",
       "             SLP  \n",
       "0  1007.03181818  \n",
       "1  981.977272727  \n",
       "2  978.972727273  \n",
       "3  997.059090909  \n",
       "4  1020.12083333  \n",
       "5  1030.37083333  \n",
       "6  1019.10416667  \n",
       "7        1002.35  \n",
       "8  989.120833333  \n",
       "9        982.275  "
      ]
     },
     "execution_count": 6,
     "metadata": {},
     "output_type": "execute_result"
    }
   ],
   "source": [
    "#Apply the transformation to 'SPD' Column:\n",
    "data['SPD'] = data['SPD'].map(beaufort)\n",
    "\n",
    "#sanity check:\n",
    "data[:10]\n",
    "    "
   ]
  },
  {
   "cell_type": "code",
   "execution_count": 7,
   "metadata": {
    "collapsed": true
   },
   "outputs": [],
   "source": [
    "# fix the DIR interval to be [0,2pi]\n",
    "def fixInterval(values):\n",
    "    #Add 2pi to any negative value found in the DIR column:\n",
    "    if values < 0:\n",
    "        values+=2*np.pi\n",
    "    return values"
   ]
  },
  {
   "cell_type": "code",
   "execution_count": 8,
   "metadata": {},
   "outputs": [
    {
     "data": {
      "text/plain": [
       "count    20752.000000\n",
       "mean         3.875966\n",
       "std          1.672421\n",
       "min          0.000228\n",
       "25%          1.570796\n",
       "50%          4.712389\n",
       "75%          4.712389\n",
       "max          6.283185\n",
       "Name: DIR, dtype: float64"
      ]
     },
     "execution_count": 8,
     "metadata": {},
     "output_type": "execute_result"
    }
   ],
   "source": [
    "#Transform 'DIR'  column:\n",
    "data['DIR'] = data['DIR'].map(fixInterval)\n",
    "\n",
    "#sanity check:\n",
    "data['DIR'].describe()"
   ]
  },
  {
   "cell_type": "code",
   "execution_count": 9,
   "metadata": {
    "collapsed": true
   },
   "outputs": [],
   "source": [
    "#Make Cardinal Directions:\n",
    "def makeDirection(values):\n",
    "    \"\"\"MAKEDIRECTION puts all DIR values on the closed interval [0,2pi]. 8 Subdivisions will define ranges for \n",
    "    the 8 cardinal directions. If a value is an element of one of the 8 sub-intervals, then it will be encoded\n",
    "    as follows:\n",
    "    0--N: ------[0,pi/8]U[15pi/8,2pi]\n",
    "    1--NE:------[pi/8,3pi/8]\n",
    "    2--E: ------[3pi/8,5pi/8]\n",
    "    3--SE:------[5pi/8,7pi/8]\n",
    "    4--S: ------[7pi/8,9pi/8] \n",
    "    5--SW:------[9pi/8,11pi/8]\n",
    "    6--W: ------[11pi/8,13pi/8]\n",
    "    7--NW:------[13pi/8,15pi/8]\"\"\"\n",
    "    \n",
    "    #encode values:\n",
    "    if (values >= 0 and values <= np.pi/8) or (values >= 15*np.pi/8 and values <= 2*np.pi):\n",
    "        values = 0\n",
    "    elif values > np.pi/8 and values < 3*np.pi/8:\n",
    "        values = 1\n",
    "    elif values >= 3*np.pi/8 and values <= 5*np.pi/8:\n",
    "        values = 2\n",
    "    elif values > 5*np.pi/8 and values < 7*np.pi/8:\n",
    "        values = 3\n",
    "    elif values >= 7*np.pi/8 and values <= 9*np.pi/8:\n",
    "        values = 4\n",
    "    elif values > 9*np.pi/8 and values < 11*np.pi/8:\n",
    "        values = 5\n",
    "    elif values >= 11*np.pi/8 and values <= 13*np.pi/8:\n",
    "        values = 6\n",
    "    elif values > 13*np.pi/8 and values < 15*np.pi/8:\n",
    "        values = 7\n",
    "    return values"
   ]
  },
  {
   "cell_type": "code",
   "execution_count": 10,
   "metadata": {},
   "outputs": [
    {
     "data": {
      "text/html": [
       "<div>\n",
       "<style>\n",
       "    .dataframe thead tr:only-child th {\n",
       "        text-align: right;\n",
       "    }\n",
       "\n",
       "    .dataframe thead th {\n",
       "        text-align: left;\n",
       "    }\n",
       "\n",
       "    .dataframe tbody tr th {\n",
       "        vertical-align: top;\n",
       "    }\n",
       "</style>\n",
       "<table border=\"1\" class=\"dataframe\">\n",
       "  <thead>\n",
       "    <tr style=\"text-align: right;\">\n",
       "      <th></th>\n",
       "      <th>Lat</th>\n",
       "      <th>Lon</th>\n",
       "      <th>Ele</th>\n",
       "      <th>YR--MODAHRMN</th>\n",
       "      <th>DIR</th>\n",
       "      <th>SPD</th>\n",
       "      <th>TEMP</th>\n",
       "      <th>SLP</th>\n",
       "    </tr>\n",
       "  </thead>\n",
       "  <tbody>\n",
       "    <tr>\n",
       "      <th>0</th>\n",
       "      <td>60.383</td>\n",
       "      <td>22.55</td>\n",
       "      <td>5.2</td>\n",
       "      <td>20150101</td>\n",
       "      <td>6</td>\n",
       "      <td>2</td>\n",
       "      <td>35.75</td>\n",
       "      <td>1007.03181818</td>\n",
       "    </tr>\n",
       "    <tr>\n",
       "      <th>1</th>\n",
       "      <td>60.383</td>\n",
       "      <td>22.55</td>\n",
       "      <td>5.2</td>\n",
       "      <td>20150102</td>\n",
       "      <td>6</td>\n",
       "      <td>4</td>\n",
       "      <td>38.5</td>\n",
       "      <td>981.977272727</td>\n",
       "    </tr>\n",
       "    <tr>\n",
       "      <th>2</th>\n",
       "      <td>60.383</td>\n",
       "      <td>22.55</td>\n",
       "      <td>5.2</td>\n",
       "      <td>20150103</td>\n",
       "      <td>6</td>\n",
       "      <td>3</td>\n",
       "      <td>35.6818181818</td>\n",
       "      <td>978.972727273</td>\n",
       "    </tr>\n",
       "    <tr>\n",
       "      <th>3</th>\n",
       "      <td>60.383</td>\n",
       "      <td>22.55</td>\n",
       "      <td>5.2</td>\n",
       "      <td>20150104</td>\n",
       "      <td>1</td>\n",
       "      <td>4</td>\n",
       "      <td>29.8636363636</td>\n",
       "      <td>997.059090909</td>\n",
       "    </tr>\n",
       "    <tr>\n",
       "      <th>4</th>\n",
       "      <td>60.383</td>\n",
       "      <td>22.55</td>\n",
       "      <td>5.2</td>\n",
       "      <td>20150105</td>\n",
       "      <td>0</td>\n",
       "      <td>4</td>\n",
       "      <td>13.9166666667</td>\n",
       "      <td>1020.12083333</td>\n",
       "    </tr>\n",
       "    <tr>\n",
       "      <th>5</th>\n",
       "      <td>60.383</td>\n",
       "      <td>22.55</td>\n",
       "      <td>5.2</td>\n",
       "      <td>20150106</td>\n",
       "      <td>2</td>\n",
       "      <td>1</td>\n",
       "      <td>11.75</td>\n",
       "      <td>1030.37083333</td>\n",
       "    </tr>\n",
       "    <tr>\n",
       "      <th>6</th>\n",
       "      <td>60.383</td>\n",
       "      <td>22.55</td>\n",
       "      <td>5.2</td>\n",
       "      <td>20150107</td>\n",
       "      <td>6</td>\n",
       "      <td>4</td>\n",
       "      <td>32.4583333333</td>\n",
       "      <td>1019.10416667</td>\n",
       "    </tr>\n",
       "    <tr>\n",
       "      <th>7</th>\n",
       "      <td>60.383</td>\n",
       "      <td>22.55</td>\n",
       "      <td>5.2</td>\n",
       "      <td>20150108</td>\n",
       "      <td>6</td>\n",
       "      <td>3</td>\n",
       "      <td>35.625</td>\n",
       "      <td>1002.35</td>\n",
       "    </tr>\n",
       "    <tr>\n",
       "      <th>8</th>\n",
       "      <td>60.383</td>\n",
       "      <td>22.55</td>\n",
       "      <td>5.2</td>\n",
       "      <td>20150109</td>\n",
       "      <td>6</td>\n",
       "      <td>1</td>\n",
       "      <td>33.2083333333</td>\n",
       "      <td>989.120833333</td>\n",
       "    </tr>\n",
       "    <tr>\n",
       "      <th>9</th>\n",
       "      <td>60.383</td>\n",
       "      <td>22.55</td>\n",
       "      <td>5.2</td>\n",
       "      <td>20150110</td>\n",
       "      <td>2</td>\n",
       "      <td>1</td>\n",
       "      <td>31.3333333333</td>\n",
       "      <td>982.275</td>\n",
       "    </tr>\n",
       "  </tbody>\n",
       "</table>\n",
       "</div>"
      ],
      "text/plain": [
       "      Lat    Lon  Ele  YR--MODAHRMN  DIR  SPD           TEMP            SLP\n",
       "0  60.383  22.55  5.2      20150101    6    2          35.75  1007.03181818\n",
       "1  60.383  22.55  5.2      20150102    6    4           38.5  981.977272727\n",
       "2  60.383  22.55  5.2      20150103    6    3  35.6818181818  978.972727273\n",
       "3  60.383  22.55  5.2      20150104    1    4  29.8636363636  997.059090909\n",
       "4  60.383  22.55  5.2      20150105    0    4  13.9166666667  1020.12083333\n",
       "5  60.383  22.55  5.2      20150106    2    1          11.75  1030.37083333\n",
       "6  60.383  22.55  5.2      20150107    6    4  32.4583333333  1019.10416667\n",
       "7  60.383  22.55  5.2      20150108    6    3         35.625        1002.35\n",
       "8  60.383  22.55  5.2      20150109    6    1  33.2083333333  989.120833333\n",
       "9  60.383  22.55  5.2      20150110    2    1  31.3333333333        982.275"
      ]
     },
     "execution_count": 10,
     "metadata": {},
     "output_type": "execute_result"
    }
   ],
   "source": [
    "#Transform 'DIR' column:\n",
    "data['DIR'] =data['DIR'].map(makeDirection)\n",
    "\n",
    "#Sanity check:\n",
    "data[:10]"
   ]
  },
  {
   "cell_type": "code",
   "execution_count": 11,
   "metadata": {},
   "outputs": [
    {
     "name": "stdout",
     "output_type": "stream",
     "text": [
      "<class 'str'>\n"
     ]
    }
   ],
   "source": [
    "for val in data['TEMP']:\n",
    "    print(type(val))\n",
    "    break"
   ]
  },
  {
   "cell_type": "code",
   "execution_count": 12,
   "metadata": {},
   "outputs": [
    {
     "name": "stdout",
     "output_type": "stream",
     "text": [
      "<class 'str'>\n"
     ]
    }
   ],
   "source": [
    "for val in data['SLP']:\n",
    "    print(type(val))\n",
    "    break"
   ]
  },
  {
   "cell_type": "markdown",
   "metadata": {},
   "source": [
    "That's not good! "
   ]
  },
  {
   "cell_type": "code",
   "execution_count": 13,
   "metadata": {
    "collapsed": true
   },
   "outputs": [],
   "source": [
    "#Convert 'TEMP' and 'SLP' columns into floats:\n",
    "def convert2Float(values):\n",
    "    \"\"\"CONVERT2FLOAT takes a string argument and converts it to a float type\"\"\"\n",
    "    return float(values)"
   ]
  },
  {
   "cell_type": "code",
   "execution_count": 14,
   "metadata": {},
   "outputs": [
    {
     "ename": "ValueError",
     "evalue": "could not convert string to float: '***'",
     "output_type": "error",
     "traceback": [
      "\u001b[1;31m---------------------------------------------------------------------------\u001b[0m",
      "\u001b[1;31mValueError\u001b[0m                                Traceback (most recent call last)",
      "\u001b[1;32m<ipython-input-14-de97a7e37d1d>\u001b[0m in \u001b[0;36m<module>\u001b[1;34m()\u001b[0m\n\u001b[0;32m      1\u001b[0m \u001b[1;31m#Convert to floats:\u001b[0m\u001b[1;33m\u001b[0m\u001b[1;33m\u001b[0m\u001b[0m\n\u001b[1;32m----> 2\u001b[1;33m \u001b[0mdata\u001b[0m\u001b[1;33m[\u001b[0m\u001b[1;34m'SLP'\u001b[0m\u001b[1;33m]\u001b[0m \u001b[1;33m=\u001b[0m \u001b[0mdata\u001b[0m\u001b[1;33m[\u001b[0m\u001b[1;34m'SLP'\u001b[0m\u001b[1;33m]\u001b[0m\u001b[1;33m.\u001b[0m\u001b[0mmap\u001b[0m\u001b[1;33m(\u001b[0m\u001b[0mconvert2Float\u001b[0m\u001b[1;33m)\u001b[0m\u001b[1;33m\u001b[0m\u001b[0m\n\u001b[0m\u001b[0;32m      3\u001b[0m \u001b[0mdata\u001b[0m\u001b[1;33m[\u001b[0m\u001b[1;34m'TEMP'\u001b[0m\u001b[1;33m]\u001b[0m \u001b[1;33m=\u001b[0m \u001b[0mdata\u001b[0m\u001b[1;33m[\u001b[0m\u001b[1;34m'TEMP'\u001b[0m\u001b[1;33m]\u001b[0m\u001b[1;33m.\u001b[0m\u001b[0mmap\u001b[0m\u001b[1;33m(\u001b[0m\u001b[0mconvert2Float\u001b[0m\u001b[1;33m)\u001b[0m\u001b[1;33m\u001b[0m\u001b[0m\n\u001b[0;32m      4\u001b[0m \u001b[1;33m\u001b[0m\u001b[0m\n\u001b[0;32m      5\u001b[0m \u001b[1;31m#Sanity check:\u001b[0m\u001b[1;33m\u001b[0m\u001b[1;33m\u001b[0m\u001b[0m\n",
      "\u001b[1;32mC:\\Users\\Dave Landay\\Anaconda3\\lib\\site-packages\\pandas\\core\\series.py\u001b[0m in \u001b[0;36mmap\u001b[1;34m(self, arg, na_action)\u001b[0m\n\u001b[0;32m   2156\u001b[0m         \u001b[1;32melse\u001b[0m\u001b[1;33m:\u001b[0m\u001b[1;33m\u001b[0m\u001b[0m\n\u001b[0;32m   2157\u001b[0m             \u001b[1;31m# arg is a function\u001b[0m\u001b[1;33m\u001b[0m\u001b[1;33m\u001b[0m\u001b[0m\n\u001b[1;32m-> 2158\u001b[1;33m             \u001b[0mnew_values\u001b[0m \u001b[1;33m=\u001b[0m \u001b[0mmap_f\u001b[0m\u001b[1;33m(\u001b[0m\u001b[0mvalues\u001b[0m\u001b[1;33m,\u001b[0m \u001b[0marg\u001b[0m\u001b[1;33m)\u001b[0m\u001b[1;33m\u001b[0m\u001b[0m\n\u001b[0m\u001b[0;32m   2159\u001b[0m \u001b[1;33m\u001b[0m\u001b[0m\n\u001b[0;32m   2160\u001b[0m         return self._constructor(new_values,\n",
      "\u001b[1;32mpandas\\_libs\\src\\inference.pyx\u001b[0m in \u001b[0;36mpandas._libs.lib.map_infer (pandas\\_libs\\lib.c:66440)\u001b[1;34m()\u001b[0m\n",
      "\u001b[1;32m<ipython-input-13-6d4161953471>\u001b[0m in \u001b[0;36mconvert2Float\u001b[1;34m(values)\u001b[0m\n\u001b[0;32m      2\u001b[0m \u001b[1;32mdef\u001b[0m \u001b[0mconvert2Float\u001b[0m\u001b[1;33m(\u001b[0m\u001b[0mvalues\u001b[0m\u001b[1;33m)\u001b[0m\u001b[1;33m:\u001b[0m\u001b[1;33m\u001b[0m\u001b[0m\n\u001b[0;32m      3\u001b[0m     \u001b[1;34m\"\"\"CONVERT2FLOAT takes a string argument and converts it to a float type\"\"\"\u001b[0m\u001b[1;33m\u001b[0m\u001b[0m\n\u001b[1;32m----> 4\u001b[1;33m     \u001b[1;32mreturn\u001b[0m \u001b[0mfloat\u001b[0m\u001b[1;33m(\u001b[0m\u001b[0mvalues\u001b[0m\u001b[1;33m)\u001b[0m\u001b[1;33m\u001b[0m\u001b[0m\n\u001b[0m",
      "\u001b[1;31mValueError\u001b[0m: could not convert string to float: '***'"
     ]
    }
   ],
   "source": [
    "#Convert to floats:\n",
    "data['SLP'] = data['SLP'].map(convert2Float)\n",
    "data['TEMP'] = data['TEMP'].map(convert2Float)\n",
    "\n",
    "#Sanity check:\n",
    "for val in data['SLP']:\n",
    "    print(type(val))\n",
    "    break\n",
    "    \n",
    "for val in data['TEMP']:\n",
    "    print(type(val))\n",
    "    break"
   ]
  },
  {
   "cell_type": "markdown",
   "metadata": {},
   "source": [
    "This means we have a string that is not a number:"
   ]
  },
  {
   "cell_type": "code",
   "execution_count": 15,
   "metadata": {},
   "outputs": [
    {
     "name": "stdout",
     "output_type": "stream",
     "text": [
      "12270 ***\n",
      "12273 ***\n",
      "2\n"
     ]
    }
   ],
   "source": [
    "count = 0\n",
    "index_2_remove = []\n",
    "for idx,val in enumerate(data['TEMP']):\n",
    "    if '*' in val:\n",
    "        count+=1\n",
    "        index_2_remove.append(idx)\n",
    "        print(idx,val)\n",
    "print(count)  "
   ]
  },
  {
   "cell_type": "code",
   "execution_count": 16,
   "metadata": {},
   "outputs": [
    {
     "name": "stdout",
     "output_type": "stream",
     "text": [
      "3662\n"
     ]
    }
   ],
   "source": [
    "count = 0\n",
    "\n",
    "for idx,val in enumerate(data['SLP']):\n",
    "    if '*' in val:\n",
    "        count+=1\n",
    "        index_2_remove.append(idx)\n",
    "print(count)  "
   ]
  },
  {
   "cell_type": "code",
   "execution_count": 17,
   "metadata": {},
   "outputs": [
    {
     "data": {
      "text/plain": [
       "(20752, 8)"
      ]
     },
     "execution_count": 17,
     "metadata": {},
     "output_type": "execute_result"
    }
   ],
   "source": [
    "#get a sense of how much the data will shrink by:\n",
    "data.shape"
   ]
  },
  {
   "cell_type": "code",
   "execution_count": 18,
   "metadata": {},
   "outputs": [
    {
     "data": {
      "text/plain": [
       "3662"
      ]
     },
     "execution_count": 18,
     "metadata": {},
     "output_type": "execute_result"
    }
   ],
   "source": [
    "#prepare indices for iterative removal:\n",
    "index_2_remove = set(index_2_remove)\n",
    "\n",
    "#sanity check:\n",
    "len(index_2_remove)"
   ]
  },
  {
   "cell_type": "markdown",
   "metadata": {},
   "source": [
    "Drop the rows at each index in `index_2_remove`:"
   ]
  },
  {
   "cell_type": "code",
   "execution_count": 19,
   "metadata": {},
   "outputs": [
    {
     "data": {
      "text/plain": [
       "(17090, 8)"
      ]
     },
     "execution_count": 19,
     "metadata": {},
     "output_type": "execute_result"
    }
   ],
   "source": [
    "for idx in index_2_remove:\n",
    "    data.drop(idx, inplace=True)\n",
    "\n",
    "#Sanity check:\n",
    "data.shape"
   ]
  },
  {
   "cell_type": "code",
   "execution_count": 20,
   "metadata": {
    "collapsed": true
   },
   "outputs": [],
   "source": [
    "#Convert to floats:\n",
    "data['SLP'] = data['SLP'].map(convert2Float)\n",
    "data['TEMP'] = data['TEMP'].map(convert2Float)"
   ]
  },
  {
   "cell_type": "code",
   "execution_count": 21,
   "metadata": {},
   "outputs": [
    {
     "name": "stdout",
     "output_type": "stream",
     "text": [
      "<class 'numpy.float64'>\n",
      "<class 'numpy.float64'>\n"
     ]
    }
   ],
   "source": [
    "#Sanity check:\n",
    "for val in data['SLP']:\n",
    "    print(type(val))\n",
    "    break\n",
    "    \n",
    "for val in data['TEMP']:\n",
    "    print(type(val))\n",
    "    break"
   ]
  },
  {
   "cell_type": "code",
   "execution_count": 22,
   "metadata": {},
   "outputs": [
    {
     "data": {
      "text/plain": [
       "count    17090.000000\n",
       "mean        44.316354\n",
       "std         12.164029\n",
       "min         -8.250000\n",
       "25%         35.272727\n",
       "50%         43.028523\n",
       "75%         54.909091\n",
       "max         74.545455\n",
       "Name: TEMP, dtype: float64"
      ]
     },
     "execution_count": 22,
     "metadata": {},
     "output_type": "execute_result"
    }
   ],
   "source": [
    "#check the range of temperatures:\n",
    "data['TEMP'].describe()"
   ]
  },
  {
   "cell_type": "code",
   "execution_count": 23,
   "metadata": {},
   "outputs": [
    {
     "data": {
      "text/plain": [
       "count    17090.000000\n",
       "mean      1011.449581\n",
       "std         12.840634\n",
       "min        966.559091\n",
       "25%       1003.666667\n",
       "50%       1011.370833\n",
       "75%       1018.803125\n",
       "max       1053.604167\n",
       "Name: SLP, dtype: float64"
      ]
     },
     "execution_count": 23,
     "metadata": {},
     "output_type": "execute_result"
    }
   ],
   "source": [
    "#check the range of pressures:\n",
    "data['SLP'].describe()"
   ]
  },
  {
   "cell_type": "markdown",
   "metadata": {},
   "source": [
    "Will this amount of variability affect predictive power?"
   ]
  },
  {
   "cell_type": "markdown",
   "metadata": {},
   "source": [
    "Because wind speed and direction are correlated, this becomes a multi-output problem where the target is a 2D array of size 2 x 17090.<br><br>\n",
    "This feature is supported inherantly in sklearn's RandomForestClassifier() module... DOPE!"
   ]
  },
  {
   "cell_type": "code",
   "execution_count": 24,
   "metadata": {},
   "outputs": [
    {
     "name": "stdout",
     "output_type": "stream",
     "text": [
      "      Lat    Lon  Ele  YR--MODAHRMN       TEMP          SLP\n",
      "0  60.383  22.55  5.2      20150101  35.750000  1007.031818\n",
      "1  60.383  22.55  5.2      20150102  38.500000   981.977273\n",
      "2  60.383  22.55  5.2      20150103  35.681818   978.972727\n",
      "3  60.383  22.55  5.2      20150104  29.863636   997.059091\n",
      "4  60.383  22.55  5.2      20150105  13.916667  1020.120833\n",
      "5  60.383  22.55  5.2      20150106  11.750000  1030.370833\n",
      "6  60.383  22.55  5.2      20150107  32.458333  1019.104167\n",
      "7  60.383  22.55  5.2      20150108  35.625000  1002.350000\n",
      "8  60.383  22.55  5.2      20150109  33.208333   989.120833\n",
      "9  60.383  22.55  5.2      20150110  31.333333   982.275000\n",
      "   SPD  DIR\n",
      "0    2    6\n",
      "1    4    6\n",
      "2    3    6\n",
      "3    4    1\n",
      "4    4    0\n",
      "5    1    2\n",
      "6    4    6\n",
      "7    3    6\n",
      "8    1    6\n",
      "9    1    2\n"
     ]
    }
   ],
   "source": [
    "#prepare training and testing data. partition 80% train, 20% testing:\n",
    "X = pd.concat([data['Lat'],data['Lon'],data['Ele'],data['YR--MODAHRMN'],data['TEMP'],data['SLP']], axis=1)\n",
    "y = pd.concat([data['SPD'],data['DIR']], axis=1)\n",
    "\n",
    "#sanity check:\n",
    "print(X[:10])\n",
    "print(y[:10])"
   ]
  },
  {
   "cell_type": "code",
   "execution_count": 25,
   "metadata": {},
   "outputs": [
    {
     "name": "stdout",
     "output_type": "stream",
     "text": [
      "(13672, 6) (3418, 6) (13672, 2) (3418, 2)\n"
     ]
    }
   ],
   "source": [
    "#split the data:\n",
    "X_train, X_test, y_train, y_test = tts(X, y, test_size = 0.2, random_state = 0)\n",
    "\n",
    "#sanity check:\n",
    "print(X_train.shape,X_test.shape,y_train.shape,y_test.shape)\n"
   ]
  },
  {
   "cell_type": "markdown",
   "metadata": {
    "collapsed": true
   },
   "source": [
    "How many Decision trees should be used to build the random forest?"
   ]
  },
  {
   "cell_type": "code",
   "execution_count": 26,
   "metadata": {},
   "outputs": [
    {
     "data": {
      "text/plain": [
       "array([[4, 6],\n",
       "       [4, 6],\n",
       "       [5, 2],\n",
       "       ..., \n",
       "       [5, 1],\n",
       "       [4, 6],\n",
       "       [4, 6]], dtype=int64)"
      ]
     },
     "execution_count": 26,
     "metadata": {},
     "output_type": "execute_result"
    }
   ],
   "source": [
    "#Create the model:\n",
    "forest = RandomForestClassifier(n_estimators=100, random_state=0)\n",
    "multi_output_forest = MultiOutputClassifier(forest, n_jobs = -2) #Use all but 1 CPU's\n",
    "\n",
    "#Fit the model:\n",
    "multi_output_forest.fit(X_train, y_train).predict(X_train)"
   ]
  },
  {
   "cell_type": "markdown",
   "metadata": {
    "collapsed": true
   },
   "source": [
    "Check the accuracy:"
   ]
  },
  {
   "cell_type": "code",
   "execution_count": 27,
   "metadata": {},
   "outputs": [
    {
     "name": "stdout",
     "output_type": "stream",
     "text": [
      "[ 0.2064502   0.20847048  0.22163704]\n"
     ]
    }
   ],
   "source": [
    "scores = cross_val_score(multi_output_forest, X_train, y_train)\n",
    "print(scores)"
   ]
  },
  {
   "cell_type": "markdown",
   "metadata": {},
   "source": [
    "Hmmm... Pretty shitty"
   ]
  },
  {
   "cell_type": "code",
   "execution_count": null,
   "metadata": {
    "collapsed": true
   },
   "outputs": [],
   "source": []
  }
 ],
 "metadata": {
  "kernelspec": {
   "display_name": "Python 3",
   "language": "python",
   "name": "python3"
  },
  "language_info": {
   "codemirror_mode": {
    "name": "ipython",
    "version": 3
   },
   "file_extension": ".py",
   "mimetype": "text/x-python",
   "name": "python",
   "nbconvert_exporter": "python",
   "pygments_lexer": "ipython3",
   "version": "3.6.1"
  }
 },
 "nbformat": 4,
 "nbformat_minor": 2
}
