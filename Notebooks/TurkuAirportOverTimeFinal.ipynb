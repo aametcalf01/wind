{
 "cells": [
  {
   "cell_type": "code",
   "execution_count": 1,
   "metadata": {},
   "outputs": [
    {
     "data": {
      "application/javascript": [
       "IPython.OutputArea.prototype._should_scroll = function(lines) {\n",
       "    return false;\n",
       "}"
      ],
      "text/plain": [
       "<IPython.core.display.Javascript object>"
      ]
     },
     "metadata": {},
     "output_type": "display_data"
    }
   ],
   "source": [
    "%%javascript\n",
    "IPython.OutputArea.prototype._should_scroll = function(lines) {\n",
    "    return false;\n",
    "}"
   ]
  },
  {
   "cell_type": "code",
   "execution_count": 2,
   "metadata": {
    "collapsed": true
   },
   "outputs": [],
   "source": [
    "import numpy as np\n",
    "import matplotlib.pyplot as plt\n",
    "import pandas as pd\n",
    "import os\n",
    "import datetime\n",
    "from sklearn.linear_model import LinearRegression\n",
    "from sklearn.metrics import mean_squared_error\n",
    "from sklearn.model_selection import cross_val_predict\n",
    "from sklearn.preprocessing import PolynomialFeatures\n",
    "from sklearn.model_selection import train_test_split\n",
    "import math\n",
    "from sklearn.utils import shuffle\n",
    "from sklearn.linear_model import Ridge\n",
    "from sklearn.preprocessing import scale"
   ]
  },
  {
   "cell_type": "code",
   "execution_count": 4,
   "metadata": {},
   "outputs": [
    {
     "data": {
      "text/html": [
       "<div>\n",
       "<style>\n",
       "    .dataframe thead tr:only-child th {\n",
       "        text-align: right;\n",
       "    }\n",
       "\n",
       "    .dataframe thead th {\n",
       "        text-align: left;\n",
       "    }\n",
       "\n",
       "    .dataframe tbody tr th {\n",
       "        vertical-align: top;\n",
       "    }\n",
       "</style>\n",
       "<table border=\"1\" class=\"dataframe\">\n",
       "  <thead>\n",
       "    <tr style=\"text-align: right;\">\n",
       "      <th></th>\n",
       "      <th>lat</th>\n",
       "      <th>lon</th>\n",
       "      <th>elevation</th>\n",
       "      <th>date</th>\n",
       "      <th>dir</th>\n",
       "      <th>spd</th>\n",
       "      <th>gus</th>\n",
       "      <th>temp</th>\n",
       "      <th>slp</th>\n",
       "    </tr>\n",
       "  </thead>\n",
       "  <tbody>\n",
       "    <tr>\n",
       "      <th>0</th>\n",
       "      <td>60.514</td>\n",
       "      <td>22.263</td>\n",
       "      <td>49.1</td>\n",
       "      <td>19020101</td>\n",
       "      <td>2.199135</td>\n",
       "      <td>23.700998</td>\n",
       "      <td>***</td>\n",
       "      <td>30.200000</td>\n",
       "      <td>994.28</td>\n",
       "    </tr>\n",
       "    <tr>\n",
       "      <th>1</th>\n",
       "      <td>60.514</td>\n",
       "      <td>22.263</td>\n",
       "      <td>49.1</td>\n",
       "      <td>19020102</td>\n",
       "      <td>2.443461</td>\n",
       "      <td>6.800000</td>\n",
       "      <td>***</td>\n",
       "      <td>17.200000</td>\n",
       "      <td>993.96</td>\n",
       "    </tr>\n",
       "    <tr>\n",
       "      <th>2</th>\n",
       "      <td>60.514</td>\n",
       "      <td>22.263</td>\n",
       "      <td>49.1</td>\n",
       "      <td>19020103</td>\n",
       "      <td>2.208953</td>\n",
       "      <td>9.938701</td>\n",
       "      <td>***</td>\n",
       "      <td>-0.200000</td>\n",
       "      <td>1005.08</td>\n",
       "    </tr>\n",
       "    <tr>\n",
       "      <th>3</th>\n",
       "      <td>60.514</td>\n",
       "      <td>22.263</td>\n",
       "      <td>49.1</td>\n",
       "      <td>19020104</td>\n",
       "      <td>3.949456</td>\n",
       "      <td>23.453623</td>\n",
       "      <td>***</td>\n",
       "      <td>28.733333</td>\n",
       "      <td>985.386666667</td>\n",
       "    </tr>\n",
       "    <tr>\n",
       "      <th>4</th>\n",
       "      <td>60.514</td>\n",
       "      <td>22.263</td>\n",
       "      <td>49.1</td>\n",
       "      <td>19020105</td>\n",
       "      <td>4.417350</td>\n",
       "      <td>5.170652</td>\n",
       "      <td>***</td>\n",
       "      <td>30.466667</td>\n",
       "      <td>978.293333333</td>\n",
       "    </tr>\n",
       "  </tbody>\n",
       "</table>\n",
       "</div>"
      ],
      "text/plain": [
       "      lat     lon  elevation      date       dir        spd  gus       temp  \\\n",
       "0  60.514  22.263       49.1  19020101  2.199135  23.700998  ***  30.200000   \n",
       "1  60.514  22.263       49.1  19020102  2.443461   6.800000  ***  17.200000   \n",
       "2  60.514  22.263       49.1  19020103  2.208953   9.938701  ***  -0.200000   \n",
       "3  60.514  22.263       49.1  19020104  3.949456  23.453623  ***  28.733333   \n",
       "4  60.514  22.263       49.1  19020105  4.417350   5.170652  ***  30.466667   \n",
       "\n",
       "             slp  \n",
       "0         994.28  \n",
       "1         993.96  \n",
       "2        1005.08  \n",
       "3  985.386666667  \n",
       "4  978.293333333  "
      ]
     },
     "execution_count": 4,
     "metadata": {},
     "output_type": "execute_result"
    }
   ],
   "source": [
    "file = os.getcwd()+\"/../data/029720-99999_allYrs_Avg.txt\"\n",
    "dat = pd.read_csv(file,header=None,names=[\"lat\", \"lon\", \"elevation\",\"date\",\"dir\",\"spd\",\"gus\",\"temp\",\"slp\"])\n",
    "dat.head()"
   ]
  },
  {
   "cell_type": "code",
   "execution_count": 6,
   "metadata": {},
   "outputs": [
    {
     "data": {
      "text/html": [
       "<div>\n",
       "<style>\n",
       "    .dataframe thead tr:only-child th {\n",
       "        text-align: right;\n",
       "    }\n",
       "\n",
       "    .dataframe thead th {\n",
       "        text-align: left;\n",
       "    }\n",
       "\n",
       "    .dataframe tbody tr th {\n",
       "        vertical-align: top;\n",
       "    }\n",
       "</style>\n",
       "<table border=\"1\" class=\"dataframe\">\n",
       "  <thead>\n",
       "    <tr style=\"text-align: right;\">\n",
       "      <th></th>\n",
       "      <th>lat</th>\n",
       "      <th>lon</th>\n",
       "      <th>elevation</th>\n",
       "      <th>date</th>\n",
       "      <th>dir</th>\n",
       "      <th>spd</th>\n",
       "      <th>gus</th>\n",
       "      <th>temp</th>\n",
       "      <th>slp</th>\n",
       "    </tr>\n",
       "  </thead>\n",
       "  <tbody>\n",
       "    <tr>\n",
       "      <th>0</th>\n",
       "      <td>60.514</td>\n",
       "      <td>22.263</td>\n",
       "      <td>49.1</td>\n",
       "      <td>1902-01-01</td>\n",
       "      <td>2.199135</td>\n",
       "      <td>23.700998</td>\n",
       "      <td>***</td>\n",
       "      <td>30.200000</td>\n",
       "      <td>994.28</td>\n",
       "    </tr>\n",
       "    <tr>\n",
       "      <th>1</th>\n",
       "      <td>60.514</td>\n",
       "      <td>22.263</td>\n",
       "      <td>49.1</td>\n",
       "      <td>1902-01-02</td>\n",
       "      <td>2.443461</td>\n",
       "      <td>6.800000</td>\n",
       "      <td>***</td>\n",
       "      <td>17.200000</td>\n",
       "      <td>993.96</td>\n",
       "    </tr>\n",
       "    <tr>\n",
       "      <th>2</th>\n",
       "      <td>60.514</td>\n",
       "      <td>22.263</td>\n",
       "      <td>49.1</td>\n",
       "      <td>1902-01-03</td>\n",
       "      <td>2.208953</td>\n",
       "      <td>9.938701</td>\n",
       "      <td>***</td>\n",
       "      <td>-0.200000</td>\n",
       "      <td>1005.08</td>\n",
       "    </tr>\n",
       "    <tr>\n",
       "      <th>3</th>\n",
       "      <td>60.514</td>\n",
       "      <td>22.263</td>\n",
       "      <td>49.1</td>\n",
       "      <td>1902-01-04</td>\n",
       "      <td>3.949456</td>\n",
       "      <td>23.453623</td>\n",
       "      <td>***</td>\n",
       "      <td>28.733333</td>\n",
       "      <td>985.386666667</td>\n",
       "    </tr>\n",
       "    <tr>\n",
       "      <th>4</th>\n",
       "      <td>60.514</td>\n",
       "      <td>22.263</td>\n",
       "      <td>49.1</td>\n",
       "      <td>1902-01-05</td>\n",
       "      <td>4.417350</td>\n",
       "      <td>5.170652</td>\n",
       "      <td>***</td>\n",
       "      <td>30.466667</td>\n",
       "      <td>978.293333333</td>\n",
       "    </tr>\n",
       "  </tbody>\n",
       "</table>\n",
       "</div>"
      ],
      "text/plain": [
       "      lat     lon  elevation       date       dir        spd  gus       temp  \\\n",
       "0  60.514  22.263       49.1 1902-01-01  2.199135  23.700998  ***  30.200000   \n",
       "1  60.514  22.263       49.1 1902-01-02  2.443461   6.800000  ***  17.200000   \n",
       "2  60.514  22.263       49.1 1902-01-03  2.208953   9.938701  ***  -0.200000   \n",
       "3  60.514  22.263       49.1 1902-01-04  3.949456  23.453623  ***  28.733333   \n",
       "4  60.514  22.263       49.1 1902-01-05  4.417350   5.170652  ***  30.466667   \n",
       "\n",
       "             slp  \n",
       "0         994.28  \n",
       "1         993.96  \n",
       "2        1005.08  \n",
       "3  985.386666667  \n",
       "4  978.293333333  "
      ]
     },
     "execution_count": 6,
     "metadata": {},
     "output_type": "execute_result"
    }
   ],
   "source": [
    "#switch date to datetime object\n",
    "dat['date'] = pd.to_datetime(dat['date'],format = '%Y%m%d')\n",
    "dat.head()"
   ]
  },
  {
   "cell_type": "code",
   "execution_count": 7,
   "metadata": {},
   "outputs": [
    {
     "data": {
      "text/html": [
       "<div>\n",
       "<style>\n",
       "    .dataframe thead tr:only-child th {\n",
       "        text-align: right;\n",
       "    }\n",
       "\n",
       "    .dataframe thead th {\n",
       "        text-align: left;\n",
       "    }\n",
       "\n",
       "    .dataframe tbody tr th {\n",
       "        vertical-align: top;\n",
       "    }\n",
       "</style>\n",
       "<table border=\"1\" class=\"dataframe\">\n",
       "  <thead>\n",
       "    <tr style=\"text-align: right;\">\n",
       "      <th></th>\n",
       "      <th>lat</th>\n",
       "      <th>lon</th>\n",
       "      <th>elevation</th>\n",
       "      <th>date</th>\n",
       "      <th>dir</th>\n",
       "      <th>spd</th>\n",
       "      <th>gus</th>\n",
       "      <th>temp</th>\n",
       "      <th>slp</th>\n",
       "      <th>year</th>\n",
       "      <th>month</th>\n",
       "      <th>day</th>\n",
       "      <th>dayOfYear</th>\n",
       "    </tr>\n",
       "  </thead>\n",
       "  <tbody>\n",
       "    <tr>\n",
       "      <th>0</th>\n",
       "      <td>60.514</td>\n",
       "      <td>22.263</td>\n",
       "      <td>49.1</td>\n",
       "      <td>1902-01-01</td>\n",
       "      <td>126.001139</td>\n",
       "      <td>23.700998</td>\n",
       "      <td>NaN</td>\n",
       "      <td>30.200000</td>\n",
       "      <td>994.28</td>\n",
       "      <td>1902</td>\n",
       "      <td>1</td>\n",
       "      <td>1</td>\n",
       "      <td>1</td>\n",
       "    </tr>\n",
       "    <tr>\n",
       "      <th>1</th>\n",
       "      <td>60.514</td>\n",
       "      <td>22.263</td>\n",
       "      <td>49.1</td>\n",
       "      <td>1902-01-02</td>\n",
       "      <td>140.000000</td>\n",
       "      <td>6.800000</td>\n",
       "      <td>NaN</td>\n",
       "      <td>17.200000</td>\n",
       "      <td>993.96</td>\n",
       "      <td>1902</td>\n",
       "      <td>1</td>\n",
       "      <td>2</td>\n",
       "      <td>2</td>\n",
       "    </tr>\n",
       "    <tr>\n",
       "      <th>2</th>\n",
       "      <td>60.514</td>\n",
       "      <td>22.263</td>\n",
       "      <td>49.1</td>\n",
       "      <td>1902-01-03</td>\n",
       "      <td>126.563681</td>\n",
       "      <td>9.938701</td>\n",
       "      <td>NaN</td>\n",
       "      <td>-0.200000</td>\n",
       "      <td>1005.08</td>\n",
       "      <td>1902</td>\n",
       "      <td>1</td>\n",
       "      <td>3</td>\n",
       "      <td>3</td>\n",
       "    </tr>\n",
       "    <tr>\n",
       "      <th>3</th>\n",
       "      <td>60.514</td>\n",
       "      <td>22.263</td>\n",
       "      <td>49.1</td>\n",
       "      <td>1902-01-04</td>\n",
       "      <td>226.287188</td>\n",
       "      <td>23.453623</td>\n",
       "      <td>NaN</td>\n",
       "      <td>28.733333</td>\n",
       "      <td>985.386666667</td>\n",
       "      <td>1902</td>\n",
       "      <td>1</td>\n",
       "      <td>4</td>\n",
       "      <td>4</td>\n",
       "    </tr>\n",
       "    <tr>\n",
       "      <th>4</th>\n",
       "      <td>60.514</td>\n",
       "      <td>22.263</td>\n",
       "      <td>49.1</td>\n",
       "      <td>1902-01-05</td>\n",
       "      <td>253.095503</td>\n",
       "      <td>5.170652</td>\n",
       "      <td>NaN</td>\n",
       "      <td>30.466667</td>\n",
       "      <td>978.293333333</td>\n",
       "      <td>1902</td>\n",
       "      <td>1</td>\n",
       "      <td>5</td>\n",
       "      <td>5</td>\n",
       "    </tr>\n",
       "  </tbody>\n",
       "</table>\n",
       "</div>"
      ],
      "text/plain": [
       "      lat     lon  elevation       date         dir        spd  gus  \\\n",
       "0  60.514  22.263       49.1 1902-01-01  126.001139  23.700998  NaN   \n",
       "1  60.514  22.263       49.1 1902-01-02  140.000000   6.800000  NaN   \n",
       "2  60.514  22.263       49.1 1902-01-03  126.563681   9.938701  NaN   \n",
       "3  60.514  22.263       49.1 1902-01-04  226.287188  23.453623  NaN   \n",
       "4  60.514  22.263       49.1 1902-01-05  253.095503   5.170652  NaN   \n",
       "\n",
       "        temp            slp  year  month  day  dayOfYear  \n",
       "0  30.200000         994.28  1902      1    1          1  \n",
       "1  17.200000         993.96  1902      1    2          2  \n",
       "2  -0.200000        1005.08  1902      1    3          3  \n",
       "3  28.733333  985.386666667  1902      1    4          4  \n",
       "4  30.466667  978.293333333  1902      1    5          5  "
      ]
     },
     "execution_count": 7,
     "metadata": {},
     "output_type": "execute_result"
    }
   ],
   "source": [
    "#Add more date columns for specific analyses\n",
    "dat['year'] = pd.DatetimeIndex(dat['date']).year\n",
    "dat['month'] = pd.DatetimeIndex(dat['date']).month\n",
    "dat['day'] = pd.DatetimeIndex(dat['date']).day\n",
    "dat['dayOfYear'] = pd.DatetimeIndex(dat['date']).dayofyear\n",
    "dat['dir']=dat['dir']*(180/math.pi)\n",
    "\n",
    "\n",
    "#Replace *** with NaN's \n",
    "dat = dat.replace('***',np.nan)\n",
    "\n",
    "dat.head()"
   ]
  },
  {
   "cell_type": "code",
   "execution_count": 12,
   "metadata": {},
   "outputs": [
    {
     "data": {
      "image/png": "[encoded data removed]",
      "text/plain": [
       "<matplotlib.figure.Figure at 0x115c76c18>"
      ]
     },
     "metadata": {},
     "output_type": "display_data"
    }
   ],
   "source": [
    "plt.plot_date(dat[\"date\"], dat['spd'],marker = 'o',ms = .4,color='k')\n",
    "plt.ylabel(\"Wind Speed (MPS)\")\n",
    "plt.xlabel(\"Date\")\n",
    "plt.title(\"Turku Wind Speed Distribution\")\n",
    "plt.show()"
   ]
  },
  {
   "cell_type": "code",
   "execution_count": 9,
   "metadata": {
    "collapsed": true
   },
   "outputs": [],
   "source": [
    "#Since the speed data pre-1950 seems a bit off\n",
    "dat=dat[dat['year']>1950]"
   ]
  },
  {
   "cell_type": "code",
   "execution_count": 11,
   "metadata": {},
   "outputs": [
    {
     "data": {
      "image/png": "[encoded data removed]",
      "text/plain": [
       "<matplotlib.figure.Figure at 0x115b7f780>"
      ]
     },
     "metadata": {},
     "output_type": "display_data"
    }
   ],
   "source": [
    "plt.plot_date(dat[\"date\"], dat['spd'],marker = 'o',ms = .4,color='k')\n",
    "plt.ylabel(\"Wind Speed (MPS)\")\n",
    "plt.xlabel(\"Date\")\n",
    "plt.title(\"Turku Wind Speed Distribution\")\n",
    "plt.show()"
   ]
  },
  {
   "cell_type": "markdown",
   "metadata": {},
   "source": [
    "### We take only post 1950 data since the early part of the distribution looks off.  First we predict speed with the entire feature set."
   ]
  },
  {
   "cell_type": "code",
   "execution_count": 16,
   "metadata": {},
   "outputs": [
    {
     "name": "stdout",
     "output_type": "stream",
     "text": [
      "Cross validation sqrt(MSE) =  2.5539020602315454\n",
      "\n"
     ]
    }
   ],
   "source": [
    "df = dat[['gus','temp','dir','slp','month','spd']]\n",
    "df = df.dropna()\n",
    "X = df[['gus','temp','dir','slp','month']]\n",
    "y = df[['spd']]\n",
    "\n",
    "X_train, X_test, y_train, y_test = train_test_split(X, y, test_size=0.25, random_state=1,shuffle = True)\n",
    "\n",
    "lm = LinearRegression()\n",
    "lm.fit(X=X_train, y = y_train)\n",
    "\n",
    "#let's check the cross validated error\n",
    "y_pred = cross_val_predict(lm,X_train,y_train,cv = 5)\n",
    "firstRMSE=math.sqrt(mean_squared_error(y_pred,y_train))\n",
    "print(\"Cross validation sqrt(MSE) = \",firstRMSE)\n",
    "print()"
   ]
  },
  {
   "cell_type": "code",
   "execution_count": 19,
   "metadata": {},
   "outputs": [
    {
     "data": {
      "image/png": "[encoded data removed]",
      "text/plain": [
       "<matplotlib.figure.Figure at 0x119475c88>"
      ]
     },
     "metadata": {},
     "output_type": "display_data"
    }
   ],
   "source": [
    "#Need to figure out what degree polynomial to use...\n",
    "degreeList =[1,2,3,4,5,6]\n",
    "#sqrt(MSE)\n",
    "sampleError=[]\n",
    "crossValidatedError = []\n",
    "testError = []\n",
    "\n",
    "df = dat[['gus','temp','dir','slp','month','spd']]\n",
    "df = df.dropna()\n",
    "X = df[['gus','temp','dir','slp','month']]\n",
    "y = df[['spd']]\n",
    "for degree in degreeList:\n",
    "    poly = PolynomialFeatures(degree=degree)\n",
    "    X_ = poly.fit_transform(X)\n",
    "    X_train, X_test, y_train, y_test = train_test_split(X_, y, test_size=0.25, random_state=1,shuffle = True)\n",
    "    lm = LinearRegression()\n",
    "    lm.fit(X=X_train,y=y_train)\n",
    "    \n",
    "    #training set error\n",
    "    y_predict = lm.predict(X_train)\n",
    "    sampleError.append(math.sqrt(mean_squared_error(y_predict,y_train)))\n",
    "    \n",
    "    #let's check the cross validated error\n",
    "    y_pred = cross_val_predict(lm,X_train,y_train,cv = 5)\n",
    "    crossValidatedError.append(math.sqrt(mean_squared_error(y_pred,y_train)))\n",
    "    \n",
    "  \n",
    "plt.plot(degreeList,sampleError,label = \"Sample Error\")\n",
    "plt.plot(degreeList,crossValidatedError, label = \"Cross Validation Error\")\n",
    "plt.legend()\n",
    "plt.show()"
   ]
  },
  {
   "cell_type": "markdown",
   "metadata": {},
   "source": [
    "# We'll use degree 3"
   ]
  },
  {
   "cell_type": "code",
   "execution_count": 21,
   "metadata": {},
   "outputs": [
    {
     "name": "stdout",
     "output_type": "stream",
     "text": [
      "Cross validation sqrt(MSE) =  2.5539020602315454\n",
      "\n",
      "% improvement =  0.03210242713522051\n"
     ]
    }
   ],
   "source": [
    "df = dat[['gus','temp','dir','slp','month','spd']]\n",
    "df = df.dropna()\n",
    "X = df[['gus','temp','dir','slp','month']]\n",
    "y = df[['spd']]\n",
    "poly = PolynomialFeatures(degree = 3)\n",
    "X_ = poly.fit_transform(X)\n",
    "X_train, X_test, y_train, y_test = train_test_split(X_, y, test_size=0.25, random_state=1,shuffle = True)\n",
    "\n",
    "lm = LinearRegression()\n",
    "lm.fit(X=X_train, y = y_train)\n",
    "\n",
    "#let's check the cross validated error\n",
    "y_pred = cross_val_predict(lm,X_train,y_train,cv = 5)\n",
    "RMSE=math.sqrt(mean_squared_error(y_pred,y_train))\n",
    "print(\"Cross validation sqrt(MSE) = \",firstRMSE)\n",
    "print()\n",
    "print(\"% improvement = \",\n",
    "     (firstRMSE - RMSE)/firstRMSE)"
   ]
  },
  {
   "cell_type": "markdown",
   "metadata": {},
   "source": [
    "### We get a 3% improvement when we use polynomial features"
   ]
  },
  {
   "cell_type": "code",
   "execution_count": 40,
   "metadata": {},
   "outputs": [
    {
     "data": {
      "image/png": "[encoded data removed]",
      "text/plain": [
       "<matplotlib.figure.Figure at 0x115c6f240>"
      ]
     },
     "metadata": {},
     "output_type": "display_data"
    }
   ],
   "source": [
    "### Now we can try regularization\n",
    "alphaList =np.linspace(0.01,1000,20)\n",
    "#sqrt(MSE)\n",
    "sampleError=[]\n",
    "crossValidatedError = []\n",
    "\n",
    "\n",
    "df = dat[['gus','temp','dir','slp','month','spd']]\n",
    "df = df.dropna()\n",
    "X = df[['gus','temp','dir','slp','month']]\n",
    "y = df[['spd']]\n",
    "for a in alphaList:\n",
    "    poly = PolynomialFeatures(degree=3)\n",
    "    X_ = poly.fit_transform(X)\n",
    "    X_train, X_test, y_train, y_test = train_test_split(X_, y, test_size=0.25, random_state=1,shuffle = True)\n",
    "    lm = Ridge(alpha = a)\n",
    "    lm.fit(X=X_train,y=y_train)\n",
    "    \n",
    "#     #training set error\n",
    "#     y_predict = lm.predict(X_train)\n",
    "#     sampleError.append(math.sqrt(mean_squared_error(y_predict,y_train)))\n",
    "    \n",
    "    #let's check the cross validated error\n",
    "    y_pred = cross_val_predict(lm,X_train,y_train,cv = 5)\n",
    "    crossValidatedError.append(math.sqrt(mean_squared_error(y_pred,y_train)))\n",
    "    \n",
    "  \n",
    "#plt.plot(alphaList,sampleError,label = \"Sample Error\")\n",
    "plt.plot(alphaList,crossValidatedError, label = \"Cross Validation Error\")\n",
    "plt.legend()\n",
    "plt.show()"
   ]
  },
  {
   "cell_type": "markdown",
   "metadata": {},
   "source": [
    "### We'll use alpha of 800"
   ]
  },
  {
   "cell_type": "code",
   "execution_count": 52,
   "metadata": {},
   "outputs": [
    {
     "name": "stdout",
     "output_type": "stream",
     "text": [
      "Cross validation sqrt(MSE) =  2.5539020602315454\n",
      "\n",
      "% improvement =  0.03730380106370015\n",
      "***************TEST BELOW****************\n",
      "R^2 =  0.441991276716\n",
      "\n",
      "RMSE for test =  2.459456025063229\n"
     ]
    }
   ],
   "source": [
    "df = dat[['gus','temp','dir','slp','month','spd']]\n",
    "df = df.dropna()\n",
    "X = df[['gus','temp','dir','slp','month']]\n",
    "y = df[['spd']]\n",
    "poly = PolynomialFeatures(degree = 3)\n",
    "X_ = poly.fit_transform(X)\n",
    "X_train, X_test, y_train, y_test = train_test_split(X_, y, test_size=0.25, random_state=1,shuffle = True)\n",
    "\n",
    "lm = Ridge(alpha = 800)\n",
    "lm.fit(X=X_train, y = y_train)\n",
    "\n",
    "#let's check the cross validated error\n",
    "y_pred = cross_val_predict(lm,X_train,y_train,cv = 5)\n",
    "RMSE=math.sqrt(mean_squared_error(y_pred,y_train))\n",
    "print(\"Cross validation sqrt(MSE) = \",firstRMSE)\n",
    "print()\n",
    "print(\"% improvement = \",\n",
    "     (firstRMSE - RMSE)/firstRMSE)\n",
    "\n",
    "#TEST BELOW\n",
    "score = lm.score(X=X_test, y = y_test)\n",
    "print(\"***************TEST BELOW****************\")\n",
    "print(\"R^2 = \",score)\n",
    "y_predict = lm.predict(X_test)\n",
    "RMSEtest = math.sqrt(mean_squared_error(y_predict,y_test))\n",
    "print()\n",
    "print(\"RMSE for test = \",RMSEtest)"
   ]
  },
  {
   "cell_type": "markdown",
   "metadata": {},
   "source": [
    "### ------------------TEST above--------------------\n",
    "\n",
    "### let's check if the mean does better\n"
   ]
  },
  {
   "cell_type": "code",
   "execution_count": 53,
   "metadata": {},
   "outputs": [
    {
     "name": "stdout",
     "output_type": "stream",
     "text": [
      "Cross validation sqrt(MSE) =  2.5539020602315454\n",
      "\n",
      "% improvement =  0.03730380106370015\n"
     ]
    }
   ],
   "source": [
    "df = dat[['gus','temp','dir','slp','month','spd']]\n",
    "df = df.dropna()\n",
    "X = df[['gus','temp','dir','slp','month']]\n",
    "y = df[['spd']]\n",
    "\n",
    "X_train, X_test, y_train, y_test = train_test_split(X, y, test_size=0.25, random_state=1,shuffle = True)\n",
    "\n",
    "meany_train = np.zeros(len(y_train))\n",
    "for i in range(len(meany_train)):\n",
    "    meany_train[i]= np.mean(y_train)\n",
    "\n",
    "RMSEcontrol=math.sqrt(mean_squared_error(meany_train,y_train))\n",
    "print(\"Cross validation sqrt(MSE) = \",firstRMSE)\n",
    "print()\n",
    "print(\"% improvement = \",\n",
    "     (firstRMSE - RMSE)/firstRMSE)"
   ]
  },
  {
   "cell_type": "markdown",
   "metadata": {},
   "source": [
    "### This model does just as well as the ridge with high alpha implying that the model sucks!"
   ]
  },
  {
   "cell_type": "markdown",
   "metadata": {},
   "source": [
    "### Let's see if any of the individual coefficients are important at all"
   ]
  },
  {
   "cell_type": "code",
   "execution_count": 54,
   "metadata": {},
   "outputs": [
    {
     "name": "stdout",
     "output_type": "stream",
     "text": [
      "Cross validation sqrt(MSE) =  2.5539020602315454\n",
      "\n",
      "The coefficient for gus is 2.1355359506963185\n",
      "The coefficient for temp is -0.2308359198047655\n",
      "The coefficient for dir is -0.360851147753671\n",
      "The coefficient for slp is -0.010786084744740493\n",
      "The coefficient for month is -0.010776136973421046\n"
     ]
    }
   ],
   "source": [
    "df = dat[['gus','temp','dir','slp','month','spd']]\n",
    "df = df.dropna()\n",
    "X = df[['gus','temp','dir','slp','month']]\n",
    "y = df[['spd']]\n",
    "scaledX = scale(X)\n",
    "X_train, X_test, y_train, y_test = train_test_split(scaledX, y, test_size=0.25, random_state=1,shuffle = True)\n",
    "\n",
    "lm = LinearRegression()\n",
    "lm.fit(X=X_train, y = y_train)\n",
    "\n",
    "#let's check the cross validated error\n",
    "y_pred = cross_val_predict(lm,X_train,y_train,cv = 5)\n",
    "RMSE=math.sqrt(mean_squared_error(y_pred,y_train))\n",
    "print(\"Cross validation sqrt(MSE) = \",firstRMSE)\n",
    "print()\n",
    "\n",
    "for idx, col_name in enumerate(X.columns):\n",
    "    print(\"The coefficient for {} is {}\".format(col_name, lm.coef_[0][idx]))"
   ]
  },
  {
   "cell_type": "markdown",
   "metadata": {},
   "source": [
    "### Again, gust is the only significant coefficient"
   ]
  },
  {
   "cell_type": "code",
   "execution_count": 57,
   "metadata": {},
   "outputs": [
    {
     "name": "stdout",
     "output_type": "stream",
     "text": [
      "Cross validation sqrt(MSE) =  2.639877048719171\n",
      "\n"
     ]
    }
   ],
   "source": [
    "df = dat[['gus','spd']]\n",
    "df = df.dropna()\n",
    "X = df[['gus']]\n",
    "y = df[['spd']]\n",
    "\n",
    "X_train, X_test, y_train, y_test = train_test_split(X, y, test_size=0.25, random_state=1,shuffle = True)\n",
    "\n",
    "lm = LinearRegression()\n",
    "lm.fit(X=X_train, y = y_train)\n",
    "\n",
    "#let's check the cross validated error\n",
    "y_pred = cross_val_predict(lm,X_train,y_train,cv = 5)\n",
    "firstRMSE=math.sqrt(mean_squared_error(y_pred,y_train))\n",
    "print(\"Cross validation sqrt(MSE) = \",firstRMSE)\n",
    "print()"
   ]
  },
  {
   "cell_type": "code",
   "execution_count": 60,
   "metadata": {},
   "outputs": [
    {
     "data": {
      "image/png": "[encoded data removed]",
      "text/plain": [
       "<matplotlib.figure.Figure at 0x115bcc710>"
      ]
     },
     "metadata": {},
     "output_type": "display_data"
    }
   ],
   "source": [
    "### Now we can try regularization\n",
    "alphaList =np.linspace(2,6,20)\n",
    "#sqrt(MSE)\n",
    "sampleError=[]\n",
    "crossValidatedError = []\n",
    "\n",
    "\n",
    "df = dat[['gus','spd']]\n",
    "df = df.dropna()\n",
    "X = df[['gus']]\n",
    "y = df[['spd']]\n",
    "for a in alphaList:\n",
    "    poly = PolynomialFeatures(degree=3)\n",
    "    X_ = poly.fit_transform(X)\n",
    "    X_train, X_test, y_train, y_test = train_test_split(X_, y, test_size=0.25, random_state=1,shuffle = True)\n",
    "    lm = Ridge(alpha = a)\n",
    "    lm.fit(X=X_train,y=y_train)\n",
    "    \n",
    "#     #training set error\n",
    "#     y_predict = lm.predict(X_train)\n",
    "#     sampleError.append(math.sqrt(mean_squared_error(y_predict,y_train)))\n",
    "    \n",
    "    #let's check the cross validated error\n",
    "    y_pred = cross_val_predict(lm,X_train,y_train,cv = 5)\n",
    "    crossValidatedError.append(math.sqrt(mean_squared_error(y_pred,y_train)))\n",
    "    \n",
    "  \n",
    "#plt.plot(alphaList,sampleError,label = \"Sample Error\")\n",
    "plt.plot(alphaList,crossValidatedError, label = \"Cross Validation Error\")\n",
    "plt.legend()\n",
    "plt.show()"
   ]
  },
  {
   "cell_type": "markdown",
   "metadata": {},
   "source": [
    "### We'll use an alpha value of 4.75"
   ]
  },
  {
   "cell_type": "code",
   "execution_count": 61,
   "metadata": {},
   "outputs": [
    {
     "name": "stdout",
     "output_type": "stream",
     "text": [
      "Cross validation sqrt(MSE) =  2.639877048719171\n",
      "\n",
      "% improvement =  0.016303904582638234\n",
      "***************TEST BELOW****************\n",
      "R^2 =  0.417706808097\n",
      "\n",
      "RMSE for test =  2.5662328147938473\n"
     ]
    }
   ],
   "source": [
    "df = dat[['gus','spd']]\n",
    "df = df.dropna()\n",
    "X = df[['gus']]\n",
    "y = df[['spd']]\n",
    "poly = PolynomialFeatures(degree = 3)\n",
    "X_ = poly.fit_transform(X)\n",
    "X_train, X_test, y_train, y_test = train_test_split(X_, y, test_size=0.25, random_state=1,shuffle = True)\n",
    "\n",
    "lm = Ridge(alpha = 4.75)\n",
    "lm.fit(X=X_train, y = y_train)\n",
    "\n",
    "#let's check the cross validated error\n",
    "y_pred = cross_val_predict(lm,X_train,y_train,cv = 5)\n",
    "RMSE=math.sqrt(mean_squared_error(y_pred,y_train))\n",
    "print(\"Cross validation sqrt(MSE) = \",firstRMSE)\n",
    "print()\n",
    "print(\"% improvement = \",\n",
    "     (firstRMSE - RMSE)/firstRMSE)\n",
    "\n",
    "#TEST BELOW\n",
    "score = lm.score(X=X_test, y = y_test)\n",
    "print(\"***************TEST BELOW****************\")\n",
    "print(\"R^2 = \",score)\n",
    "y_predict = lm.predict(X_test)\n",
    "RMSEtest = math.sqrt(mean_squared_error(y_predict,y_test))\n",
    "print()\n",
    "print(\"RMSE for test = \",RMSEtest)"
   ]
  },
  {
   "cell_type": "markdown",
   "metadata": {},
   "source": [
    "### In this model we see that 42 percent of the variation can be explained by gust \n",
    "\n",
    "### ----------------TEST ABOVE-----------------"
   ]
  },
  {
   "cell_type": "code",
   "execution_count": 62,
   "metadata": {},
   "outputs": [
    {
     "name": "stdout",
     "output_type": "stream",
     "text": [
      "Cross validation sqrt(MSE) =  2.639877048719171\n",
      "\n",
      "% improvement =  0.016303904582638234\n"
     ]
    }
   ],
   "source": [
    "df = dat[['gus','spd']]\n",
    "df = df.dropna()\n",
    "X = df[['gus']]\n",
    "y = df[['spd']]\n",
    "\n",
    "X_train, X_test, y_train, y_test = train_test_split(X, y, test_size=0.25, random_state=1,shuffle = True)\n",
    "\n",
    "meany_train = np.zeros(len(y_train))\n",
    "for i in range(len(meany_train)):\n",
    "    meany_train[i]= np.mean(y_train)\n",
    "\n",
    "RMSEcontrol=math.sqrt(mean_squared_error(meany_train,y_train))\n",
    "print(\"Cross validation sqrt(MSE) = \",firstRMSE)\n",
    "print()\n",
    "print(\"% improvement = \",\n",
    "     (firstRMSE - RMSE)/firstRMSE)"
   ]
  },
  {
   "cell_type": "markdown",
   "metadata": {},
   "source": [
    "# Now we'll try to predict direction"
   ]
  },
  {
   "cell_type": "code",
   "execution_count": 63,
   "metadata": {},
   "outputs": [
    {
     "name": "stdout",
     "output_type": "stream",
     "text": [
      "Cross validation sqrt(MSE) =  82.44696862820416\n",
      "\n"
     ]
    }
   ],
   "source": [
    "df = dat[['gus','temp','dir','slp','month','spd']]\n",
    "df = df.dropna()\n",
    "X = df[['gus','temp','spd','slp','month']]\n",
    "y = df[['dir']]\n",
    "\n",
    "X_train, X_test, y_train, y_test = train_test_split(X, y, test_size=0.25, random_state=1,shuffle = True)\n",
    "\n",
    "lm = LinearRegression()\n",
    "lm.fit(X=X_train, y = y_train)\n",
    "\n",
    "#let's check the cross validated error\n",
    "y_pred = cross_val_predict(lm,X_train,y_train,cv = 5)\n",
    "firstRMSE=math.sqrt(mean_squared_error(y_pred,y_train))\n",
    "print(\"Cross validation sqrt(MSE) = \",firstRMSE)\n",
    "print()"
   ]
  },
  {
   "cell_type": "code",
   "execution_count": 64,
   "metadata": {},
   "outputs": [
    {
     "data": {
      "image/png": "[encoded data removed]",
      "text/plain": [
       "<matplotlib.figure.Figure at 0x119da4b38>"
      ]
     },
     "metadata": {},
     "output_type": "display_data"
    }
   ],
   "source": [
    "#Need to figure out what degree polynomial to use...\n",
    "degreeList =[1,2,3,4,5,6]\n",
    "#sqrt(MSE)\n",
    "sampleError=[]\n",
    "crossValidatedError = []\n",
    "testError = []\n",
    "\n",
    "df = dat[['gus','temp','dir','slp','month','spd']]\n",
    "df = df.dropna()\n",
    "X = df[['gus','temp','spd','slp','month']]\n",
    "y = df[['dir']]\n",
    "for degree in degreeList:\n",
    "    poly = PolynomialFeatures(degree=degree)\n",
    "    X_ = poly.fit_transform(X)\n",
    "    X_train, X_test, y_train, y_test = train_test_split(X_, y, test_size=0.25, random_state=1,shuffle = True)\n",
    "    lm = LinearRegression()\n",
    "    lm.fit(X=X_train,y=y_train)\n",
    "    \n",
    "    #training set error\n",
    "    y_predict = lm.predict(X_train)\n",
    "    sampleError.append(math.sqrt(mean_squared_error(y_predict,y_train)))\n",
    "    \n",
    "    #let's check the cross validated error\n",
    "    y_pred = cross_val_predict(lm,X_train,y_train,cv = 5)\n",
    "    crossValidatedError.append(math.sqrt(mean_squared_error(y_pred,y_train)))\n",
    "    \n",
    "  \n",
    "plt.plot(degreeList,sampleError,label = \"Sample Error\")\n",
    "plt.plot(degreeList,crossValidatedError, label = \"Cross Validation Error\")\n",
    "plt.legend()\n",
    "plt.show()"
   ]
  },
  {
   "cell_type": "code",
   "execution_count": 67,
   "metadata": {},
   "outputs": [
    {
     "data": {
      "image/png": "[encoded data removed]",
      "text/plain": [
       "<matplotlib.figure.Figure at 0x1194a6dd8>"
      ]
     },
     "metadata": {},
     "output_type": "display_data"
    }
   ],
   "source": [
    "### Now we can try regularization\n",
    "alphaList =np.linspace(0.01,400,20)\n",
    "#sqrt(MSE)\n",
    "sampleError=[]\n",
    "crossValidatedError = []\n",
    "\n",
    "\n",
    "df = dat[['gus','temp','dir','slp','month','spd']]\n",
    "df = df.dropna()\n",
    "X = df[['gus','temp','spd','slp','month']]\n",
    "y = df[['dir']]\n",
    "for a in alphaList:\n",
    "    X_train, X_test, y_train, y_test = train_test_split(X, y, test_size=0.25, random_state=1,shuffle = True)\n",
    "    lm = Ridge(alpha = a)\n",
    "    lm.fit(X=X_train,y=y_train)\n",
    "    \n",
    "#     #training set error\n",
    "#     y_predict = lm.predict(X_train)\n",
    "#     sampleError.append(math.sqrt(mean_squared_error(y_predict,y_train)))\n",
    "    \n",
    "    #let's check the cross validated error\n",
    "    y_pred = cross_val_predict(lm,X_train,y_train,cv = 5)\n",
    "    crossValidatedError.append(math.sqrt(mean_squared_error(y_pred,y_train)))\n",
    "    \n",
    "  \n",
    "#plt.plot(alphaList,sampleError,label = \"Sample Error\")\n",
    "plt.plot(alphaList,crossValidatedError, label = \"Cross Validation Error\")\n",
    "plt.legend()\n",
    "plt.show()"
   ]
  },
  {
   "cell_type": "markdown",
   "metadata": {},
   "source": [
    "### We'll use an alpha = 275"
   ]
  },
  {
   "cell_type": "code",
   "execution_count": 68,
   "metadata": {
    "scrolled": true
   },
   "outputs": [
    {
     "name": "stdout",
     "output_type": "stream",
     "text": [
      "Cross validation sqrt(MSE) =  82.44696862820416\n",
      "\n",
      "% improvement =  1.1961133274215771e-05\n",
      "***************TEST BELOW****************\n",
      "R^2 =  0.0257196967679\n",
      "\n",
      "RMSE for test =  83.18333846118522\n"
     ]
    }
   ],
   "source": [
    "df = dat[['gus','temp','dir','slp','month','spd']]\n",
    "df = df.dropna()\n",
    "X = df[['gus','temp','spd','slp','month']]\n",
    "y = df[['dir']]\n",
    "\n",
    "X_train, X_test, y_train, y_test = train_test_split(X, y, test_size=0.25, random_state=1,shuffle = True)\n",
    "\n",
    "lm = Ridge(alpha = 275)\n",
    "lm.fit(X=X_train, y = y_train)\n",
    "\n",
    "#let's check the cross validated error\n",
    "y_pred = cross_val_predict(lm,X_train,y_train,cv = 5)\n",
    "RMSE=math.sqrt(mean_squared_error(y_pred,y_train))\n",
    "print(\"Cross validation sqrt(MSE) = \",firstRMSE)\n",
    "print()\n",
    "print(\"% improvement = \",\n",
    "     (firstRMSE - RMSE)/firstRMSE)\n",
    "\n",
    "#TEST BELOW\n",
    "score = lm.score(X=X_test, y = y_test)\n",
    "print(\"***************TEST BELOW****************\")\n",
    "print(\"R^2 = \",score)\n",
    "y_predict = lm.predict(X_test)\n",
    "RMSEtest = math.sqrt(mean_squared_error(y_predict,y_test))\n",
    "print()\n",
    "print(\"RMSE for test = \",RMSEtest)"
   ]
  },
  {
   "cell_type": "markdown",
   "metadata": {},
   "source": [
    "### Below we do the mean check"
   ]
  },
  {
   "cell_type": "code",
   "execution_count": 85,
   "metadata": {},
   "outputs": [
    {
     "name": "stdout",
     "output_type": "stream",
     "text": [
      "Cross validation sqrt(MSE) =  91.8258575192113\n",
      "\n",
      "% improvement =  4.2061432503225276e-07\n"
     ]
    }
   ],
   "source": [
    "df = dat[['gus','temp','dir','slp','month','spd']]\n",
    "df = df.dropna()\n",
    "X = df[['gus','temp','spd','slp','month']]\n",
    "y = df[['dir']]\n",
    "\n",
    "X_train, X_test, y_train, y_test = train_test_split(X, y, test_size=0.25, random_state=1,shuffle = True)\n",
    "\n",
    "meany_train = np.zeros(len(y_train))\n",
    "for i in range(len(meany_train)):\n",
    "    meany_train[i]= np.mean(y_train)\n",
    "\n",
    "RMSEcontrol=math.sqrt(mean_squared_error(meany_train,y_train))\n",
    "print(\"Cross validation sqrt(MSE) = \",firstRMSE)\n",
    "print()\n",
    "print(\"% improvement = \",\n",
    "     (firstRMSE - RMSE)/firstRMSE)"
   ]
  },
  {
   "cell_type": "markdown",
   "metadata": {},
   "source": [
    "### --------------Test Above--------------------"
   ]
  },
  {
   "cell_type": "code",
   "execution_count": 70,
   "metadata": {},
   "outputs": [
    {
     "name": "stdout",
     "output_type": "stream",
     "text": [
      "Cross validation sqrt(MSE) =  82.44696862820416\n",
      "\n",
      "The coefficient for gus is 16.7714055830292\n",
      "The coefficient for temp is -0.9707392911110801\n",
      "The coefficient for spd is -14.944936549185469\n",
      "The coefficient for slp is -5.4722246388737785\n",
      "The coefficient for month is 1.5095574558736502\n"
     ]
    }
   ],
   "source": [
    "df = dat[['gus','temp','dir','slp','month','spd']]\n",
    "df = df.dropna()\n",
    "X = df[['gus','temp','spd','slp','month']]\n",
    "y = df[['dir']]\n",
    "scaledX = scale(X)\n",
    "X_train, X_test, y_train, y_test = train_test_split(scaledX, y, test_size=0.25, random_state=1,shuffle = True)\n",
    "\n",
    "lm = LinearRegression()\n",
    "lm.fit(X=X_train, y = y_train)\n",
    "\n",
    "#let's check the cross validated error\n",
    "y_pred = cross_val_predict(lm,X_train,y_train,cv = 5)\n",
    "firstRMSE=math.sqrt(mean_squared_error(y_pred,y_train))\n",
    "print(\"Cross validation sqrt(MSE) = \",firstRMSE)\n",
    "print()\n",
    "\n",
    "for idx, col_name in enumerate(X.columns):\n",
    "    print(\"The coefficient for {} is {}\".format(col_name, lm.coef_[0][idx]))"
   ]
  },
  {
   "cell_type": "code",
   "execution_count": 71,
   "metadata": {},
   "outputs": [
    {
     "name": "stdout",
     "output_type": "stream",
     "text": [
      "Cross validation sqrt(MSE) =  81.93785846673218\n",
      "\n"
     ]
    }
   ],
   "source": [
    "df = dat[['gus','dir']]\n",
    "df = df.dropna()\n",
    "X = df[['gus']]\n",
    "y = df[['dir']]\n",
    "\n",
    "X_train, X_test, y_train, y_test = train_test_split(X, y, test_size=0.25, random_state=1,shuffle = True)\n",
    "\n",
    "lm = LinearRegression()\n",
    "lm.fit(X=X_train, y = y_train)\n",
    "\n",
    "#let's check the cross validated error\n",
    "y_pred = cross_val_predict(lm,X_train,y_train,cv = 5)\n",
    "firstRMSE=math.sqrt(mean_squared_error(y_pred,y_train))\n",
    "print(\"Cross validation sqrt(MSE) = \",firstRMSE)\n",
    "print()"
   ]
  },
  {
   "cell_type": "code",
   "execution_count": 77,
   "metadata": {},
   "outputs": [
    {
     "data": {
      "image/png": "[encoded data removed]",
      "text/plain": [
       "<matplotlib.figure.Figure at 0x1159c7b70>"
      ]
     },
     "metadata": {},
     "output_type": "display_data"
    }
   ],
   "source": [
    "### Now we can try regularization\n",
    "alphaList =np.linspace(0.01,7000,20)\n",
    "#sqrt(MSE)\n",
    "sampleError=[]\n",
    "crossValidatedError = []\n",
    "\n",
    "\n",
    "df = dat[['gus','dir']]\n",
    "df = df.dropna()\n",
    "X = df[['gus']]\n",
    "y = df[['dir']]\n",
    "for a in alphaList:\n",
    "    X_train, X_test, y_train, y_test = train_test_split(X, y, test_size=0.25, random_state=1,shuffle = True)\n",
    "    lm = Ridge(alpha = a)\n",
    "    lm.fit(X=X_train,y=y_train)\n",
    "    \n",
    "#     #training set error\n",
    "#     y_predict = lm.predict(X_train)\n",
    "#     sampleError.append(math.sqrt(mean_squared_error(y_predict,y_train)))\n",
    "    \n",
    "    #let's check the cross validated error\n",
    "    y_pred = cross_val_predict(lm,X_train,y_train,cv = 5)\n",
    "    crossValidatedError.append(math.sqrt(mean_squared_error(y_pred,y_train)))\n",
    "    \n",
    "  \n",
    "#plt.plot(alphaList,sampleError,label = \"Sample Error\")\n",
    "plt.plot(alphaList,crossValidatedError, label = \"Cross Validation Error\")\n",
    "plt.legend()\n",
    "plt.show()"
   ]
  },
  {
   "cell_type": "markdown",
   "metadata": {},
   "source": [
    "# We'll use alpha = 3750"
   ]
  },
  {
   "cell_type": "code",
   "execution_count": 78,
   "metadata": {},
   "outputs": [
    {
     "name": "stdout",
     "output_type": "stream",
     "text": [
      "Cross validation sqrt(MSE) =  81.93785846673218\n",
      "\n",
      "% improvement =  1.9445728072000493e-05\n",
      "***************TEST BELOW****************\n",
      "R^2 =  0.00254679981941\n",
      "\n",
      "RMSE for test =  82.81641553838074\n"
     ]
    }
   ],
   "source": [
    "df = dat[['gus','dir']]\n",
    "df = df.dropna()\n",
    "X = df[['gus']]\n",
    "y = df[['dir']]\n",
    "\n",
    "X_train, X_test, y_train, y_test = train_test_split(X, y, test_size=0.25, random_state=1,shuffle = True)\n",
    "\n",
    "lm = Ridge(alpha = 3750)\n",
    "lm.fit(X=X_train, y = y_train)\n",
    "\n",
    "#let's check the cross validated error\n",
    "y_pred = cross_val_predict(lm,X_train,y_train,cv = 5)\n",
    "RMSE=math.sqrt(mean_squared_error(y_pred,y_train))\n",
    "print(\"Cross validation sqrt(MSE) = \",firstRMSE)\n",
    "print()\n",
    "print(\"% improvement = \",\n",
    "     (firstRMSE - RMSE)/firstRMSE)\n",
    "\n",
    "#TEST BELOW\n",
    "score = lm.score(X=X_test, y = y_test)\n",
    "print(\"***************TEST BELOW****************\")\n",
    "print(\"R^2 = \",score)\n",
    "y_predict = lm.predict(X_test)\n",
    "RMSEtest = math.sqrt(mean_squared_error(y_predict,y_test))\n",
    "print()\n",
    "print(\"RMSE for test = \",RMSEtest)"
   ]
  },
  {
   "cell_type": "code",
   "execution_count": 79,
   "metadata": {},
   "outputs": [
    {
     "name": "stdout",
     "output_type": "stream",
     "text": [
      "Cross validation sqrt(MSE) =  91.8258575192113\n",
      "\n"
     ]
    }
   ],
   "source": [
    "df = dat[['temp','dir']]\n",
    "df = df.dropna()\n",
    "X = df[['temp']]\n",
    "y = df[['dir']]\n",
    "\n",
    "X_train, X_test, y_train, y_test = train_test_split(X, y, test_size=0.25, random_state=1,shuffle = True)\n",
    "\n",
    "lm = LinearRegression()\n",
    "lm.fit(X=X_train, y = y_train)\n",
    "\n",
    "#let's check the cross validated error\n",
    "y_pred = cross_val_predict(lm,X_train,y_train,cv = 5)\n",
    "firstRMSE=math.sqrt(mean_squared_error(y_pred,y_train))\n",
    "print(\"Cross validation sqrt(MSE) = \",firstRMSE)\n",
    "print()"
   ]
  },
  {
   "cell_type": "code",
   "execution_count": 83,
   "metadata": {},
   "outputs": [
    {
     "data": {
      "image/png": "[encoded data removed]",
      "text/plain": [
       "<matplotlib.figure.Figure at 0x1133983c8>"
      ]
     },
     "metadata": {},
     "output_type": "display_data"
    }
   ],
   "source": [
    "### Now we can try regularization\n",
    "alphaList =np.linspace(10000,25000,20)\n",
    "#sqrt(MSE)\n",
    "sampleError=[]\n",
    "crossValidatedError = []\n",
    "\n",
    "\n",
    "df = dat[['temp','dir']]\n",
    "df = df.dropna()\n",
    "X = df[['temp']]\n",
    "y = df[['dir']]\n",
    "for a in alphaList:\n",
    "    X_train, X_test, y_train, y_test = train_test_split(X, y, test_size=0.25, random_state=1,shuffle = True)\n",
    "    lm = Ridge(alpha = a)\n",
    "    lm.fit(X=X_train,y=y_train)\n",
    "    \n",
    "#     #training set error\n",
    "#     y_predict = lm.predict(X_train)\n",
    "#     sampleError.append(math.sqrt(mean_squared_error(y_predict,y_train)))\n",
    "    \n",
    "    #let's check the cross validated error\n",
    "    y_pred = cross_val_predict(lm,X_train,y_train,cv = 5)\n",
    "    crossValidatedError.append(math.sqrt(mean_squared_error(y_pred,y_train)))\n",
    "    \n",
    "  \n",
    "#plt.plot(alphaList,sampleError,label = \"Sample Error\")\n",
    "plt.plot(alphaList,crossValidatedError, label = \"Cross Validation Error\")\n",
    "plt.legend()\n",
    "plt.show()"
   ]
  },
  {
   "cell_type": "markdown",
   "metadata": {},
   "source": [
    "### We'll use alpha = 18000"
   ]
  },
  {
   "cell_type": "code",
   "execution_count": 84,
   "metadata": {},
   "outputs": [
    {
     "name": "stdout",
     "output_type": "stream",
     "text": [
      "Cross validation sqrt(MSE) =  91.8258575192113\n",
      "\n",
      "% improvement =  4.2061432503225276e-07\n",
      "***************TEST BELOW****************\n",
      "R^2 =  0.0149740811403\n",
      "\n",
      "RMSE for test =  91.26725736140577\n"
     ]
    }
   ],
   "source": [
    "df = dat[['temp','dir']]\n",
    "df = df.dropna()\n",
    "X = df[['temp']]\n",
    "y = df[['dir']]\n",
    "\n",
    "X_train, X_test, y_train, y_test = train_test_split(X, y, test_size=0.25, random_state=1,shuffle = True)\n",
    "\n",
    "lm = Ridge(alpha = 18000)\n",
    "lm.fit(X=X_train, y = y_train)\n",
    "\n",
    "#let's check the cross validated error\n",
    "y_pred = cross_val_predict(lm,X_train,y_train,cv = 5)\n",
    "RMSE=math.sqrt(mean_squared_error(y_pred,y_train))\n",
    "print(\"Cross validation sqrt(MSE) = \",firstRMSE)\n",
    "print()\n",
    "print(\"% improvement = \",\n",
    "     (firstRMSE - RMSE)/firstRMSE)\n",
    "\n",
    "#TEST BELOW\n",
    "score = lm.score(X=X_test, y = y_test)\n",
    "print(\"***************TEST BELOW****************\")\n",
    "print(\"R^2 = \",score)\n",
    "y_predict = lm.predict(X_test)\n",
    "RMSEtest = math.sqrt(mean_squared_error(y_predict,y_test))\n",
    "print()\n",
    "print(\"RMSE for test = \",RMSEtest)"
   ]
  },
  {
   "cell_type": "code",
   "execution_count": 93,
   "metadata": {},
   "outputs": [
    {
     "name": "stdout",
     "output_type": "stream",
     "text": [
      "Cross validation sqrt(MSE) =  92.96576812195434\n",
      "\n"
     ]
    }
   ],
   "source": [
    "df = dat[['spd','dir']]\n",
    "df = df.dropna()\n",
    "X = df[['spd']]\n",
    "y = df[['dir']]\n",
    "\n",
    "X_train, X_test, y_train, y_test = train_test_split(X, y, test_size=0.25, random_state=1,shuffle = True)\n",
    "\n",
    "lm = LinearRegression()\n",
    "lm.fit(X=X_train, y = y_train)\n",
    "\n",
    "#let's check the cross validated error\n",
    "y_pred = cross_val_predict(lm,X_train,y_train,cv = 5)\n",
    "firstRMSE=math.sqrt(mean_squared_error(y_pred,y_train))\n",
    "print(\"Cross validation sqrt(MSE) = \",firstRMSE)\n",
    "print()"
   ]
  },
  {
   "cell_type": "code",
   "execution_count": 94,
   "metadata": {},
   "outputs": [
    {
     "data": {
      "image/png": "[encoded data removed]",
      "text/plain": [
       "<matplotlib.figure.Figure at 0x119f28c50>"
      ]
     },
     "metadata": {},
     "output_type": "display_data"
    }
   ],
   "source": [
    "### Now we can try regularization\n",
    "alphaList =np.linspace(100000,150000,20)\n",
    "#sqrt(MSE)\n",
    "sampleError=[]\n",
    "crossValidatedError = []\n",
    "\n",
    "\n",
    "df = dat[['spd','dir']]\n",
    "df = df.dropna()\n",
    "X = df[['spd']]\n",
    "y = df[['dir']]\n",
    "for a in alphaList:\n",
    "    X_train, X_test, y_train, y_test = train_test_split(X, y, test_size=0.25, random_state=1,shuffle = True)\n",
    "    lm = Ridge(alpha = a)\n",
    "    lm.fit(X=X_train,y=y_train)\n",
    "    \n",
    "#     #training set error\n",
    "#     y_predict = lm.predict(X_train)\n",
    "#     sampleError.append(math.sqrt(mean_squared_error(y_predict,y_train)))\n",
    "    \n",
    "    #let's check the cross validated error\n",
    "    y_pred = cross_val_predict(lm,X_train,y_train,cv = 5)\n",
    "    crossValidatedError.append(math.sqrt(mean_squared_error(y_pred,y_train)))\n",
    "    \n",
    "  \n",
    "#plt.plot(alphaList,sampleError,label = \"Sample Error\")\n",
    "plt.plot(alphaList,crossValidatedError, label = \"Cross Validation Error\")\n",
    "plt.legend()\n",
    "plt.show()"
   ]
  },
  {
   "cell_type": "markdown",
   "metadata": {},
   "source": [
    "# We'll use alpha = 140000"
   ]
  },
  {
   "cell_type": "code",
   "execution_count": 95,
   "metadata": {},
   "outputs": [
    {
     "name": "stdout",
     "output_type": "stream",
     "text": [
      "Cross validation sqrt(MSE) =  92.96576812195434\n",
      "\n",
      "% improvement =  4.723956362038877e-05\n",
      "***************TEST BELOW****************\n",
      "R^2 =  0.000133288224237\n",
      "\n",
      "RMSE for test =  91.95222145078708\n"
     ]
    }
   ],
   "source": [
    "df = dat[['spd','dir']]\n",
    "df = df.dropna()\n",
    "X = df[['spd']]\n",
    "y = df[['dir']]\n",
    "\n",
    "X_train, X_test, y_train, y_test = train_test_split(X, y, test_size=0.25, random_state=1,shuffle = True)\n",
    "\n",
    "lm = Ridge(alpha = 140000)\n",
    "lm.fit(X=X_train, y = y_train)\n",
    "\n",
    "#let's check the cross validated error\n",
    "y_pred = cross_val_predict(lm,X_train,y_train,cv = 5)\n",
    "RMSE=math.sqrt(mean_squared_error(y_pred,y_train))\n",
    "print(\"Cross validation sqrt(MSE) = \",firstRMSE)\n",
    "print()\n",
    "print(\"% improvement = \",\n",
    "     (firstRMSE - RMSE)/firstRMSE)\n",
    "\n",
    "#TEST BELOW\n",
    "score = lm.score(X=X_test, y = y_test)\n",
    "print(\"***************TEST BELOW****************\")\n",
    "print(\"R^2 = \",score)\n",
    "y_predict = lm.predict(X_test)\n",
    "RMSEtest = math.sqrt(mean_squared_error(y_predict,y_test))\n",
    "print()\n",
    "print(\"RMSE for test = \",RMSEtest)"
   ]
  },
  {
   "cell_type": "code",
   "execution_count": 101,
   "metadata": {},
   "outputs": [
    {
     "name": "stdout",
     "output_type": "stream",
     "text": [
      "Cross validation sqrt(MSE) =  92.71408167451264\n",
      "\n"
     ]
    }
   ],
   "source": [
    "df = dat[['slp','dir']]\n",
    "df = df.dropna()\n",
    "X = df[['slp']]\n",
    "y = df[['dir']]\n",
    "\n",
    "X_train, X_test, y_train, y_test = train_test_split(X, y, test_size=0.25, random_state=1,shuffle = True)\n",
    "\n",
    "lm = LinearRegression()\n",
    "lm.fit(X=X_train, y = y_train)\n",
    "\n",
    "#let's check the cross validated error\n",
    "y_pred = cross_val_predict(lm,X_train,y_train,cv = 5)\n",
    "firstRMSE=math.sqrt(mean_squared_error(y_pred,y_train))\n",
    "print(\"Cross validation sqrt(MSE) = \",firstRMSE)\n",
    "print()"
   ]
  },
  {
   "cell_type": "code",
   "execution_count": 102,
   "metadata": {},
   "outputs": [
    {
     "data": {
      "image/png": "[encoded data removed]",
      "text/plain": [
       "<matplotlib.figure.Figure at 0x119d887b8>"
      ]
     },
     "metadata": {},
     "output_type": "display_data"
    }
   ],
   "source": [
    "### Now we can try regularization\n",
    "alphaList =np.linspace(1,20000,20)\n",
    "#sqrt(MSE)\n",
    "sampleError=[]\n",
    "crossValidatedError = []\n",
    "\n",
    "\n",
    "df = dat[['slp','dir']]\n",
    "df = df.dropna()\n",
    "X = df[['slp']]\n",
    "y = df[['dir']]\n",
    "for a in alphaList:\n",
    "    X_train, X_test, y_train, y_test = train_test_split(X, y, test_size=0.25, random_state=1,shuffle = True)\n",
    "    lm = Ridge(alpha = a)\n",
    "    lm.fit(X=X_train,y=y_train)\n",
    "    \n",
    "#     #training set error\n",
    "#     y_predict = lm.predict(X_train)\n",
    "#     sampleError.append(math.sqrt(mean_squared_error(y_predict,y_train)))\n",
    "    \n",
    "    #let's check the cross validated error\n",
    "    y_pred = cross_val_predict(lm,X_train,y_train,cv = 5)\n",
    "    crossValidatedError.append(math.sqrt(mean_squared_error(y_pred,y_train)))\n",
    "    \n",
    "  \n",
    "#plt.plot(alphaList,sampleError,label = \"Sample Error\")\n",
    "plt.plot(alphaList,crossValidatedError, label = \"Cross Validation Error\")\n",
    "plt.legend()\n",
    "plt.show()"
   ]
  },
  {
   "cell_type": "markdown",
   "metadata": {},
   "source": [
    "# Use alpha = 10k"
   ]
  },
  {
   "cell_type": "code",
   "execution_count": 104,
   "metadata": {},
   "outputs": [
    {
     "name": "stdout",
     "output_type": "stream",
     "text": [
      "Cross validation sqrt(MSE) =  92.71408167451264\n",
      "\n",
      "% improvement =  2.335469657823893e-07\n",
      "***************TEST BELOW****************\n",
      "R^2 =  0.00613454128888\n",
      "\n",
      "RMSE for test =  92.69359276837336\n"
     ]
    }
   ],
   "source": [
    "df = dat[['slp','dir']]\n",
    "df = df.dropna()\n",
    "X = df[['slp']]\n",
    "y = df[['dir']]\n",
    "\n",
    "X_train, X_test, y_train, y_test = train_test_split(X, y, test_size=0.25, random_state=1,shuffle = True)\n",
    "\n",
    "lm = Ridge(alpha = 10000)\n",
    "lm.fit(X=X_train, y = y_train)\n",
    "\n",
    "#let's check the cross validated error\n",
    "y_pred = cross_val_predict(lm,X_train,y_train,cv = 5)\n",
    "RMSE=math.sqrt(mean_squared_error(y_pred,y_train))\n",
    "print(\"Cross validation sqrt(MSE) = \",firstRMSE)\n",
    "print()\n",
    "print(\"% improvement = \",\n",
    "     (firstRMSE - RMSE)/firstRMSE)\n",
    "\n",
    "#TEST BELOW\n",
    "score = lm.score(X=X_test, y = y_test)\n",
    "print(\"***************TEST BELOW****************\")\n",
    "print(\"R^2 = \",score)\n",
    "y_predict = lm.predict(X_test)\n",
    "RMSEtest = math.sqrt(mean_squared_error(y_predict,y_test))\n",
    "print()\n",
    "print(\"RMSE for test = \",RMSEtest)"
   ]
  },
  {
   "cell_type": "code",
   "execution_count": 105,
   "metadata": {},
   "outputs": [
    {
     "name": "stdout",
     "output_type": "stream",
     "text": [
      "Cross validation sqrt(MSE) =  92.97229025501944\n",
      "\n"
     ]
    }
   ],
   "source": [
    "df = dat[['month','dir']]\n",
    "df = df.dropna()\n",
    "X = df[['month']]\n",
    "y = df[['dir']]\n",
    "\n",
    "X_train, X_test, y_train, y_test = train_test_split(X, y, test_size=0.25, random_state=1,shuffle = True)\n",
    "\n",
    "lm = LinearRegression()\n",
    "lm.fit(X=X_train, y = y_train)\n",
    "\n",
    "#let's check the cross validated error\n",
    "y_pred = cross_val_predict(lm,X_train,y_train,cv = 5)\n",
    "firstRMSE=math.sqrt(mean_squared_error(y_pred,y_train))\n",
    "print(\"Cross validation sqrt(MSE) = \",firstRMSE)\n",
    "print()"
   ]
  },
  {
   "cell_type": "code",
   "execution_count": 108,
   "metadata": {},
   "outputs": [
    {
     "data": {
      "image/png": "[encoded data removed]",
      "text/plain": [
       "<matplotlib.figure.Figure at 0x11955e710>"
      ]
     },
     "metadata": {},
     "output_type": "display_data"
    }
   ],
   "source": [
    "### Now we can try regularization\n",
    "alphaList =np.linspace(1,500000,20)\n",
    "#sqrt(MSE)\n",
    "sampleError=[]\n",
    "crossValidatedError = []\n",
    "\n",
    "\n",
    "df = dat[['month','dir']]\n",
    "df = df.dropna()\n",
    "X = df[['month']]\n",
    "y = df[['dir']]\n",
    "for a in alphaList:\n",
    "    X_train, X_test, y_train, y_test = train_test_split(X, y, test_size=0.25, random_state=1,shuffle = True)\n",
    "    lm = Ridge(alpha = a)\n",
    "    lm.fit(X=X_train,y=y_train)\n",
    "    \n",
    "#     #training set error\n",
    "#     y_predict = lm.predict(X_train)\n",
    "#     sampleError.append(math.sqrt(mean_squared_error(y_predict,y_train)))\n",
    "    \n",
    "    #let's check the cross validated error\n",
    "    y_pred = cross_val_predict(lm,X_train,y_train,cv = 5)\n",
    "    crossValidatedError.append(math.sqrt(mean_squared_error(y_pred,y_train)))\n",
    "    \n",
    "  \n",
    "#plt.plot(alphaList,sampleError,label = \"Sample Error\")\n",
    "plt.plot(alphaList,crossValidatedError, label = \"Cross Validation Error\")\n",
    "plt.legend()\n",
    "plt.show()"
   ]
  },
  {
   "cell_type": "markdown",
   "metadata": {},
   "source": [
    "### use alpha = 400k\n"
   ]
  },
  {
   "cell_type": "code",
   "execution_count": 109,
   "metadata": {},
   "outputs": [
    {
     "name": "stdout",
     "output_type": "stream",
     "text": [
      "Cross validation sqrt(MSE) =  92.97229025501944\n",
      "\n",
      "% improvement =  8.153848098149495e-05\n",
      "***************TEST BELOW****************\n",
      "R^2 =  -0.000249429328675\n",
      "\n",
      "RMSE for test =  91.96981797732225\n"
     ]
    }
   ],
   "source": [
    "df = dat[['month','dir']]\n",
    "df = df.dropna()\n",
    "X = df[['month']]\n",
    "y = df[['dir']]\n",
    "\n",
    "X_train, X_test, y_train, y_test = train_test_split(X, y, test_size=0.25, random_state=1,shuffle = True)\n",
    "\n",
    "lm = Ridge(alpha = 400000)\n",
    "lm.fit(X=X_train, y = y_train)\n",
    "\n",
    "#let's check the cross validated error\n",
    "y_pred = cross_val_predict(lm,X_train,y_train,cv = 5)\n",
    "RMSE=math.sqrt(mean_squared_error(y_pred,y_train))\n",
    "print(\"Cross validation sqrt(MSE) = \",firstRMSE)\n",
    "print()\n",
    "print(\"% improvement = \",\n",
    "     (firstRMSE - RMSE)/firstRMSE)\n",
    "\n",
    "#TEST BELOW\n",
    "score = lm.score(X=X_test, y = y_test)\n",
    "print(\"***************TEST BELOW****************\")\n",
    "print(\"R^2 = \",score)\n",
    "y_predict = lm.predict(X_test)\n",
    "RMSEtest = math.sqrt(mean_squared_error(y_predict,y_test))\n",
    "print()\n",
    "print(\"RMSE for test = \",RMSEtest)"
   ]
  },
  {
   "cell_type": "code",
   "execution_count": null,
   "metadata": {
    "collapsed": true
   },
   "outputs": [],
   "source": []
  }
 ],
 "metadata": {
  "kernelspec": {
   "display_name": "Python 3",
   "language": "python",
   "name": "python3"
  },
  "language_info": {
   "codemirror_mode": {
    "name": "ipython",
    "version": 3
   },
   "file_extension": ".py",
   "mimetype": "text/x-python",
   "name": "python",
   "nbconvert_exporter": "python",
   "pygments_lexer": "ipython3",
   "version": "3.6.2"
  }
 },
 "nbformat": 4,
 "nbformat_minor": 2
}
