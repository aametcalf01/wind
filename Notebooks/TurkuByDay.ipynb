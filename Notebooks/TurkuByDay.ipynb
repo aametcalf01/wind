{
 "cells": [
  {
   "cell_type": "code",
   "execution_count": 1,
   "metadata": {},
   "outputs": [
    {
     "data": {
      "application/javascript": [
       "IPython.OutputArea.prototype._should_scroll = function(lines) {\n",
       "    return false;\n",
       "}"
      ],
      "text/plain": [
       "<IPython.core.display.Javascript object>"
      ]
     },
     "metadata": {},
     "output_type": "display_data"
    }
   ],
   "source": [
    "%%javascript\n",
    "IPython.OutputArea.prototype._should_scroll = function(lines) {\n",
    "    return false;\n",
    "}"
   ]
  },
  {
   "cell_type": "code",
   "execution_count": 2,
   "metadata": {
    "collapsed": true
   },
   "outputs": [],
   "source": [
    "import numpy as np\n",
    "import matplotlib.pyplot as plt\n",
    "import pandas as pd\n",
    "import os\n",
    "import datetime\n",
    "from sklearn.linear_model import LinearRegression\n",
    "from sklearn.metrics import mean_squared_error\n",
    "from sklearn.model_selection import cross_val_predict\n",
    "from sklearn.preprocessing import PolynomialFeatures\n",
    "from sklearn.model_selection import train_test_split\n",
    "import math\n",
    "from sklearn.utils import shuffle\n",
    "from sklearn.linear_model import Ridge\n",
    "from sklearn.preprocessing import scale"
   ]
  },
  {
   "cell_type": "markdown",
   "metadata": {},
   "source": [
    "# Data Preprocessing"
   ]
  },
  {
   "cell_type": "code",
   "execution_count": 3,
   "metadata": {
    "collapsed": true
   },
   "outputs": [],
   "source": [
    "file = os.getcwd()+\"/../data/029720-99999_allYrs_Avg.txt\"\n",
    "dat = pd.read_csv(file,header=None,names=[\"lat\", \"lon\", \"elevation\",\"date\",\"dir\",\"spd\",\"gus\",\"temp\",\"slp\"])"
   ]
  },
  {
   "cell_type": "code",
   "execution_count": 4,
   "metadata": {},
   "outputs": [
    {
     "data": {
      "text/html": [
       "<div>\n",
       "<style>\n",
       "    .dataframe thead tr:only-child th {\n",
       "        text-align: right;\n",
       "    }\n",
       "\n",
       "    .dataframe thead th {\n",
       "        text-align: left;\n",
       "    }\n",
       "\n",
       "    .dataframe tbody tr th {\n",
       "        vertical-align: top;\n",
       "    }\n",
       "</style>\n",
       "<table border=\"1\" class=\"dataframe\">\n",
       "  <thead>\n",
       "    <tr style=\"text-align: right;\">\n",
       "      <th></th>\n",
       "      <th>lat</th>\n",
       "      <th>lon</th>\n",
       "      <th>elevation</th>\n",
       "      <th>date</th>\n",
       "      <th>dir</th>\n",
       "      <th>spd</th>\n",
       "      <th>gus</th>\n",
       "      <th>temp</th>\n",
       "      <th>slp</th>\n",
       "    </tr>\n",
       "  </thead>\n",
       "  <tbody>\n",
       "    <tr>\n",
       "      <th>0</th>\n",
       "      <td>60.514</td>\n",
       "      <td>22.263</td>\n",
       "      <td>49.1</td>\n",
       "      <td>19020101</td>\n",
       "      <td>2.199135</td>\n",
       "      <td>23.700998</td>\n",
       "      <td>***</td>\n",
       "      <td>30.200000</td>\n",
       "      <td>994.28</td>\n",
       "    </tr>\n",
       "    <tr>\n",
       "      <th>1</th>\n",
       "      <td>60.514</td>\n",
       "      <td>22.263</td>\n",
       "      <td>49.1</td>\n",
       "      <td>19020102</td>\n",
       "      <td>2.443461</td>\n",
       "      <td>6.800000</td>\n",
       "      <td>***</td>\n",
       "      <td>17.200000</td>\n",
       "      <td>993.96</td>\n",
       "    </tr>\n",
       "    <tr>\n",
       "      <th>2</th>\n",
       "      <td>60.514</td>\n",
       "      <td>22.263</td>\n",
       "      <td>49.1</td>\n",
       "      <td>19020103</td>\n",
       "      <td>2.208953</td>\n",
       "      <td>9.938701</td>\n",
       "      <td>***</td>\n",
       "      <td>-0.200000</td>\n",
       "      <td>1005.08</td>\n",
       "    </tr>\n",
       "    <tr>\n",
       "      <th>3</th>\n",
       "      <td>60.514</td>\n",
       "      <td>22.263</td>\n",
       "      <td>49.1</td>\n",
       "      <td>19020104</td>\n",
       "      <td>3.949456</td>\n",
       "      <td>23.453623</td>\n",
       "      <td>***</td>\n",
       "      <td>28.733333</td>\n",
       "      <td>985.386666667</td>\n",
       "    </tr>\n",
       "    <tr>\n",
       "      <th>4</th>\n",
       "      <td>60.514</td>\n",
       "      <td>22.263</td>\n",
       "      <td>49.1</td>\n",
       "      <td>19020105</td>\n",
       "      <td>4.417350</td>\n",
       "      <td>5.170652</td>\n",
       "      <td>***</td>\n",
       "      <td>30.466667</td>\n",
       "      <td>978.293333333</td>\n",
       "    </tr>\n",
       "  </tbody>\n",
       "</table>\n",
       "</div>"
      ],
      "text/plain": [
       "      lat     lon  elevation      date       dir        spd  gus       temp  \\\n",
       "0  60.514  22.263       49.1  19020101  2.199135  23.700998  ***  30.200000   \n",
       "1  60.514  22.263       49.1  19020102  2.443461   6.800000  ***  17.200000   \n",
       "2  60.514  22.263       49.1  19020103  2.208953   9.938701  ***  -0.200000   \n",
       "3  60.514  22.263       49.1  19020104  3.949456  23.453623  ***  28.733333   \n",
       "4  60.514  22.263       49.1  19020105  4.417350   5.170652  ***  30.466667   \n",
       "\n",
       "             slp  \n",
       "0         994.28  \n",
       "1         993.96  \n",
       "2        1005.08  \n",
       "3  985.386666667  \n",
       "4  978.293333333  "
      ]
     },
     "execution_count": 4,
     "metadata": {},
     "output_type": "execute_result"
    }
   ],
   "source": [
    "dat.head()"
   ]
  },
  {
   "cell_type": "code",
   "execution_count": 5,
   "metadata": {
    "collapsed": true
   },
   "outputs": [],
   "source": [
    "#switch date to datetime object\n",
    "dat['date'] = pd.to_datetime(dat['date'],format = '%Y%m%d')"
   ]
  },
  {
   "cell_type": "code",
   "execution_count": 6,
   "metadata": {},
   "outputs": [
    {
     "data": {
      "text/html": [
       "<div>\n",
       "<style>\n",
       "    .dataframe thead tr:only-child th {\n",
       "        text-align: right;\n",
       "    }\n",
       "\n",
       "    .dataframe thead th {\n",
       "        text-align: left;\n",
       "    }\n",
       "\n",
       "    .dataframe tbody tr th {\n",
       "        vertical-align: top;\n",
       "    }\n",
       "</style>\n",
       "<table border=\"1\" class=\"dataframe\">\n",
       "  <thead>\n",
       "    <tr style=\"text-align: right;\">\n",
       "      <th></th>\n",
       "      <th>lat</th>\n",
       "      <th>lon</th>\n",
       "      <th>elevation</th>\n",
       "      <th>date</th>\n",
       "      <th>dir</th>\n",
       "      <th>spd</th>\n",
       "      <th>gus</th>\n",
       "      <th>temp</th>\n",
       "      <th>slp</th>\n",
       "    </tr>\n",
       "  </thead>\n",
       "  <tbody>\n",
       "    <tr>\n",
       "      <th>0</th>\n",
       "      <td>60.514</td>\n",
       "      <td>22.263</td>\n",
       "      <td>49.1</td>\n",
       "      <td>1902-01-01</td>\n",
       "      <td>2.199135</td>\n",
       "      <td>23.700998</td>\n",
       "      <td>***</td>\n",
       "      <td>30.200000</td>\n",
       "      <td>994.28</td>\n",
       "    </tr>\n",
       "    <tr>\n",
       "      <th>1</th>\n",
       "      <td>60.514</td>\n",
       "      <td>22.263</td>\n",
       "      <td>49.1</td>\n",
       "      <td>1902-01-02</td>\n",
       "      <td>2.443461</td>\n",
       "      <td>6.800000</td>\n",
       "      <td>***</td>\n",
       "      <td>17.200000</td>\n",
       "      <td>993.96</td>\n",
       "    </tr>\n",
       "    <tr>\n",
       "      <th>2</th>\n",
       "      <td>60.514</td>\n",
       "      <td>22.263</td>\n",
       "      <td>49.1</td>\n",
       "      <td>1902-01-03</td>\n",
       "      <td>2.208953</td>\n",
       "      <td>9.938701</td>\n",
       "      <td>***</td>\n",
       "      <td>-0.200000</td>\n",
       "      <td>1005.08</td>\n",
       "    </tr>\n",
       "    <tr>\n",
       "      <th>3</th>\n",
       "      <td>60.514</td>\n",
       "      <td>22.263</td>\n",
       "      <td>49.1</td>\n",
       "      <td>1902-01-04</td>\n",
       "      <td>3.949456</td>\n",
       "      <td>23.453623</td>\n",
       "      <td>***</td>\n",
       "      <td>28.733333</td>\n",
       "      <td>985.386666667</td>\n",
       "    </tr>\n",
       "    <tr>\n",
       "      <th>4</th>\n",
       "      <td>60.514</td>\n",
       "      <td>22.263</td>\n",
       "      <td>49.1</td>\n",
       "      <td>1902-01-05</td>\n",
       "      <td>4.417350</td>\n",
       "      <td>5.170652</td>\n",
       "      <td>***</td>\n",
       "      <td>30.466667</td>\n",
       "      <td>978.293333333</td>\n",
       "    </tr>\n",
       "  </tbody>\n",
       "</table>\n",
       "</div>"
      ],
      "text/plain": [
       "      lat     lon  elevation       date       dir        spd  gus       temp  \\\n",
       "0  60.514  22.263       49.1 1902-01-01  2.199135  23.700998  ***  30.200000   \n",
       "1  60.514  22.263       49.1 1902-01-02  2.443461   6.800000  ***  17.200000   \n",
       "2  60.514  22.263       49.1 1902-01-03  2.208953   9.938701  ***  -0.200000   \n",
       "3  60.514  22.263       49.1 1902-01-04  3.949456  23.453623  ***  28.733333   \n",
       "4  60.514  22.263       49.1 1902-01-05  4.417350   5.170652  ***  30.466667   \n",
       "\n",
       "             slp  \n",
       "0         994.28  \n",
       "1         993.96  \n",
       "2        1005.08  \n",
       "3  985.386666667  \n",
       "4  978.293333333  "
      ]
     },
     "execution_count": 6,
     "metadata": {},
     "output_type": "execute_result"
    }
   ],
   "source": [
    "dat.head()"
   ]
  },
  {
   "cell_type": "code",
   "execution_count": 7,
   "metadata": {
    "collapsed": true
   },
   "outputs": [],
   "source": [
    "#Add more date columns for specific analyses\n",
    "dat['year'] = pd.DatetimeIndex(dat['date']).year\n",
    "dat['month'] = pd.DatetimeIndex(dat['date']).month\n",
    "dat['day'] = pd.DatetimeIndex(dat['date']).day\n",
    "dat['dayOfYear'] = pd.DatetimeIndex(dat['date']).dayofyear\n",
    "dat['dir']=dat['dir']*(180/math.pi)\n",
    "\n",
    "\n",
    "#Replace *** with NaN's \n",
    "dat = dat.replace('***',np.nan)"
   ]
  },
  {
   "cell_type": "code",
   "execution_count": 8,
   "metadata": {},
   "outputs": [
    {
     "data": {
      "text/html": [
       "<div>\n",
       "<style>\n",
       "    .dataframe thead tr:only-child th {\n",
       "        text-align: right;\n",
       "    }\n",
       "\n",
       "    .dataframe thead th {\n",
       "        text-align: left;\n",
       "    }\n",
       "\n",
       "    .dataframe tbody tr th {\n",
       "        vertical-align: top;\n",
       "    }\n",
       "</style>\n",
       "<table border=\"1\" class=\"dataframe\">\n",
       "  <thead>\n",
       "    <tr style=\"text-align: right;\">\n",
       "      <th></th>\n",
       "      <th>lat</th>\n",
       "      <th>lon</th>\n",
       "      <th>elevation</th>\n",
       "      <th>date</th>\n",
       "      <th>dir</th>\n",
       "      <th>spd</th>\n",
       "      <th>gus</th>\n",
       "      <th>temp</th>\n",
       "      <th>slp</th>\n",
       "      <th>year</th>\n",
       "      <th>month</th>\n",
       "      <th>day</th>\n",
       "      <th>dayOfYear</th>\n",
       "    </tr>\n",
       "  </thead>\n",
       "  <tbody>\n",
       "    <tr>\n",
       "      <th>0</th>\n",
       "      <td>60.514</td>\n",
       "      <td>22.263</td>\n",
       "      <td>49.1</td>\n",
       "      <td>1902-01-01</td>\n",
       "      <td>126.001139</td>\n",
       "      <td>23.700998</td>\n",
       "      <td>NaN</td>\n",
       "      <td>30.200000</td>\n",
       "      <td>994.28</td>\n",
       "      <td>1902</td>\n",
       "      <td>1</td>\n",
       "      <td>1</td>\n",
       "      <td>1</td>\n",
       "    </tr>\n",
       "    <tr>\n",
       "      <th>1</th>\n",
       "      <td>60.514</td>\n",
       "      <td>22.263</td>\n",
       "      <td>49.1</td>\n",
       "      <td>1902-01-02</td>\n",
       "      <td>140.000000</td>\n",
       "      <td>6.800000</td>\n",
       "      <td>NaN</td>\n",
       "      <td>17.200000</td>\n",
       "      <td>993.96</td>\n",
       "      <td>1902</td>\n",
       "      <td>1</td>\n",
       "      <td>2</td>\n",
       "      <td>2</td>\n",
       "    </tr>\n",
       "    <tr>\n",
       "      <th>2</th>\n",
       "      <td>60.514</td>\n",
       "      <td>22.263</td>\n",
       "      <td>49.1</td>\n",
       "      <td>1902-01-03</td>\n",
       "      <td>126.563681</td>\n",
       "      <td>9.938701</td>\n",
       "      <td>NaN</td>\n",
       "      <td>-0.200000</td>\n",
       "      <td>1005.08</td>\n",
       "      <td>1902</td>\n",
       "      <td>1</td>\n",
       "      <td>3</td>\n",
       "      <td>3</td>\n",
       "    </tr>\n",
       "    <tr>\n",
       "      <th>3</th>\n",
       "      <td>60.514</td>\n",
       "      <td>22.263</td>\n",
       "      <td>49.1</td>\n",
       "      <td>1902-01-04</td>\n",
       "      <td>226.287188</td>\n",
       "      <td>23.453623</td>\n",
       "      <td>NaN</td>\n",
       "      <td>28.733333</td>\n",
       "      <td>985.386666667</td>\n",
       "      <td>1902</td>\n",
       "      <td>1</td>\n",
       "      <td>4</td>\n",
       "      <td>4</td>\n",
       "    </tr>\n",
       "    <tr>\n",
       "      <th>4</th>\n",
       "      <td>60.514</td>\n",
       "      <td>22.263</td>\n",
       "      <td>49.1</td>\n",
       "      <td>1902-01-05</td>\n",
       "      <td>253.095503</td>\n",
       "      <td>5.170652</td>\n",
       "      <td>NaN</td>\n",
       "      <td>30.466667</td>\n",
       "      <td>978.293333333</td>\n",
       "      <td>1902</td>\n",
       "      <td>1</td>\n",
       "      <td>5</td>\n",
       "      <td>5</td>\n",
       "    </tr>\n",
       "  </tbody>\n",
       "</table>\n",
       "</div>"
      ],
      "text/plain": [
       "      lat     lon  elevation       date         dir        spd  gus  \\\n",
       "0  60.514  22.263       49.1 1902-01-01  126.001139  23.700998  NaN   \n",
       "1  60.514  22.263       49.1 1902-01-02  140.000000   6.800000  NaN   \n",
       "2  60.514  22.263       49.1 1902-01-03  126.563681   9.938701  NaN   \n",
       "3  60.514  22.263       49.1 1902-01-04  226.287188  23.453623  NaN   \n",
       "4  60.514  22.263       49.1 1902-01-05  253.095503   5.170652  NaN   \n",
       "\n",
       "        temp            slp  year  month  day  dayOfYear  \n",
       "0  30.200000         994.28  1902      1    1          1  \n",
       "1  17.200000         993.96  1902      1    2          2  \n",
       "2  -0.200000        1005.08  1902      1    3          3  \n",
       "3  28.733333  985.386666667  1902      1    4          4  \n",
       "4  30.466667  978.293333333  1902      1    5          5  "
      ]
     },
     "execution_count": 8,
     "metadata": {},
     "output_type": "execute_result"
    }
   ],
   "source": [
    "dat.head()"
   ]
  },
  {
   "cell_type": "code",
   "execution_count": 9,
   "metadata": {
    "collapsed": true
   },
   "outputs": [],
   "source": [
    "#As a horrible person, I'm going to assume there are always 365 days in a year and throw out some leap years!\n",
    "dayOfYrDic ={}\n",
    "\n",
    "for i in range(365):\n",
    "    dayOfYrDic[i+1]= dat[dat['dayOfYear']==i+1]"
   ]
  },
  {
   "cell_type": "code",
   "execution_count": 10,
   "metadata": {},
   "outputs": [
    {
     "data": {
      "text/html": [
       "<div>\n",
       "<style>\n",
       "    .dataframe thead tr:only-child th {\n",
       "        text-align: right;\n",
       "    }\n",
       "\n",
       "    .dataframe thead th {\n",
       "        text-align: left;\n",
       "    }\n",
       "\n",
       "    .dataframe tbody tr th {\n",
       "        vertical-align: top;\n",
       "    }\n",
       "</style>\n",
       "<table border=\"1\" class=\"dataframe\">\n",
       "  <thead>\n",
       "    <tr style=\"text-align: right;\">\n",
       "      <th></th>\n",
       "      <th>lat</th>\n",
       "      <th>lon</th>\n",
       "      <th>elevation</th>\n",
       "      <th>date</th>\n",
       "      <th>dir</th>\n",
       "      <th>spd</th>\n",
       "      <th>gus</th>\n",
       "      <th>temp</th>\n",
       "      <th>slp</th>\n",
       "      <th>year</th>\n",
       "      <th>month</th>\n",
       "      <th>day</th>\n",
       "      <th>dayOfYear</th>\n",
       "    </tr>\n",
       "  </thead>\n",
       "  <tbody>\n",
       "    <tr>\n",
       "      <th>8</th>\n",
       "      <td>60.514</td>\n",
       "      <td>22.263</td>\n",
       "      <td>49.1</td>\n",
       "      <td>1902-01-09</td>\n",
       "      <td>270.000000</td>\n",
       "      <td>14.200000</td>\n",
       "      <td>NaN</td>\n",
       "      <td>28.133333</td>\n",
       "      <td>999.28</td>\n",
       "      <td>1902</td>\n",
       "      <td>1</td>\n",
       "      <td>9</td>\n",
       "      <td>9</td>\n",
       "    </tr>\n",
       "    <tr>\n",
       "      <th>373</th>\n",
       "      <td>60.514</td>\n",
       "      <td>22.263</td>\n",
       "      <td>49.1</td>\n",
       "      <td>1903-01-09</td>\n",
       "      <td>290.000000</td>\n",
       "      <td>19.333333</td>\n",
       "      <td>NaN</td>\n",
       "      <td>28.466667</td>\n",
       "      <td>993.253333333</td>\n",
       "      <td>1903</td>\n",
       "      <td>1</td>\n",
       "      <td>9</td>\n",
       "      <td>9</td>\n",
       "    </tr>\n",
       "    <tr>\n",
       "      <th>738</th>\n",
       "      <td>60.514</td>\n",
       "      <td>22.263</td>\n",
       "      <td>49.1</td>\n",
       "      <td>1904-01-09</td>\n",
       "      <td>156.813859</td>\n",
       "      <td>15.999506</td>\n",
       "      <td>NaN</td>\n",
       "      <td>25.333333</td>\n",
       "      <td>1014.12</td>\n",
       "      <td>1904</td>\n",
       "      <td>1</td>\n",
       "      <td>9</td>\n",
       "      <td>9</td>\n",
       "    </tr>\n",
       "    <tr>\n",
       "      <th>1104</th>\n",
       "      <td>60.514</td>\n",
       "      <td>22.263</td>\n",
       "      <td>49.1</td>\n",
       "      <td>1905-01-09</td>\n",
       "      <td>281.418642</td>\n",
       "      <td>15.477500</td>\n",
       "      <td>NaN</td>\n",
       "      <td>35.266667</td>\n",
       "      <td>976.673333333</td>\n",
       "      <td>1905</td>\n",
       "      <td>1</td>\n",
       "      <td>9</td>\n",
       "      <td>9</td>\n",
       "    </tr>\n",
       "    <tr>\n",
       "      <th>1466</th>\n",
       "      <td>60.514</td>\n",
       "      <td>22.263</td>\n",
       "      <td>49.1</td>\n",
       "      <td>1952-01-09</td>\n",
       "      <td>212.504429</td>\n",
       "      <td>17.150734</td>\n",
       "      <td>NaN</td>\n",
       "      <td>39.263158</td>\n",
       "      <td>993.923684211</td>\n",
       "      <td>1952</td>\n",
       "      <td>1</td>\n",
       "      <td>9</td>\n",
       "      <td>9</td>\n",
       "    </tr>\n",
       "  </tbody>\n",
       "</table>\n",
       "</div>"
      ],
      "text/plain": [
       "         lat     lon  elevation       date         dir        spd  gus  \\\n",
       "8     60.514  22.263       49.1 1902-01-09  270.000000  14.200000  NaN   \n",
       "373   60.514  22.263       49.1 1903-01-09  290.000000  19.333333  NaN   \n",
       "738   60.514  22.263       49.1 1904-01-09  156.813859  15.999506  NaN   \n",
       "1104  60.514  22.263       49.1 1905-01-09  281.418642  15.477500  NaN   \n",
       "1466  60.514  22.263       49.1 1952-01-09  212.504429  17.150734  NaN   \n",
       "\n",
       "           temp            slp  year  month  day  dayOfYear  \n",
       "8     28.133333         999.28  1902      1    9          9  \n",
       "373   28.466667  993.253333333  1903      1    9          9  \n",
       "738   25.333333        1014.12  1904      1    9          9  \n",
       "1104  35.266667  976.673333333  1905      1    9          9  \n",
       "1466  39.263158  993.923684211  1952      1    9          9  "
      ]
     },
     "execution_count": 10,
     "metadata": {},
     "output_type": "execute_result"
    }
   ],
   "source": [
    "dayOfYrDic[9].head()"
   ]
  },
  {
   "cell_type": "markdown",
   "metadata": {},
   "source": [
    "# Wind Speed Prediction"
   ]
  },
  {
   "cell_type": "markdown",
   "metadata": {},
   "source": [
    "### Here we utilize gust, temp, direction, and slp as features"
   ]
  },
  {
   "cell_type": "code",
   "execution_count": 23,
   "metadata": {},
   "outputs": [
    {
     "name": "stdout",
     "output_type": "stream",
     "text": [
      "7.85809372231 5.50465083454\n"
     ]
    },
    {
     "data": {
      "image/png": "[encoded data removed]",
      "text/plain": [
       "<matplotlib.figure.Figure at 0x113609c88>"
      ]
     },
     "metadata": {},
     "output_type": "display_data"
    }
   ],
   "source": [
    "#This one for plot\n",
    "npSqrtMSE = np.zeros(365)\n",
    "npSqrtMSE = [-100.0 for x in npSqrtMSE]\n",
    "npSqrtMSE = np.array(npSqrtMSE)\n",
    "\n",
    "#This is one for mean\n",
    "sqrtMSE = []\n",
    "for i in range(365):\n",
    "    df = dayOfYrDic[i+1][['gus','temp','dir','slp','spd']]\n",
    "    df = df.dropna()\n",
    "    X = df[['gus','temp','dir','slp']]\n",
    "    y = df[['spd']]\n",
    "    X_train, X_test, y_train, y_test = train_test_split(X,y,test_size = 0.25, random_state = 1, shuffle = True)\n",
    "    if len(X_train)<5:\n",
    "        continue\n",
    "    #lm = LinearRegression()\n",
    "    \n",
    "    lm = Ridge(alpha = 0.2)\n",
    "    lm.fit(X = X_train, y = y_train)\n",
    "    y_pred = cross_val_predict(lm,X_train,y_train,cv=5)\n",
    "    er = math.sqrt(mean_squared_error(y_pred,y_train))\n",
    "    sqrtMSE.append(er)\n",
    "    npSqrtMSE[i] = er\n",
    "\n",
    "#Calculate average sqrt(MSE)\n",
    "sqrtMSE = np.array(sqrtMSE)\n",
    "avgSqrtMSE = np.mean(sqrtMSE)\n",
    "medSqrtMSE = np.median(sqrtMSE)\n",
    "\n",
    "print(avgSqrtMSE, medSqrtMSE)\n",
    "\n",
    "#plt the errors\n",
    "day = np.linspace(1,365,365)\n",
    "plt.scatter(day,npSqrtMSE)\n",
    "plt.ylim(0,100)\n",
    "plt.show()"
   ]
  },
  {
   "cell_type": "code",
   "execution_count": 12,
   "metadata": {},
   "outputs": [
    {
     "data": {
      "image/png": "[encoded data removed]",
      "text/plain": [
       "<matplotlib.figure.Figure at 0x11304eba8>"
      ]
     },
     "metadata": {},
     "output_type": "display_data"
    }
   ],
   "source": [
    "#Need to figure out what degree polynomial to use...\n",
    "degreeList =[1,2,3,4,5,6,7,8,9]\n",
    "\n",
    "avgList =[]\n",
    "medList = []\n",
    "for degree in degreeList:\n",
    "    #This is one for mean\n",
    "    sqrtMSE = []\n",
    "    for i in range(365):\n",
    "        df = dayOfYrDic[i+1][['gus','temp','dir','slp','spd']]\n",
    "        df = df.dropna()\n",
    "        X = df[['gus','temp','dir','slp']]\n",
    "        y = df[['spd']]\n",
    "        poly = PolynomialFeatures(degree = degree)\n",
    "        X_ = poly.fit_transform(X)\n",
    "        X_train, X_test, y_train, y_test = train_test_split(X_,y,test_size = 0.25, random_state = 1, shuffle = True)\n",
    "        if len(X_train)<5:\n",
    "            continue\n",
    "        lm = LinearRegression()\n",
    "        lm.fit(X = X_train, y = y_train)\n",
    "        y_pred = cross_val_predict(lm,X_train,y_train,cv=5)\n",
    "        er = math.sqrt(mean_squared_error(y_pred,y_train))\n",
    "        sqrtMSE.append(er)\n",
    "\n",
    "    #Calculate average and median sqrt(MSE)\n",
    "    sqrtMSE = np.array(sqrtMSE)\n",
    "    avgSqrtMSE = np.mean(sqrtMSE)\n",
    "    medSqrtMSE = np.median(sqrtMSE)\n",
    "\n",
    "    avgList.append(avgSqrtMSE)\n",
    "    medList.append(medSqrtMSE)\n",
    "    \n",
    "\n",
    "plt.plot(degreeList,avgList,label=\"Average\")\n",
    "plt.plot(degreeList,medList,label=\"Median\")\n",
    "plt.ylabel(\"sqrt(MSE)\")\n",
    "plt.xlabel(\"polynomial degree\")\n",
    "plt.title(\"Polynomal Degree Error\")\n",
    "plt.legend()\n",
    "plt.show()"
   ]
  },
  {
   "cell_type": "markdown",
   "metadata": {},
   "source": [
    "### We should use use degree 5"
   ]
  },
  {
   "cell_type": "code",
   "execution_count": 26,
   "metadata": {},
   "outputs": [
    {
     "name": "stdout",
     "output_type": "stream",
     "text": [
      "15.9320482544 6.46915192604\n"
     ]
    },
    {
     "data": {
      "image/png": "[encoded data removed]",
      "text/plain": [
       "<matplotlib.figure.Figure at 0x11351a518>"
      ]
     },
     "metadata": {},
     "output_type": "display_data"
    },
    {
     "name": "stdout",
     "output_type": "stream",
     "text": [
      "TESTING IS DONE BELOW.  THIS WAS PERFORMED AFTER OPTIMIZATION\n",
      "Average R^2 vale (test set):  -1277.51453061\n",
      "\n",
      "Median R^2 value (test set):  -13.7024810393\n",
      "\n",
      "Average RMSE (test set):  17.5834067724\n",
      "\n",
      "Median RMSE (test set):  7.34209761493\n"
     ]
    }
   ],
   "source": [
    "#This one for plot\n",
    "npSqrtMSE = np.zeros(365)\n",
    "npSqrtMSE = [-100.0 for x in npSqrtMSE]\n",
    "npSqrtMSE = np.array(npSqrtMSE)\n",
    "\n",
    "#This is one for mean\n",
    "sqrtMSE = []\n",
    "\n",
    "#These lists are for testing\n",
    "testScore=[]\n",
    "testRMSE = []\n",
    "for i in range(365):\n",
    "    df = dayOfYrDic[i+1][['gus','temp','dir','slp','spd']]\n",
    "    df = df.dropna()\n",
    "    X = df[['gus','temp','dir','slp']]\n",
    "    y = df[['spd']]\n",
    "    poly = PolynomialFeatures(degree =2)\n",
    "    X_ = poly.fit_transform(X)\n",
    "    X_train, X_test, y_train, y_test = train_test_split(X_,y,test_size = 0.25, random_state = 1, shuffle = True)\n",
    "    if len(X_train)<5:\n",
    "        continue\n",
    "    #lm = LinearRegression()\n",
    "    lm = Ridge()\n",
    "    lm.fit(X = X_train, y = y_train)\n",
    "    y_pred = cross_val_predict(lm,X_train,y_train,cv=5)\n",
    "    er = math.sqrt(mean_squared_error(y_pred,y_train))\n",
    "    sqrtMSE.append(er)\n",
    "    npSqrtMSE[i] = er\n",
    "    \n",
    "    #below if for testing\n",
    "    #the following was implemented after optimization\n",
    "    score = lm.score(X=X_test, y = y_test)\n",
    "    testScore.append(score)\n",
    "    \n",
    "    y_predict = lm.predict(X_test)\n",
    "    rmse = math.sqrt(mean_squared_error(y_predict,y_test))\n",
    "    testRMSE.append(rmse)\n",
    "\n",
    "    \n",
    "\n",
    "#Calculate average sqrt(MSE)\n",
    "sqrtMSE = np.array(sqrtMSE)\n",
    "avgSqrtMSE = np.mean(sqrtMSE)\n",
    "medSqrtMSE = np.median(sqrtMSE)\n",
    "\n",
    "print(avgSqrtMSE, medSqrtMSE)\n",
    "\n",
    "#plt the errors\n",
    "day = np.linspace(1,365,365)\n",
    "plt.scatter(day,npSqrtMSE)\n",
    "plt.ylim(0,100)\n",
    "plt.show()\n",
    "\n",
    "#below if for testing\n",
    "testScore = np.array(testScore)\n",
    "testRMSE = np.array(testRMSE)\n",
    "scoreMean = np.mean(testScore)\n",
    "rmseMean = np.mean(testRMSE)\n",
    "scoreMed = np.median(testScore)\n",
    "rmseMed = np.median(testRMSE)\n",
    "print(\"TESTING IS DONE BELOW.  THIS WAS PERFORMED AFTER OPTIMIZATION\")\n",
    "\n",
    "print(\"Average R^2 vale (test set): \",scoreMean)\n",
    "print()\n",
    "print(\"Median R^2 value (test set): \",scoreMed)\n",
    "print()\n",
    "print(\"Average RMSE (test set): \", rmseMean)\n",
    "print()\n",
    "print(\"Median RMSE (test set): \", rmseMed)\n"
   ]
  },
  {
   "cell_type": "markdown",
   "metadata": {},
   "source": [
    "Put simply:\n",
    "\n",
    "When R2<0R2<0, a horizontal line explains the data better than your model.\n",
    "You also asked about R2=0R2=0.\n",
    "\n",
    "When R2=0R2=0, a horizontal line explains the data equally as well as your model."
   ]
  },
  {
   "cell_type": "markdown",
   "metadata": {},
   "source": [
    "### Taking out gust since it has the most NaN values"
   ]
  },
  {
   "cell_type": "code",
   "execution_count": 14,
   "metadata": {},
   "outputs": [
    {
     "name": "stdout",
     "output_type": "stream",
     "text": [
      "4.18841537028 4.085667389\n"
     ]
    },
    {
     "data": {
      "image/png": "[encoded data removed]",
      "text/plain": [
       "<matplotlib.figure.Figure at 0x11360e2b0>"
      ]
     },
     "metadata": {},
     "output_type": "display_data"
    },
    {
     "name": "stdout",
     "output_type": "stream",
     "text": [
      "TESTING IS DONE BELOW.  THIS WAS PERFORMED AFTER OPTIMIZATION\n",
      "Average R^2 vale (test set):  -0.253770004727\n",
      "\n",
      "Median R^2 value (test set):  -0.125269808568\n",
      "\n",
      "Average RMSE (test set):  3.74636508737\n",
      "\n",
      "Median RMSE (test set):  3.64689244058\n"
     ]
    }
   ],
   "source": [
    "#This one for plot\n",
    "npSqrtMSE = np.zeros(365)\n",
    "npSqrtMSE = [-100.0 for x in npSqrtMSE]\n",
    "npSqrtMSE = np.array(npSqrtMSE)\n",
    "\n",
    "#This is one for mean\n",
    "sqrtMSE = []\n",
    "\n",
    "#These lists are for testing\n",
    "testScore=[]\n",
    "testRMSE = []\n",
    "\n",
    "for i in range(365):\n",
    "    df = dayOfYrDic[i+1][['temp','dir','slp','spd']]\n",
    "    df = df.dropna()\n",
    "    X = df[['temp','dir','slp']]\n",
    "    y = df[['spd']]\n",
    "    X_train, X_test, y_train, y_test = train_test_split(X,y,test_size = 0.25, random_state = 1, shuffle = True)\n",
    "    if len(X_train)<5:\n",
    "        continue\n",
    "    lm = LinearRegression()\n",
    "    lm.fit(X = X_train, y = y_train)\n",
    "    y_pred = cross_val_predict(lm,X_train,y_train,cv=5)\n",
    "    er = math.sqrt(mean_squared_error(y_pred,y_train))\n",
    "    \n",
    "    sqrtMSE.append(er)\n",
    "    npSqrtMSE[i] = er\n",
    "    \n",
    "    #below if for testing\n",
    "    #the following was implemented after optimization\n",
    "    score = lm.score(X=X_test, y = y_test)\n",
    "    testScore.append(score)\n",
    "    \n",
    "    y_predict = lm.predict(X_test)\n",
    "    rmse = math.sqrt(mean_squared_error(y_predict,y_test))\n",
    "    testRMSE.append(rmse)\n",
    "\n",
    "#Calculate average sqrt(MSE)\n",
    "sqrtMSE = np.array(sqrtMSE)\n",
    "avgSqrtMSE = np.mean(sqrtMSE)\n",
    "medSqrtMSE = np.median(sqrtMSE)\n",
    "\n",
    "print(avgSqrtMSE, medSqrtMSE)\n",
    "\n",
    "#plt the errors\n",
    "day = np.linspace(1,365,365)\n",
    "plt.scatter(day,npSqrtMSE)\n",
    "#plt.ylim(0,100)\n",
    "plt.show()\n",
    "\n",
    "#below if for testing\n",
    "testScore = np.array(testScore)\n",
    "testRMSE = np.array(testRMSE)\n",
    "scoreMean = np.mean(testScore)\n",
    "rmseMean = np.mean(testRMSE)\n",
    "scoreMed = np.median(testScore)\n",
    "rmseMed = np.median(testRMSE)\n",
    "print(\"TESTING IS DONE BELOW.  THIS WAS PERFORMED AFTER OPTIMIZATION\")\n",
    "\n",
    "print(\"Average R^2 vale (test set): \",scoreMean)\n",
    "print()\n",
    "print(\"Median R^2 value (test set): \",scoreMed)\n",
    "print()\n",
    "print(\"Average RMSE (test set): \", rmseMean)\n",
    "print()\n",
    "print(\"Median RMSE (test set): \", rmseMed)"
   ]
  },
  {
   "cell_type": "code",
   "execution_count": 15,
   "metadata": {},
   "outputs": [
    {
     "data": {
      "image/png": "[encoded data removed]",
      "text/plain": [
       "<matplotlib.figure.Figure at 0x10934b358>"
      ]
     },
     "metadata": {},
     "output_type": "display_data"
    }
   ],
   "source": [
    "#Need to figure out what degree polynomial to use...\n",
    "degreeList =[1,2,3,4]\n",
    "\n",
    "avgList =[]\n",
    "medList = []\n",
    "for degree in degreeList:\n",
    "    #This is one for mean\n",
    "    sqrtMSE = []\n",
    "    for i in range(365):\n",
    "        df = dayOfYrDic[i+1][['temp','dir','slp','spd']]\n",
    "        df = df.dropna()\n",
    "        X = df[['temp','dir','slp']]\n",
    "        y = df[['spd']]\n",
    "        poly = PolynomialFeatures(degree = degree)\n",
    "        X_ = poly.fit_transform(X)\n",
    "        X_train, X_test, y_train, y_test = train_test_split(X_,y,test_size = 0.25, random_state = 1, shuffle = True)\n",
    "        if len(X_train)<5:\n",
    "            continue\n",
    "        lm = LinearRegression()\n",
    "        lm.fit(X = X_train, y = y_train)\n",
    "        y_pred = cross_val_predict(lm,X_train,y_train,cv=5)\n",
    "        er = math.sqrt(mean_squared_error(y_pred,y_train))\n",
    "        sqrtMSE.append(er)\n",
    "        \n",
    "\n",
    "    #Calculate average and median sqrt(MSE)\n",
    "    sqrtMSE = np.array(sqrtMSE)\n",
    "    avgSqrtMSE = np.mean(sqrtMSE)\n",
    "    medSqrtMSE = np.median(sqrtMSE)\n",
    "\n",
    "    avgList.append(avgSqrtMSE)\n",
    "    medList.append(medSqrtMSE)\n",
    "    \n",
    "\n",
    "plt.plot(degreeList,avgList,label=\"Average\")\n",
    "plt.plot(degreeList,medList,label=\"Median\")\n",
    "plt.ylabel(\"sqrt(MSE)\")\n",
    "plt.xlabel(\"polynomial degree\")\n",
    "plt.title(\"Polynomal Degree Cross Validataion Error\")\n",
    "plt.legend()\n",
    "plt.show()"
   ]
  },
  {
   "cell_type": "markdown",
   "metadata": {},
   "source": [
    "### Doesn't seem like polynomial helps"
   ]
  },
  {
   "cell_type": "markdown",
   "metadata": {},
   "source": [
    "### Let's try some features indivdually\n"
   ]
  },
  {
   "cell_type": "markdown",
   "metadata": {},
   "source": [
    "### Gust"
   ]
  },
  {
   "cell_type": "code",
   "execution_count": 16,
   "metadata": {},
   "outputs": [
    {
     "name": "stdout",
     "output_type": "stream",
     "text": [
      "3.04841191327 2.82575302762\n"
     ]
    },
    {
     "data": {
      "image/png": "[encoded data removed]",
      "text/plain": [
       "<matplotlib.figure.Figure at 0x1130185c0>"
      ]
     },
     "metadata": {},
     "output_type": "display_data"
    },
    {
     "name": "stdout",
     "output_type": "stream",
     "text": [
      "TESTING IS DONE BELOW.  THIS WAS PERFORMED AFTER OPTIMIZATION\n",
      "Average R^2 vale (test set):  -77.8325408764\n",
      "\n",
      "Median R^2 value (test set):  -0.499087773046\n",
      "\n",
      "Average RMSE (test set):  2.80929627677\n",
      "\n",
      "Median RMSE (test set):  2.57726884169\n"
     ]
    }
   ],
   "source": [
    "#This one for plot\n",
    "npSqrtMSE = np.zeros(365)\n",
    "npSqrtMSE = [-100.0 for x in npSqrtMSE]\n",
    "npSqrtMSE = np.array(npSqrtMSE)\n",
    "\n",
    "#This is one for mean\n",
    "sqrtMSE = []\n",
    "\n",
    "#These lists are for testing\n",
    "testScore=[]\n",
    "testRMSE = []\n",
    "\n",
    "for i in range(365):\n",
    "    df = dayOfYrDic[i+1][['gus','spd']]\n",
    "    df = df.dropna()\n",
    "    X = df[['gus']]\n",
    "    y = df[['spd']]\n",
    "    X_train, X_test, y_train, y_test = train_test_split(X,y,test_size = 0.25, random_state = 1, shuffle = True)\n",
    "    if len(X_train)<5:\n",
    "        continue\n",
    "    lm = LinearRegression()\n",
    "    lm.fit(X = X_train, y = y_train)\n",
    "    y_pred = cross_val_predict(lm,X_train,y_train,cv=5)\n",
    "    er = math.sqrt(mean_squared_error(y_pred,y_train))\n",
    "\n",
    "    sqrtMSE.append(er)\n",
    "\n",
    "    npSqrtMSE[i] = er\n",
    "    \n",
    "    #below if for testing\n",
    "    #the following was implemented after optimization\n",
    "    score = lm.score(X=X_test, y = y_test)\n",
    "    testScore.append(score)\n",
    "    \n",
    "    y_predict = lm.predict(X_test)\n",
    "    rmse = math.sqrt(mean_squared_error(y_predict,y_test))\n",
    "    testRMSE.append(rmse)\n",
    "\n",
    "#Calculate average sqrt(MSE)\n",
    "sqrtMSE = np.array(sqrtMSE)\n",
    "avgSqrtMSE = np.mean(sqrtMSE)\n",
    "medSqrtMSE = np.median(sqrtMSE)\n",
    "\n",
    "print(avgSqrtMSE, medSqrtMSE)\n",
    "\n",
    "#plt the errors\n",
    "day = np.linspace(1,365,365)\n",
    "plt.scatter(day,npSqrtMSE)\n",
    "plt.ylim(0,20)\n",
    "plt.show()\n",
    "\n",
    "\n",
    "#below if for testing\n",
    "testScore = np.array(testScore)\n",
    "testRMSE = np.array(testRMSE)\n",
    "scoreMean = np.mean(testScore)\n",
    "rmseMean = np.mean(testRMSE)\n",
    "scoreMed = np.median(testScore)\n",
    "rmseMed = np.median(testRMSE)\n",
    "\n",
    "print(\"TESTING IS DONE BELOW.  THIS WAS PERFORMED AFTER OPTIMIZATION\")\n",
    "\n",
    "print(\"Average R^2 vale (test set): \",scoreMean)\n",
    "print()\n",
    "print(\"Median R^2 value (test set): \",scoreMed)\n",
    "print()\n",
    "print(\"Average RMSE (test set): \", rmseMean)\n",
    "print()\n",
    "print(\"Median RMSE (test set): \", rmseMed)"
   ]
  },
  {
   "cell_type": "markdown",
   "metadata": {},
   "source": [
    "### Temperature"
   ]
  },
  {
   "cell_type": "code",
   "execution_count": 17,
   "metadata": {},
   "outputs": [
    {
     "name": "stdout",
     "output_type": "stream",
     "text": [
      "4.05174024984 3.97056929235\n"
     ]
    },
    {
     "data": {
      "image/png": "[encoded data removed]",
      "text/plain": [
       "<matplotlib.figure.Figure at 0x1137d4cf8>"
      ]
     },
     "metadata": {},
     "output_type": "display_data"
    },
    {
     "name": "stdout",
     "output_type": "stream",
     "text": [
      "TESTING IS DONE BELOW.  THIS WAS PERFORMED AFTER OPTIMIZATION\n",
      "Average R^2 vale (test set):  -0.124064777098\n",
      "\n",
      "Median R^2 value (test set):  -0.0445364317404\n",
      "\n",
      "Average RMSE (test set):  3.64844095133\n",
      "\n",
      "Median RMSE (test set):  3.52830124523\n"
     ]
    }
   ],
   "source": [
    "#This one for plot\n",
    "npSqrtMSE = np.zeros(365)\n",
    "npSqrtMSE = [-100.0 for x in npSqrtMSE]\n",
    "npSqrtMSE = np.array(npSqrtMSE)\n",
    "\n",
    "#This is one for mean\n",
    "sqrtMSE = []\n",
    "\n",
    "#These lists are for testing\n",
    "testScore=[]\n",
    "testRMSE = []\n",
    "\n",
    "for i in range(365):\n",
    "    df = dayOfYrDic[i+1][['temp','spd']]\n",
    "    df = df.dropna()\n",
    "    X = df[['temp']]\n",
    "    y = df[['spd']]\n",
    "    X_train, X_test, y_train, y_test = train_test_split(X,y,test_size = 0.25, random_state = 1, shuffle = True)\n",
    "    if len(X_train)<5:\n",
    "        continue\n",
    "    lm = LinearRegression()\n",
    "    lm.fit(X = X_train, y = y_train)\n",
    "    y_pred = cross_val_predict(lm,X_train,y_train,cv=5)\n",
    "    er = math.sqrt(mean_squared_error(y_pred,y_train))\n",
    "    sqrtMSE.append(er)\n",
    "    npSqrtMSE[i] = er\n",
    "    \n",
    "    #below if for testing\n",
    "    #the following was implemented after optimization\n",
    "    score = lm.score(X=X_test, y = y_test)\n",
    "    testScore.append(score)\n",
    "    \n",
    "    y_predict = lm.predict(X_test)\n",
    "    rmse = math.sqrt(mean_squared_error(y_predict,y_test))\n",
    "    testRMSE.append(rmse)\n",
    "\n",
    "#Calculate average sqrt(MSE)\n",
    "sqrtMSE = np.array(sqrtMSE)\n",
    "avgSqrtMSE = np.mean(sqrtMSE)\n",
    "medSqrtMSE = np.median(sqrtMSE)\n",
    "\n",
    "print(avgSqrtMSE, medSqrtMSE)\n",
    "\n",
    "#plt the errors\n",
    "day = np.linspace(1,365,365)\n",
    "plt.scatter(day,npSqrtMSE)\n",
    "#plt.ylim(0,100)\n",
    "plt.show()\n",
    "\n",
    "#below if for testing\n",
    "testScore = np.array(testScore)\n",
    "testRMSE = np.array(testRMSE)\n",
    "scoreMean = np.mean(testScore)\n",
    "rmseMean = np.mean(testRMSE)\n",
    "scoreMed = np.median(testScore)\n",
    "rmseMed = np.median(testRMSE)\n",
    "\n",
    "print(\"TESTING IS DONE BELOW.  THIS WAS PERFORMED AFTER OPTIMIZATION\")\n",
    "\n",
    "print(\"Average R^2 vale (test set): \",scoreMean)\n",
    "print()\n",
    "print(\"Median R^2 value (test set): \",scoreMed)\n",
    "print()\n",
    "print(\"Average RMSE (test set): \", rmseMean)\n",
    "print()\n",
    "print(\"Median RMSE (test set): \", rmseMed)"
   ]
  },
  {
   "cell_type": "markdown",
   "metadata": {},
   "source": [
    "### Direction"
   ]
  },
  {
   "cell_type": "code",
   "execution_count": 18,
   "metadata": {},
   "outputs": [
    {
     "name": "stdout",
     "output_type": "stream",
     "text": [
      "4.11481386763 4.00248869851\n"
     ]
    },
    {
     "data": {
      "image/png": "[encoded data removed]",
      "text/plain": [
       "<matplotlib.figure.Figure at 0x112de93c8>"
      ]
     },
     "metadata": {},
     "output_type": "display_data"
    },
    {
     "name": "stdout",
     "output_type": "stream",
     "text": [
      "TESTING IS DONE BELOW.  THIS WAS PERFORMED AFTER OPTIMIZATION\n",
      "Average R^2 vale (test set):  -0.18739574187\n",
      "\n",
      "Median R^2 value (test set):  -0.0848790041261\n",
      "\n",
      "Average RMSE (test set):  3.74916902284\n",
      "\n",
      "Median RMSE (test set):  3.58556647609\n"
     ]
    }
   ],
   "source": [
    "#This one for plot\n",
    "npSqrtMSE = np.zeros(365)\n",
    "npSqrtMSE = [-100.0 for x in npSqrtMSE]\n",
    "npSqrtMSE = np.array(npSqrtMSE)\n",
    "\n",
    "#This is one for mean\n",
    "sqrtMSE = []\n",
    "\n",
    "#These lists are for testing\n",
    "testScore=[]\n",
    "testRMSE = []\n",
    "for i in range(365):\n",
    "    df = dayOfYrDic[i+1][['dir','spd']]\n",
    "    df = df.dropna()\n",
    "    X = df[['dir']]\n",
    "    y = df[['spd']]\n",
    "    X_train, X_test, y_train, y_test = train_test_split(X,y,test_size = 0.25, random_state = 1, shuffle = True)\n",
    "    if len(X_train)<5:\n",
    "        continue\n",
    "    lm = LinearRegression()\n",
    "    lm.fit(X = X_train, y = y_train)\n",
    "    y_pred = cross_val_predict(lm,X_train,y_train,cv=5)\n",
    "    er = math.sqrt(mean_squared_error(y_pred,y_train))\n",
    "    sqrtMSE.append(er)\n",
    "    npSqrtMSE[i] = er\n",
    "        \n",
    "    #below if for testing\n",
    "    #the following was implemented after optimization\n",
    "    score = lm.score(X=X_test, y = y_test)\n",
    "    testScore.append(score)\n",
    "    \n",
    "    y_predict = lm.predict(X_test)\n",
    "    rmse = math.sqrt(mean_squared_error(y_predict,y_test))\n",
    "    testRMSE.append(rmse)\n",
    "\n",
    "#Calculate average sqrt(MSE)\n",
    "sqrtMSE = np.array(sqrtMSE)\n",
    "avgSqrtMSE = np.mean(sqrtMSE)\n",
    "medSqrtMSE = np.median(sqrtMSE)\n",
    "\n",
    "print(avgSqrtMSE, medSqrtMSE)\n",
    "\n",
    "#plt the errors\n",
    "day = np.linspace(1,365,365)\n",
    "plt.scatter(day,npSqrtMSE)\n",
    "\n",
    "plt.show()\n",
    "\n",
    "#below if for testing\n",
    "testScore = np.array(testScore)\n",
    "testRMSE = np.array(testRMSE)\n",
    "scoreMean = np.mean(testScore)\n",
    "rmseMean = np.mean(testRMSE)\n",
    "scoreMed = np.median(testScore)\n",
    "rmseMed = np.median(testRMSE)\n",
    "\n",
    "print(\"TESTING IS DONE BELOW.  THIS WAS PERFORMED AFTER OPTIMIZATION\")\n",
    "\n",
    "print(\"Average R^2 vale (test set): \",scoreMean)\n",
    "print()\n",
    "print(\"Median R^2 value (test set): \",scoreMed)\n",
    "print()\n",
    "print(\"Average RMSE (test set): \", rmseMean)\n",
    "print()\n",
    "print(\"Median RMSE (test set): \", rmseMed)"
   ]
  },
  {
   "cell_type": "code",
   "execution_count": 19,
   "metadata": {},
   "outputs": [
    {
     "name": "stdout",
     "output_type": "stream",
     "text": [
      "4.13199595309 4.02598494728\n"
     ]
    },
    {
     "data": {
      "image/png": "[encoded data removed]",
      "text/plain": [
       "<matplotlib.figure.Figure at 0x11351a128>"
      ]
     },
     "metadata": {},
     "output_type": "display_data"
    },
    {
     "name": "stdout",
     "output_type": "stream",
     "text": [
      "TESTING IS DONE BELOW.  THIS WAS PERFORMED AFTER OPTIMIZATION\n",
      "Average R^2 vale (test set):  -0.189117274115\n",
      "\n",
      "Median R^2 value (test set):  -0.0681903136049\n",
      "\n",
      "Average RMSE (test set):  3.67606201891\n",
      "\n",
      "Median RMSE (test set):  3.58290965439\n"
     ]
    }
   ],
   "source": [
    "#This one for plot\n",
    "npSqrtMSE = np.zeros(365)\n",
    "npSqrtMSE = [-100.0 for x in npSqrtMSE]\n",
    "npSqrtMSE = np.array(npSqrtMSE)\n",
    "\n",
    "#This is one for mean\n",
    "sqrtMSE = []\n",
    "\n",
    "#These lists are for testing\n",
    "testScore=[]\n",
    "testRMSE = []\n",
    "for i in range(365):\n",
    "    df = dayOfYrDic[i+1][['slp','spd']]\n",
    "    df = df.dropna()\n",
    "    X = df[['slp']]\n",
    "    y = df[['spd']]\n",
    "    X_train, X_test, y_train, y_test = train_test_split(X,y,test_size = 0.25, random_state = 1, shuffle = True)\n",
    "    if len(X_train)<5:\n",
    "        continue\n",
    "    lm = LinearRegression()\n",
    "    lm.fit(X = X_train, y = y_train)\n",
    "    y_pred = cross_val_predict(lm,X_train,y_train,cv=5)\n",
    "    er = math.sqrt(mean_squared_error(y_pred,y_train))\n",
    "    sqrtMSE.append(er)\n",
    "    npSqrtMSE[i] = er\n",
    "            \n",
    "    #below if for testing\n",
    "    #the following was implemented after optimization\n",
    "    score = lm.score(X=X_test, y = y_test)\n",
    "    testScore.append(score)\n",
    "    \n",
    "    y_predict = lm.predict(X_test)\n",
    "    rmse = math.sqrt(mean_squared_error(y_predict,y_test))\n",
    "    testRMSE.append(rmse)\n",
    "\n",
    "#Calculate average sqrt(MSE)\n",
    "sqrtMSE = np.array(sqrtMSE)\n",
    "avgSqrtMSE = np.mean(sqrtMSE)\n",
    "medSqrtMSE = np.median(sqrtMSE)\n",
    "\n",
    "print(avgSqrtMSE, medSqrtMSE)\n",
    "\n",
    "#plt the errors\n",
    "day = np.linspace(1,365,365)\n",
    "plt.scatter(day,npSqrtMSE)\n",
    "\n",
    "plt.show()\n",
    "\n",
    "#below if for testing\n",
    "testScore = np.array(testScore)\n",
    "testRMSE = np.array(testRMSE)\n",
    "scoreMean = np.mean(testScore)\n",
    "rmseMean = np.mean(testRMSE)\n",
    "scoreMed = np.median(testScore)\n",
    "rmseMed = np.median(testRMSE)\n",
    "\n",
    "print(\"TESTING IS DONE BELOW.  THIS WAS PERFORMED AFTER OPTIMIZATION\")\n",
    "\n",
    "print(\"Average R^2 vale (test set): \",scoreMean)\n",
    "print()\n",
    "print(\"Median R^2 value (test set): \",scoreMed)\n",
    "print()\n",
    "print(\"Average RMSE (test set): \", rmseMean)\n",
    "print()\n",
    "print(\"Median RMSE (test set): \", rmseMed)"
   ]
  },
  {
   "cell_type": "markdown",
   "metadata": {},
   "source": [
    "# Check out the distriubution"
   ]
  },
  {
   "cell_type": "code",
   "execution_count": 20,
   "metadata": {
    "collapsed": true
   },
   "outputs": [],
   "source": [
    "dayMean = np.zeros(365)\n",
    "dayMean = [-100.0 for x in dayMean]\n",
    "dayMean = np.array(dayMean)\n",
    "\n",
    "for i in range(365):\n",
    "    yrSpd = dayOfYrDic[i+1]['spd']\n",
    "    yrSpd = np.array(yrSpd)\n",
    "    dayMean[i] = np.mean(yrSpd)\n",
    "    "
   ]
  },
  {
   "cell_type": "code",
   "execution_count": 21,
   "metadata": {},
   "outputs": [
    {
     "data": {
      "image/png": "[encoded data removed]",
      "text/plain": [
       "<matplotlib.figure.Figure at 0x1137c0d68>"
      ]
     },
     "metadata": {},
     "output_type": "display_data"
    }
   ],
   "source": [
    "plt.scatter(np.linspace(0,len(dayMean),len(dayMean)),dayMean)\n",
    "plt.show()"
   ]
  },
  {
   "cell_type": "markdown",
   "metadata": {},
   "source": [
    "# Testing"
   ]
  },
  {
   "cell_type": "code",
   "execution_count": null,
   "metadata": {
    "collapsed": true
   },
   "outputs": [],
   "source": []
  },
  {
   "cell_type": "code",
   "execution_count": null,
   "metadata": {
    "collapsed": true
   },
   "outputs": [],
   "source": []
  }
 ],
 "metadata": {
  "kernelspec": {
   "display_name": "Python 3",
   "language": "python",
   "name": "python3"
  },
  "language_info": {
   "codemirror_mode": {
    "name": "ipython",
    "version": 3
   },
   "file_extension": ".py",
   "mimetype": "text/x-python",
   "name": "python",
   "nbconvert_exporter": "python",
   "pygments_lexer": "ipython3",
   "version": "3.6.2"
  }
 },
 "nbformat": 4,
 "nbformat_minor": 2
}
