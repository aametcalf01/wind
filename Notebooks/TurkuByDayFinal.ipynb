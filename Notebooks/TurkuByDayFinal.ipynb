{
 "cells": [
  {
   "cell_type": "code",
   "execution_count": 1,
   "metadata": {},
   "outputs": [
    {
     "data": {
      "application/javascript": [
       "IPython.OutputArea.prototype._should_scroll = function(lines) {\n",
       "    return false;\n",
       "}"
      ],
      "text/plain": [
       "<IPython.core.display.Javascript object>"
      ]
     },
     "metadata": {},
     "output_type": "display_data"
    }
   ],
   "source": [
    "%%javascript\n",
    "IPython.OutputArea.prototype._should_scroll = function(lines) {\n",
    "    return false;\n",
    "}"
   ]
  },
  {
   "cell_type": "code",
   "execution_count": 21,
   "metadata": {
    "collapsed": true
   },
   "outputs": [],
   "source": [
    "import numpy as np\n",
    "import matplotlib.pyplot as plt\n",
    "import pandas as pd\n",
    "import os\n",
    "import datetime\n",
    "from sklearn.linear_model import LinearRegression\n",
    "from sklearn.metrics import mean_squared_error\n",
    "from sklearn.model_selection import cross_val_predict\n",
    "from sklearn.preprocessing import PolynomialFeatures\n",
    "from sklearn.model_selection import train_test_split\n",
    "import math\n",
    "from sklearn.utils import shuffle\n",
    "from sklearn.linear_model import Ridge\n",
    "from sklearn.preprocessing import scale\n"
   ]
  },
  {
   "cell_type": "code",
   "execution_count": 3,
   "metadata": {},
   "outputs": [
    {
     "data": {
      "text/html": [
       "<div>\n",
       "<style>\n",
       "    .dataframe thead tr:only-child th {\n",
       "        text-align: right;\n",
       "    }\n",
       "\n",
       "    .dataframe thead th {\n",
       "        text-align: left;\n",
       "    }\n",
       "\n",
       "    .dataframe tbody tr th {\n",
       "        vertical-align: top;\n",
       "    }\n",
       "</style>\n",
       "<table border=\"1\" class=\"dataframe\">\n",
       "  <thead>\n",
       "    <tr style=\"text-align: right;\">\n",
       "      <th></th>\n",
       "      <th>lat</th>\n",
       "      <th>lon</th>\n",
       "      <th>elevation</th>\n",
       "      <th>date</th>\n",
       "      <th>dir</th>\n",
       "      <th>spd</th>\n",
       "      <th>gus</th>\n",
       "      <th>temp</th>\n",
       "      <th>slp</th>\n",
       "    </tr>\n",
       "  </thead>\n",
       "  <tbody>\n",
       "    <tr>\n",
       "      <th>0</th>\n",
       "      <td>60.514</td>\n",
       "      <td>22.263</td>\n",
       "      <td>49.1</td>\n",
       "      <td>19020101</td>\n",
       "      <td>2.199135</td>\n",
       "      <td>23.700998</td>\n",
       "      <td>***</td>\n",
       "      <td>30.200000</td>\n",
       "      <td>994.28</td>\n",
       "    </tr>\n",
       "    <tr>\n",
       "      <th>1</th>\n",
       "      <td>60.514</td>\n",
       "      <td>22.263</td>\n",
       "      <td>49.1</td>\n",
       "      <td>19020102</td>\n",
       "      <td>2.443461</td>\n",
       "      <td>6.800000</td>\n",
       "      <td>***</td>\n",
       "      <td>17.200000</td>\n",
       "      <td>993.96</td>\n",
       "    </tr>\n",
       "    <tr>\n",
       "      <th>2</th>\n",
       "      <td>60.514</td>\n",
       "      <td>22.263</td>\n",
       "      <td>49.1</td>\n",
       "      <td>19020103</td>\n",
       "      <td>2.208953</td>\n",
       "      <td>9.938701</td>\n",
       "      <td>***</td>\n",
       "      <td>-0.200000</td>\n",
       "      <td>1005.08</td>\n",
       "    </tr>\n",
       "    <tr>\n",
       "      <th>3</th>\n",
       "      <td>60.514</td>\n",
       "      <td>22.263</td>\n",
       "      <td>49.1</td>\n",
       "      <td>19020104</td>\n",
       "      <td>3.949456</td>\n",
       "      <td>23.453623</td>\n",
       "      <td>***</td>\n",
       "      <td>28.733333</td>\n",
       "      <td>985.386666667</td>\n",
       "    </tr>\n",
       "    <tr>\n",
       "      <th>4</th>\n",
       "      <td>60.514</td>\n",
       "      <td>22.263</td>\n",
       "      <td>49.1</td>\n",
       "      <td>19020105</td>\n",
       "      <td>4.417350</td>\n",
       "      <td>5.170652</td>\n",
       "      <td>***</td>\n",
       "      <td>30.466667</td>\n",
       "      <td>978.293333333</td>\n",
       "    </tr>\n",
       "  </tbody>\n",
       "</table>\n",
       "</div>"
      ],
      "text/plain": [
       "      lat     lon  elevation      date       dir        spd  gus       temp  \\\n",
       "0  60.514  22.263       49.1  19020101  2.199135  23.700998  ***  30.200000   \n",
       "1  60.514  22.263       49.1  19020102  2.443461   6.800000  ***  17.200000   \n",
       "2  60.514  22.263       49.1  19020103  2.208953   9.938701  ***  -0.200000   \n",
       "3  60.514  22.263       49.1  19020104  3.949456  23.453623  ***  28.733333   \n",
       "4  60.514  22.263       49.1  19020105  4.417350   5.170652  ***  30.466667   \n",
       "\n",
       "             slp  \n",
       "0         994.28  \n",
       "1         993.96  \n",
       "2        1005.08  \n",
       "3  985.386666667  \n",
       "4  978.293333333  "
      ]
     },
     "execution_count": 3,
     "metadata": {},
     "output_type": "execute_result"
    }
   ],
   "source": [
    "file = os.getcwd()+\"/../data/029720-99999_allYrs_Avg.txt\"\n",
    "dat = pd.read_csv(file,header=None,names=[\"lat\", \"lon\", \"elevation\",\"date\",\"dir\",\"spd\",\"gus\",\"temp\",\"slp\"])\n",
    "dat.head()"
   ]
  },
  {
   "cell_type": "code",
   "execution_count": 4,
   "metadata": {},
   "outputs": [
    {
     "data": {
      "text/html": [
       "<div>\n",
       "<style>\n",
       "    .dataframe thead tr:only-child th {\n",
       "        text-align: right;\n",
       "    }\n",
       "\n",
       "    .dataframe thead th {\n",
       "        text-align: left;\n",
       "    }\n",
       "\n",
       "    .dataframe tbody tr th {\n",
       "        vertical-align: top;\n",
       "    }\n",
       "</style>\n",
       "<table border=\"1\" class=\"dataframe\">\n",
       "  <thead>\n",
       "    <tr style=\"text-align: right;\">\n",
       "      <th></th>\n",
       "      <th>lat</th>\n",
       "      <th>lon</th>\n",
       "      <th>elevation</th>\n",
       "      <th>date</th>\n",
       "      <th>dir</th>\n",
       "      <th>spd</th>\n",
       "      <th>gus</th>\n",
       "      <th>temp</th>\n",
       "      <th>slp</th>\n",
       "    </tr>\n",
       "  </thead>\n",
       "  <tbody>\n",
       "    <tr>\n",
       "      <th>0</th>\n",
       "      <td>60.514</td>\n",
       "      <td>22.263</td>\n",
       "      <td>49.1</td>\n",
       "      <td>1902-01-01</td>\n",
       "      <td>2.199135</td>\n",
       "      <td>23.700998</td>\n",
       "      <td>***</td>\n",
       "      <td>30.200000</td>\n",
       "      <td>994.28</td>\n",
       "    </tr>\n",
       "    <tr>\n",
       "      <th>1</th>\n",
       "      <td>60.514</td>\n",
       "      <td>22.263</td>\n",
       "      <td>49.1</td>\n",
       "      <td>1902-01-02</td>\n",
       "      <td>2.443461</td>\n",
       "      <td>6.800000</td>\n",
       "      <td>***</td>\n",
       "      <td>17.200000</td>\n",
       "      <td>993.96</td>\n",
       "    </tr>\n",
       "    <tr>\n",
       "      <th>2</th>\n",
       "      <td>60.514</td>\n",
       "      <td>22.263</td>\n",
       "      <td>49.1</td>\n",
       "      <td>1902-01-03</td>\n",
       "      <td>2.208953</td>\n",
       "      <td>9.938701</td>\n",
       "      <td>***</td>\n",
       "      <td>-0.200000</td>\n",
       "      <td>1005.08</td>\n",
       "    </tr>\n",
       "    <tr>\n",
       "      <th>3</th>\n",
       "      <td>60.514</td>\n",
       "      <td>22.263</td>\n",
       "      <td>49.1</td>\n",
       "      <td>1902-01-04</td>\n",
       "      <td>3.949456</td>\n",
       "      <td>23.453623</td>\n",
       "      <td>***</td>\n",
       "      <td>28.733333</td>\n",
       "      <td>985.386666667</td>\n",
       "    </tr>\n",
       "    <tr>\n",
       "      <th>4</th>\n",
       "      <td>60.514</td>\n",
       "      <td>22.263</td>\n",
       "      <td>49.1</td>\n",
       "      <td>1902-01-05</td>\n",
       "      <td>4.417350</td>\n",
       "      <td>5.170652</td>\n",
       "      <td>***</td>\n",
       "      <td>30.466667</td>\n",
       "      <td>978.293333333</td>\n",
       "    </tr>\n",
       "  </tbody>\n",
       "</table>\n",
       "</div>"
      ],
      "text/plain": [
       "      lat     lon  elevation       date       dir        spd  gus       temp  \\\n",
       "0  60.514  22.263       49.1 1902-01-01  2.199135  23.700998  ***  30.200000   \n",
       "1  60.514  22.263       49.1 1902-01-02  2.443461   6.800000  ***  17.200000   \n",
       "2  60.514  22.263       49.1 1902-01-03  2.208953   9.938701  ***  -0.200000   \n",
       "3  60.514  22.263       49.1 1902-01-04  3.949456  23.453623  ***  28.733333   \n",
       "4  60.514  22.263       49.1 1902-01-05  4.417350   5.170652  ***  30.466667   \n",
       "\n",
       "             slp  \n",
       "0         994.28  \n",
       "1         993.96  \n",
       "2        1005.08  \n",
       "3  985.386666667  \n",
       "4  978.293333333  "
      ]
     },
     "execution_count": 4,
     "metadata": {},
     "output_type": "execute_result"
    }
   ],
   "source": [
    "#switch date to datetime object\n",
    "dat['date'] = pd.to_datetime(dat['date'],format = '%Y%m%d')\n",
    "dat.head()"
   ]
  },
  {
   "cell_type": "code",
   "execution_count": 5,
   "metadata": {},
   "outputs": [
    {
     "data": {
      "text/html": [
       "<div>\n",
       "<style>\n",
       "    .dataframe thead tr:only-child th {\n",
       "        text-align: right;\n",
       "    }\n",
       "\n",
       "    .dataframe thead th {\n",
       "        text-align: left;\n",
       "    }\n",
       "\n",
       "    .dataframe tbody tr th {\n",
       "        vertical-align: top;\n",
       "    }\n",
       "</style>\n",
       "<table border=\"1\" class=\"dataframe\">\n",
       "  <thead>\n",
       "    <tr style=\"text-align: right;\">\n",
       "      <th></th>\n",
       "      <th>lat</th>\n",
       "      <th>lon</th>\n",
       "      <th>elevation</th>\n",
       "      <th>date</th>\n",
       "      <th>dir</th>\n",
       "      <th>spd</th>\n",
       "      <th>gus</th>\n",
       "      <th>temp</th>\n",
       "      <th>slp</th>\n",
       "      <th>year</th>\n",
       "      <th>month</th>\n",
       "      <th>day</th>\n",
       "      <th>dayOfYear</th>\n",
       "    </tr>\n",
       "  </thead>\n",
       "  <tbody>\n",
       "    <tr>\n",
       "      <th>0</th>\n",
       "      <td>60.514</td>\n",
       "      <td>22.263</td>\n",
       "      <td>49.1</td>\n",
       "      <td>1902-01-01</td>\n",
       "      <td>126.001139</td>\n",
       "      <td>23.700998</td>\n",
       "      <td>NaN</td>\n",
       "      <td>30.200000</td>\n",
       "      <td>994.28</td>\n",
       "      <td>1902</td>\n",
       "      <td>1</td>\n",
       "      <td>1</td>\n",
       "      <td>1</td>\n",
       "    </tr>\n",
       "    <tr>\n",
       "      <th>1</th>\n",
       "      <td>60.514</td>\n",
       "      <td>22.263</td>\n",
       "      <td>49.1</td>\n",
       "      <td>1902-01-02</td>\n",
       "      <td>140.000000</td>\n",
       "      <td>6.800000</td>\n",
       "      <td>NaN</td>\n",
       "      <td>17.200000</td>\n",
       "      <td>993.96</td>\n",
       "      <td>1902</td>\n",
       "      <td>1</td>\n",
       "      <td>2</td>\n",
       "      <td>2</td>\n",
       "    </tr>\n",
       "    <tr>\n",
       "      <th>2</th>\n",
       "      <td>60.514</td>\n",
       "      <td>22.263</td>\n",
       "      <td>49.1</td>\n",
       "      <td>1902-01-03</td>\n",
       "      <td>126.563681</td>\n",
       "      <td>9.938701</td>\n",
       "      <td>NaN</td>\n",
       "      <td>-0.200000</td>\n",
       "      <td>1005.08</td>\n",
       "      <td>1902</td>\n",
       "      <td>1</td>\n",
       "      <td>3</td>\n",
       "      <td>3</td>\n",
       "    </tr>\n",
       "    <tr>\n",
       "      <th>3</th>\n",
       "      <td>60.514</td>\n",
       "      <td>22.263</td>\n",
       "      <td>49.1</td>\n",
       "      <td>1902-01-04</td>\n",
       "      <td>226.287188</td>\n",
       "      <td>23.453623</td>\n",
       "      <td>NaN</td>\n",
       "      <td>28.733333</td>\n",
       "      <td>985.386666667</td>\n",
       "      <td>1902</td>\n",
       "      <td>1</td>\n",
       "      <td>4</td>\n",
       "      <td>4</td>\n",
       "    </tr>\n",
       "    <tr>\n",
       "      <th>4</th>\n",
       "      <td>60.514</td>\n",
       "      <td>22.263</td>\n",
       "      <td>49.1</td>\n",
       "      <td>1902-01-05</td>\n",
       "      <td>253.095503</td>\n",
       "      <td>5.170652</td>\n",
       "      <td>NaN</td>\n",
       "      <td>30.466667</td>\n",
       "      <td>978.293333333</td>\n",
       "      <td>1902</td>\n",
       "      <td>1</td>\n",
       "      <td>5</td>\n",
       "      <td>5</td>\n",
       "    </tr>\n",
       "  </tbody>\n",
       "</table>\n",
       "</div>"
      ],
      "text/plain": [
       "      lat     lon  elevation       date         dir        spd  gus  \\\n",
       "0  60.514  22.263       49.1 1902-01-01  126.001139  23.700998  NaN   \n",
       "1  60.514  22.263       49.1 1902-01-02  140.000000   6.800000  NaN   \n",
       "2  60.514  22.263       49.1 1902-01-03  126.563681   9.938701  NaN   \n",
       "3  60.514  22.263       49.1 1902-01-04  226.287188  23.453623  NaN   \n",
       "4  60.514  22.263       49.1 1902-01-05  253.095503   5.170652  NaN   \n",
       "\n",
       "        temp            slp  year  month  day  dayOfYear  \n",
       "0  30.200000         994.28  1902      1    1          1  \n",
       "1  17.200000         993.96  1902      1    2          2  \n",
       "2  -0.200000        1005.08  1902      1    3          3  \n",
       "3  28.733333  985.386666667  1902      1    4          4  \n",
       "4  30.466667  978.293333333  1902      1    5          5  "
      ]
     },
     "execution_count": 5,
     "metadata": {},
     "output_type": "execute_result"
    }
   ],
   "source": [
    "#Add more date columns for specific analyses\n",
    "dat['year'] = pd.DatetimeIndex(dat['date']).year\n",
    "dat['month'] = pd.DatetimeIndex(dat['date']).month\n",
    "dat['day'] = pd.DatetimeIndex(dat['date']).day\n",
    "dat['dayOfYear'] = pd.DatetimeIndex(dat['date']).dayofyear\n",
    "dat['dir']=dat['dir']*(180/math.pi)\n",
    "\n",
    "\n",
    "#Replace *** with NaN's \n",
    "dat = dat.replace('***',np.nan)\n",
    "dat.head()"
   ]
  },
  {
   "cell_type": "code",
   "execution_count": 6,
   "metadata": {
    "collapsed": true
   },
   "outputs": [],
   "source": [
    "#As a horrible person, I'm going to assume there are always 365 days in a year and throw out some leap years!\n",
    "dayOfYrDic ={}\n",
    "\n",
    "#Make a dictionary of dataframes with data for each day of the year\n",
    "for i in range(365):\n",
    "    dayOfYrDic[i+1]= dat[dat['dayOfYear']==i+1]"
   ]
  },
  {
   "cell_type": "code",
   "execution_count": 7,
   "metadata": {},
   "outputs": [
    {
     "data": {
      "text/html": [
       "<div>\n",
       "<style>\n",
       "    .dataframe thead tr:only-child th {\n",
       "        text-align: right;\n",
       "    }\n",
       "\n",
       "    .dataframe thead th {\n",
       "        text-align: left;\n",
       "    }\n",
       "\n",
       "    .dataframe tbody tr th {\n",
       "        vertical-align: top;\n",
       "    }\n",
       "</style>\n",
       "<table border=\"1\" class=\"dataframe\">\n",
       "  <thead>\n",
       "    <tr style=\"text-align: right;\">\n",
       "      <th></th>\n",
       "      <th>lat</th>\n",
       "      <th>lon</th>\n",
       "      <th>elevation</th>\n",
       "      <th>date</th>\n",
       "      <th>dir</th>\n",
       "      <th>spd</th>\n",
       "      <th>gus</th>\n",
       "      <th>temp</th>\n",
       "      <th>slp</th>\n",
       "      <th>year</th>\n",
       "      <th>month</th>\n",
       "      <th>day</th>\n",
       "      <th>dayOfYear</th>\n",
       "    </tr>\n",
       "  </thead>\n",
       "  <tbody>\n",
       "    <tr>\n",
       "      <th>8</th>\n",
       "      <td>60.514</td>\n",
       "      <td>22.263</td>\n",
       "      <td>49.1</td>\n",
       "      <td>1902-01-09</td>\n",
       "      <td>270.000000</td>\n",
       "      <td>14.200000</td>\n",
       "      <td>NaN</td>\n",
       "      <td>28.133333</td>\n",
       "      <td>999.28</td>\n",
       "      <td>1902</td>\n",
       "      <td>1</td>\n",
       "      <td>9</td>\n",
       "      <td>9</td>\n",
       "    </tr>\n",
       "    <tr>\n",
       "      <th>373</th>\n",
       "      <td>60.514</td>\n",
       "      <td>22.263</td>\n",
       "      <td>49.1</td>\n",
       "      <td>1903-01-09</td>\n",
       "      <td>290.000000</td>\n",
       "      <td>19.333333</td>\n",
       "      <td>NaN</td>\n",
       "      <td>28.466667</td>\n",
       "      <td>993.253333333</td>\n",
       "      <td>1903</td>\n",
       "      <td>1</td>\n",
       "      <td>9</td>\n",
       "      <td>9</td>\n",
       "    </tr>\n",
       "    <tr>\n",
       "      <th>738</th>\n",
       "      <td>60.514</td>\n",
       "      <td>22.263</td>\n",
       "      <td>49.1</td>\n",
       "      <td>1904-01-09</td>\n",
       "      <td>156.813859</td>\n",
       "      <td>15.999506</td>\n",
       "      <td>NaN</td>\n",
       "      <td>25.333333</td>\n",
       "      <td>1014.12</td>\n",
       "      <td>1904</td>\n",
       "      <td>1</td>\n",
       "      <td>9</td>\n",
       "      <td>9</td>\n",
       "    </tr>\n",
       "    <tr>\n",
       "      <th>1104</th>\n",
       "      <td>60.514</td>\n",
       "      <td>22.263</td>\n",
       "      <td>49.1</td>\n",
       "      <td>1905-01-09</td>\n",
       "      <td>281.418642</td>\n",
       "      <td>15.477500</td>\n",
       "      <td>NaN</td>\n",
       "      <td>35.266667</td>\n",
       "      <td>976.673333333</td>\n",
       "      <td>1905</td>\n",
       "      <td>1</td>\n",
       "      <td>9</td>\n",
       "      <td>9</td>\n",
       "    </tr>\n",
       "    <tr>\n",
       "      <th>1466</th>\n",
       "      <td>60.514</td>\n",
       "      <td>22.263</td>\n",
       "      <td>49.1</td>\n",
       "      <td>1952-01-09</td>\n",
       "      <td>212.504429</td>\n",
       "      <td>17.150734</td>\n",
       "      <td>NaN</td>\n",
       "      <td>39.263158</td>\n",
       "      <td>993.923684211</td>\n",
       "      <td>1952</td>\n",
       "      <td>1</td>\n",
       "      <td>9</td>\n",
       "      <td>9</td>\n",
       "    </tr>\n",
       "  </tbody>\n",
       "</table>\n",
       "</div>"
      ],
      "text/plain": [
       "         lat     lon  elevation       date         dir        spd  gus  \\\n",
       "8     60.514  22.263       49.1 1902-01-09  270.000000  14.200000  NaN   \n",
       "373   60.514  22.263       49.1 1903-01-09  290.000000  19.333333  NaN   \n",
       "738   60.514  22.263       49.1 1904-01-09  156.813859  15.999506  NaN   \n",
       "1104  60.514  22.263       49.1 1905-01-09  281.418642  15.477500  NaN   \n",
       "1466  60.514  22.263       49.1 1952-01-09  212.504429  17.150734  NaN   \n",
       "\n",
       "           temp            slp  year  month  day  dayOfYear  \n",
       "8     28.133333         999.28  1902      1    9          9  \n",
       "373   28.466667  993.253333333  1903      1    9          9  \n",
       "738   25.333333        1014.12  1904      1    9          9  \n",
       "1104  35.266667  976.673333333  1905      1    9          9  \n",
       "1466  39.263158  993.923684211  1952      1    9          9  "
      ]
     },
     "execution_count": 7,
     "metadata": {},
     "output_type": "execute_result"
    }
   ],
   "source": [
    "dayOfYrDic[9].head()"
   ]
  },
  {
   "cell_type": "code",
   "execution_count": 16,
   "metadata": {},
   "outputs": [
    {
     "name": "stdout",
     "output_type": "stream",
     "text": [
      "Average RMSE:  29.0489251595\n",
      "\n",
      "Medinan RMSE:  6.69361850515\n"
     ]
    },
    {
     "data": {
      "image/png": "[encoded data removed]",
      "text/plain": [
       "<matplotlib.figure.Figure at 0x1106f0278>"
      ]
     },
     "metadata": {},
     "output_type": "display_data"
    }
   ],
   "source": [
    "#This one for plot\n",
    "npSqrtMSE = np.zeros(365)\n",
    "npSqrtMSE = [-100.0 for x in npSqrtMSE]\n",
    "npSqrtMSE = np.array(npSqrtMSE)\n",
    "\n",
    "#This is one for mean\n",
    "sqrtMSE = []\n",
    "for i in range(365):\n",
    "    df = dayOfYrDic[i+1][['gus','temp','dir','slp','spd']]\n",
    "    df = df.dropna()\n",
    "    X = df[['gus','temp','dir','slp']]\n",
    "    y = df[['spd']]\n",
    "    X_train, X_test, y_train, y_test = train_test_split(X,y,test_size = 0.25, random_state = 1, shuffle = True)\n",
    "    if len(X_train)<5:\n",
    "        continue\n",
    "    lm = LinearRegression()\n",
    "    lm.fit(X = X_train, y = y_train)\n",
    "    y_pred = cross_val_predict(lm,X_train,y_train,cv=5)\n",
    "    er = math.sqrt(mean_squared_error(y_pred,y_train))\n",
    "    sqrtMSE.append(er)\n",
    "    npSqrtMSE[i] = er\n",
    "\n",
    "#Calculate average sqrt(MSE)\n",
    "sqrtMSE = np.array(sqrtMSE)\n",
    "avgSqrtMSE = np.mean(sqrtMSE)\n",
    "medSqrtMSE = np.median(sqrtMSE)\n",
    "firstMedRMSE = medSqrtMSE\n",
    "\n",
    "print(\"Average RMSE: \",avgSqrtMSE)\n",
    "print()\n",
    "print(\"Medinan RMSE: \", medSqrtMSE)\n",
    "\n",
    "#plt the errors\n",
    "day = np.linspace(1,365,365)\n",
    "plt.scatter(day,npSqrtMSE)\n",
    "plt.title(\"Cross-Validated RMSE\")\n",
    "plt.xlabel(\"Day of Year\")\n",
    "#plt.ylabel(\"RMSE\")\n",
    "plt.ylim(0,100)\n",
    "plt.show()"
   ]
  },
  {
   "cell_type": "markdown",
   "metadata": {},
   "source": [
    "### Right out of the box we see median RMSE of 6.50. We'll throw some polynomial features at it now to see if it affects performance..."
   ]
  },
  {
   "cell_type": "code",
   "execution_count": 9,
   "metadata": {},
   "outputs": [
    {
     "data": {
      "image/png": "[encoded data removed]",
      "text/plain": [
       "<matplotlib.figure.Figure at 0x11196e470>"
      ]
     },
     "metadata": {},
     "output_type": "display_data"
    }
   ],
   "source": [
    "#Need to figure out what degree polynomial to use...\n",
    "degreeList =[1,2,3,4,5,6]\n",
    "\n",
    "avgList =[]\n",
    "medList = []\n",
    "for degree in degreeList:\n",
    "    #This is one for mean\n",
    "    sqrtMSE = []\n",
    "    for i in range(365):\n",
    "        df = dayOfYrDic[i+1][['gus','temp','dir','slp','spd']]\n",
    "        df = df.dropna()\n",
    "        X = df[['gus','temp','dir','slp']]\n",
    "        y = df[['spd']]\n",
    "        poly = PolynomialFeatures(degree = degree)\n",
    "        X_ = poly.fit_transform(X)\n",
    "        X_train, X_test, y_train, y_test = train_test_split(X_,y,test_size = 0.25, random_state = 1, shuffle = True)\n",
    "        if len(X_train)<5:\n",
    "            continue\n",
    "        lm = LinearRegression()\n",
    "        lm.fit(X = X_train, y = y_train)\n",
    "        y_pred = cross_val_predict(lm,X_train,y_train,cv=5)\n",
    "        er = math.sqrt(mean_squared_error(y_pred,y_train))\n",
    "        sqrtMSE.append(er)\n",
    "\n",
    "    #Calculate average and median sqrt(MSE)\n",
    "    sqrtMSE = np.array(sqrtMSE)\n",
    "    avgSqrtMSE = np.mean(sqrtMSE)\n",
    "    medSqrtMSE = np.median(sqrtMSE)\n",
    "\n",
    "    avgList.append(avgSqrtMSE)\n",
    "    medList.append(medSqrtMSE)\n",
    "    \n",
    "\n",
    "plt.plot(degreeList,avgList,label=\"Average\")\n",
    "plt.plot(degreeList,medList,label=\"Median\")\n",
    "plt.ylabel(\"sqrt(MSE)\")\n",
    "plt.xlabel(\"polynomial degree\")\n",
    "plt.title(\"Polynomal Degree Error\")\n",
    "plt.legend()\n",
    "plt.show()"
   ]
  },
  {
   "cell_type": "markdown",
   "metadata": {},
   "source": [
    "### It does not look like polynomial features improve the performance.  Below we'll try regularization and do a parameter sweep..."
   ]
  },
  {
   "cell_type": "code",
   "execution_count": 10,
   "metadata": {},
   "outputs": [
    {
     "data": {
      "image/png": "[encoded data removed]",
      "text/plain": [
       "<matplotlib.figure.Figure at 0x11046c3c8>"
      ]
     },
     "metadata": {},
     "output_type": "display_data"
    }
   ],
   "source": [
    "#Need to figure out what value of alpha to use...\n",
    "alphaList = np.linspace(0.01,100,20)\n",
    "\n",
    "avgList =[]\n",
    "medList = []\n",
    "for a in alphaList:\n",
    "    #This is one for mean\n",
    "    sqrtMSE = []\n",
    "    for i in range(365):\n",
    "        df = dayOfYrDic[i+1][['gus','temp','dir','slp','spd']]\n",
    "        df = df.dropna()\n",
    "        X = df[['gus','temp','dir','slp']]\n",
    "        y = df[['spd']]\n",
    "        X_train, X_test, y_train, y_test = train_test_split(X,y,test_size = 0.25, random_state = 1, shuffle = True)\n",
    "        if len(X_train)<5:\n",
    "            continue\n",
    "        lm = Ridge(alpha = a)\n",
    "        lm.fit(X = X_train, y = y_train)\n",
    "        y_pred = cross_val_predict(lm,X_train,y_train,cv=5)\n",
    "        er = math.sqrt(mean_squared_error(y_pred,y_train))\n",
    "        sqrtMSE.append(er)\n",
    "\n",
    "    #Calculate average and median sqrt(MSE)\n",
    "    sqrtMSE = np.array(sqrtMSE)\n",
    "    avgSqrtMSE = np.mean(sqrtMSE)\n",
    "    medSqrtMSE = np.median(sqrtMSE)\n",
    "\n",
    "    avgList.append(avgSqrtMSE)\n",
    "    medList.append(medSqrtMSE)\n",
    "    \n",
    "\n",
    "plt.plot(alphaList,avgList,label=\"Average\")\n",
    "plt.plot(alphaList,medList,label=\"Median\")\n",
    "plt.ylabel(\"sqrt(MSE)\")\n",
    "plt.xlabel(\"alpha\")\n",
    "plt.title(\"Alpha Level Error\")\n",
    "plt.legend()\n",
    "plt.show()"
   ]
  },
  {
   "cell_type": "markdown",
   "metadata": {},
   "source": [
    "### Looks like we're pretty leveled out by alpha = 60\n"
   ]
  },
  {
   "cell_type": "code",
   "execution_count": 15,
   "metadata": {},
   "outputs": [
    {
     "name": "stdout",
     "output_type": "stream",
     "text": [
      "Average RMSE:  4.05389211565\n",
      "\n",
      "Medinan RMSE:  3.63307018286\n"
     ]
    },
    {
     "data": {
      "image/png": "[encoded data removed]",
      "text/plain": [
       "<matplotlib.figure.Figure at 0x110bfb710>"
      ]
     },
     "metadata": {},
     "output_type": "display_data"
    }
   ],
   "source": [
    "#This one for plot\n",
    "npSqrtMSE = np.zeros(365)\n",
    "npSqrtMSE = [-100.0 for x in npSqrtMSE]\n",
    "npSqrtMSE = np.array(npSqrtMSE)\n",
    "\n",
    "#This is one for mean\n",
    "sqrtMSE = []\n",
    "for i in range(365):\n",
    "    df = dayOfYrDic[i+1][['gus','temp','dir','slp','spd']]\n",
    "    df = df.dropna()\n",
    "    X = df[['gus','temp','dir','slp']]\n",
    "    y = df[['spd']]\n",
    "    X_train, X_test, y_train, y_test = train_test_split(X,y,test_size = 0.25, random_state = 1, shuffle = True)\n",
    "    if len(X_train)<5:\n",
    "        continue\n",
    "    lm = Ridge(alpha = 60)\n",
    "    lm.fit(X = X_train, y = y_train)\n",
    "    y_pred = cross_val_predict(lm,X_train,y_train,cv=5)\n",
    "    er = math.sqrt(mean_squared_error(y_pred,y_train))\n",
    "    sqrtMSE.append(er)\n",
    "    npSqrtMSE[i] = er\n",
    "\n",
    "#Calculate average sqrt(MSE)\n",
    "sqrtMSE = np.array(sqrtMSE)\n",
    "avgSqrtMSE = np.mean(sqrtMSE)\n",
    "medSqrtMSE = np.median(sqrtMSE)\n",
    "medRMSE = medSqrtMSE\n",
    "print(\"Average RMSE: \",avgSqrtMSE)\n",
    "print()\n",
    "print(\"Medinan RMSE: \", medSqrtMSE)\n",
    "#plt the errors\n",
    "day = np.linspace(1,365,365)\n",
    "plt.scatter(day,npSqrtMSE)\n",
    "plt.title(\"Cross-Validated RMSE\")\n",
    "plt.xlabel(\"Day of Year\")\n",
    "#plt.ylabel(\"RMSE\")\n",
    "plt.ylim(0,100)\n",
    "plt.show()"
   ]
  },
  {
   "cell_type": "code",
   "execution_count": 17,
   "metadata": {},
   "outputs": [
    {
     "name": "stdout",
     "output_type": "stream",
     "text": [
      "6.69361850515\n",
      "3.63307018286\n",
      "0.457233754797\n"
     ]
    }
   ],
   "source": [
    "(6.49652924027-3.64420025225)/6.49652924027\n",
    "print(firstMedRMSE)\n",
    "print(medRMSE)\n",
    "print((firstMedRMSE - medRMSE)/firstMedRMSE)"
   ]
  },
  {
   "cell_type": "markdown",
   "metadata": {},
   "source": [
    "### We get a 43.9% decrease in error when we use regularization.  However, it seemed like the error was going down monotonically as we increased alpha.  This implies that a horizontal line might be a good fit for the data.  We'll test that theory with the mean of daily wind speeds, e.g., mean(y_test)"
   ]
  },
  {
   "cell_type": "code",
   "execution_count": 44,
   "metadata": {},
   "outputs": [
    {
     "name": "stdout",
     "output_type": "stream",
     "text": [
      "Median RMSE with mean(y_test) =  2.76198953937\n",
      "0.0230860715968\n"
     ]
    }
   ],
   "source": [
    "RMSE =[]\n",
    "for i in range(365):\n",
    "    df = dayOfYrDic[i+1][['gus','temp','dir','slp','spd']]\n",
    "    df = df.dropna()\n",
    "    X = df[['gus','temp','dir','slp']]\n",
    "    y = df[['spd']]\n",
    "    X_train, X_test, y_train, y_test = train_test_split(X,y,test_size = 0.25, random_state = 1, shuffle = True)\n",
    "    if len(X_train)<5:\n",
    "        continue\n",
    "    #Create a vector that is equal to the mean value for every entry\n",
    "    meany_train = np.zeros(len(y_train))\n",
    "    for i in range(len(meany_train)):\n",
    "        meany_train[i]= np.mean(y_train)\n",
    "    rmse = math.sqrt(mean_squared_error(meany_train, y_train))\n",
    "    RMSE.append(rmse)\n",
    "\n",
    "RMSE = np.array(RMSE)\n",
    "medControlRMSE = np.median(RMSE)\n",
    "print(\"Median RMSE with mean(y_test) = \", medControlRMSE)\n",
    "print((firstMedRMSE - medControlRMSE)/medControlRMSE)\n"
   ]
  },
  {
   "cell_type": "markdown",
   "metadata": {},
   "source": [
    "### Our theory was correct, the mean outperforms our model.  We get a 58.7% decrease in error when we simply look at the mean"
   ]
  },
  {
   "cell_type": "markdown",
   "metadata": {},
   "source": [
    "### Now let's look at individual variable importance.  We'll normalize X so that it has zero mean and unit variance so that we can compare the coefficients.\n"
   ]
  },
  {
   "cell_type": "code",
   "execution_count": 47,
   "metadata": {},
   "outputs": [
    {
     "name": "stdout",
     "output_type": "stream",
     "text": [
      "Average RMSE:  3.32669583536\n",
      "\n",
      "Medinan RMSE:  3.28897926238\n"
     ]
    },
    {
     "data": {
      "image/png": "[encoded data removed]",
      "text/plain": [
       "<matplotlib.figure.Figure at 0x1113aeac8>"
      ]
     },
     "metadata": {},
     "output_type": "display_data"
    },
    {
     "name": "stdout",
     "output_type": "stream",
     "text": [
      "\n",
      "The average coefficient for gus is 0.1603330351388902\n",
      "The average coefficient for temp is 0.022879342924261258\n",
      "The average coefficient for dir is -0.026084541885543377\n",
      "The average coefficient for slp is -0.025975297511691125\n",
      "The average coefficient for intercept is 9.630112177293123\n",
      "The means average to  9.62691774276\n",
      "\n",
      "TESTING IS DONE BELOW.  THIS WAS PERFORMED AFTER OPTIMIZATION\n",
      "Average R^2 vale (test set):  -10.3162989557\n",
      "\n",
      "Median R^2 value (test set):  -0.582353685566\n",
      "\n",
      "Average RMSE (test set):  3.02478494575\n",
      "\n",
      "Median RMSE (test set):  2.77465729887\n"
     ]
    }
   ],
   "source": [
    "#This one for plot\n",
    "npSqrtMSE = np.zeros(365)\n",
    "npSqrtMSE = [-100.0 for x in npSqrtMSE]\n",
    "npSqrtMSE = np.array(npSqrtMSE)\n",
    "\n",
    "CoeffDic = {}\n",
    "for col_name in X.columns:\n",
    "    CoeffDic[col_name] =[]\n",
    "CoeffDic['intercept']=[]\n",
    "#This is one for mean\n",
    "sqrtMSE = []\n",
    "\n",
    "means = [] # to hold the means of y_train\n",
    "\n",
    "#These lists are for testing\n",
    "testScore=[]\n",
    "testRMSE = []\n",
    "for i in range(365):\n",
    "    df = dayOfYrDic[i+1][['gus','temp','dir','slp','spd']]\n",
    "    df = df.dropna()\n",
    "    X = df[['gus','temp','dir','slp']]\n",
    "    scaledX = scale(X)\n",
    "    y = df[['spd']]\n",
    "    X_train, X_test, y_train, y_test = train_test_split(scaledX,y,test_size = 0.25, random_state = 1, shuffle = True)\n",
    "    if len(X_train)<5:\n",
    "        continue\n",
    "    lm = Ridge(alpha = 60)\n",
    "    lm.fit(X = X_train, y = y_train)\n",
    "    y_pred = cross_val_predict(lm,X_train,y_train,cv=5)\n",
    "    er = math.sqrt(mean_squared_error(y_pred,y_train))\n",
    "    sqrtMSE.append(er)\n",
    "    npSqrtMSE[i] = er\n",
    "    means.append(np.mean(y_train))\n",
    "    for idx, col_name in enumerate(X.columns):\n",
    "        CoeffDic[col_name].append(lm.coef_[0][idx])\n",
    "        CoeffDic[\"intercept\"].append(lm.intercept_[0])\n",
    "        \n",
    "    #below if for testing\n",
    "    #the following was implemented after optimization\n",
    "    score = lm.score(X=X_test, y = y_test)\n",
    "    testScore.append(score)\n",
    "    \n",
    "    y_predict = lm.predict(X_test)\n",
    "    rmse = math.sqrt(mean_squared_error(y_predict,y_test))\n",
    "    testRMSE.append(rmse)\n",
    "\n",
    "#Calculate average sqrt(MSE)\n",
    "sqrtMSE = np.array(sqrtMSE)\n",
    "avgSqrtMSE = np.mean(sqrtMSE)\n",
    "medSqrtMSE = np.median(sqrtMSE)\n",
    "medRMSE = medSqrtMSE\n",
    "print(\"Average RMSE: \",avgSqrtMSE)\n",
    "print()\n",
    "print(\"Medinan RMSE: \", medSqrtMSE)\n",
    "#plt the errors\n",
    "day = np.linspace(1,365,365)\n",
    "plt.scatter(day,npSqrtMSE)\n",
    "plt.title(\"Cross-Validated RMSE\")\n",
    "plt.xlabel(\"Day of Year\")\n",
    "#plt.ylabel(\"RMSE\")\n",
    "plt.ylim(0,100)\n",
    "plt.show()\n",
    "print()\n",
    "\n",
    "for col_name in CoeffDic.keys():\n",
    "    print(\"The average coefficient for {} is {}\".format(col_name,np.mean(np.array(CoeffDic[col_name]))))\n",
    "print(\"The means average to \", \n",
    "     np.mean(np.array(means)))\n",
    "\n",
    "#below if for testing\n",
    "testScore = np.array(testScore)\n",
    "testRMSE = np.array(testRMSE)\n",
    "scoreMean = np.mean(testScore)\n",
    "rmseMean = np.mean(testRMSE)\n",
    "scoreMed = np.median(testScore)\n",
    "rmseMed = np.median(testRMSE)\n",
    "print()\n",
    "print(\"TESTING IS DONE BELOW.  THIS WAS PERFORMED AFTER OPTIMIZATION\")\n",
    "\n",
    "print(\"Average R^2 vale (test set): \",scoreMean)\n",
    "print()\n",
    "print(\"Median R^2 value (test set): \",scoreMed)\n",
    "print()\n",
    "print(\"Average RMSE (test set): \", rmseMean)\n",
    "print()\n",
    "print(\"Median RMSE (test set): \", rmseMed)"
   ]
  },
  {
   "cell_type": "markdown",
   "metadata": {},
   "source": [
    "# Just as we expected, we could increase alpha even more and the model would approach the mean, e.g., our model sucks!!"
   ]
  },
  {
   "cell_type": "markdown",
   "metadata": {},
   "source": [
    "## **-------TEST VALUES AB0VE---------"
   ]
  },
  {
   "cell_type": "code",
   "execution_count": 23,
   "metadata": {},
   "outputs": [
    {
     "name": "stdout",
     "output_type": "stream",
     "text": [
      "6.69361850515\n",
      "3.28897926238\n",
      "0.508639570682\n"
     ]
    }
   ],
   "source": [
    "print(firstMedRMSE)\n",
    "print(medRMSE)\n",
    "print((firstMedRMSE - medRMSE)/firstMedRMSE)"
   ]
  },
  {
   "cell_type": "markdown",
   "metadata": {},
   "source": [
    "### Looks Like gust is the only significant coefficient in our model.  Let's do a regression with only gust"
   ]
  },
  {
   "cell_type": "code",
   "execution_count": 36,
   "metadata": {},
   "outputs": [
    {
     "name": "stdout",
     "output_type": "stream",
     "text": [
      "Average RMSE:  3.04841191327\n",
      "\n",
      "Medinan RMSE:  2.82575302762\n"
     ]
    },
    {
     "data": {
      "image/png": "[encoded data removed]",
      "text/plain": [
       "<matplotlib.figure.Figure at 0x1113baa90>"
      ]
     },
     "metadata": {},
     "output_type": "display_data"
    }
   ],
   "source": [
    "#This one for plot\n",
    "npSqrtMSE = np.zeros(365)\n",
    "npSqrtMSE = [-100.0 for x in npSqrtMSE]\n",
    "npSqrtMSE = np.array(npSqrtMSE)\n",
    "\n",
    "#This is one for mean\n",
    "sqrtMSE = []\n",
    "for i in range(365):\n",
    "    df = dayOfYrDic[i+1][['gus','spd']]\n",
    "    df = df.dropna()\n",
    "    X = df[['gus']]\n",
    "    y = df[['spd']]\n",
    "    X_train, X_test, y_train, y_test = train_test_split(X,y,test_size = 0.25, random_state = 1, shuffle = True)\n",
    "    if len(X_train)<5:\n",
    "        continue\n",
    "    lm = LinearRegression()\n",
    "    lm.fit(X = X_train, y = y_train)\n",
    "    y_pred = cross_val_predict(lm,X_train,y_train,cv=5)\n",
    "    er = math.sqrt(mean_squared_error(y_pred,y_train))\n",
    "    sqrtMSE.append(er)\n",
    "    npSqrtMSE[i] = er\n",
    "\n",
    "#Calculate average sqrt(MSE)\n",
    "sqrtMSE = np.array(sqrtMSE)\n",
    "avgSqrtMSE = np.mean(sqrtMSE)\n",
    "medSqrtMSE = np.median(sqrtMSE)\n",
    "firstMedRMSE = medSqrtMSE\n",
    "\n",
    "print(\"Average RMSE: \",avgSqrtMSE)\n",
    "print()\n",
    "print(\"Medinan RMSE: \", medSqrtMSE)\n",
    "\n",
    "#plt the errors\n",
    "day = np.linspace(1,365,365)\n",
    "plt.scatter(day,npSqrtMSE)\n",
    "plt.title(\"Cross-Validated RMSE\")\n",
    "plt.xlabel(\"Day of Year\")\n",
    "#plt.ylabel(\"RMSE\")\n",
    "plt.ylim(0,100)\n",
    "plt.show()"
   ]
  },
  {
   "cell_type": "markdown",
   "metadata": {},
   "source": [
    "### Interesting, we get a much lower initial error if we just use gust"
   ]
  },
  {
   "cell_type": "markdown",
   "metadata": {},
   "source": [
    "### Again, we'll do a parameter sweep to find the best alpha for our ridge regression"
   ]
  },
  {
   "cell_type": "code",
   "execution_count": 38,
   "metadata": {},
   "outputs": [
    {
     "data": {
      "image/png": "[encoded data removed]",
      "text/plain": [
       "<matplotlib.figure.Figure at 0x110717dd8>"
      ]
     },
     "metadata": {},
     "output_type": "display_data"
    }
   ],
   "source": [
    "#Need to figure out what value of alpha to use...\n",
    "alphaList = np.linspace(0.01,20,20)\n",
    "\n",
    "avgList =[]\n",
    "medList = []\n",
    "for a in alphaList:\n",
    "    #This is one for mean\n",
    "    sqrtMSE = []\n",
    "    for i in range(365):\n",
    "        df = dayOfYrDic[i+1][['gus','spd']]\n",
    "        df = df.dropna()\n",
    "        X = df[['gus']]\n",
    "        y = df[['spd']]\n",
    "        X_train, X_test, y_train, y_test = train_test_split(X,y,test_size = 0.25, random_state = 1, shuffle = True)\n",
    "        if len(X_train)<5:\n",
    "            continue\n",
    "        lm = Ridge(alpha = a)\n",
    "        lm.fit(X = X_train, y = y_train)\n",
    "        y_pred = cross_val_predict(lm,X_train,y_train,cv=5)\n",
    "        er = math.sqrt(mean_squared_error(y_pred,y_train))\n",
    "        sqrtMSE.append(er)\n",
    "\n",
    "    #Calculate average and median sqrt(MSE)\n",
    "    sqrtMSE = np.array(sqrtMSE)\n",
    "    avgSqrtMSE = np.mean(sqrtMSE)\n",
    "    medSqrtMSE = np.median(sqrtMSE)\n",
    "\n",
    "    avgList.append(avgSqrtMSE)\n",
    "    medList.append(medSqrtMSE)\n",
    "    \n",
    "\n",
    "plt.plot(alphaList,avgList,label=\"Average\")\n",
    "plt.plot(alphaList,medList,label=\"Median\")\n",
    "plt.ylabel(\"sqrt(MSE)\")\n",
    "plt.xlabel(\"alpha\")\n",
    "plt.title(\"Alpha Level Error\")\n",
    "plt.legend()\n",
    "plt.show()"
   ]
  },
  {
   "cell_type": "markdown",
   "metadata": {},
   "source": [
    "### Looks like our optimal alpha value is about 10"
   ]
  },
  {
   "cell_type": "code",
   "execution_count": 48,
   "metadata": {},
   "outputs": [
    {
     "name": "stdout",
     "output_type": "stream",
     "text": [
      "Average RMSE:  2.87080529006\n",
      "\n",
      "Medinan RMSE:  2.72015364202\n"
     ]
    },
    {
     "data": {
      "image/png": "[encoded data removed]",
      "text/plain": [
       "<matplotlib.figure.Figure at 0x111341160>"
      ]
     },
     "metadata": {},
     "output_type": "display_data"
    },
    {
     "name": "stdout",
     "output_type": "stream",
     "text": [
      "\n",
      "Median RMSE =  2.72015364202\n",
      "% improvement with regularization:  0.0388211106789\n",
      "\n",
      "TESTING IS DONE BELOW.  THIS WAS PERFORMED AFTER OPTIMIZATION\n",
      "Average R^2 vale (test set):  -71.1303681333\n",
      "\n",
      "Median R^2 value (test set):  -0.357640235955\n",
      "\n",
      "Average RMSE (test set):  2.72404197455\n",
      "\n",
      "Median RMSE (test set):  2.52294601181\n"
     ]
    }
   ],
   "source": [
    "#This one for plot\n",
    "npSqrtMSE = np.zeros(365)\n",
    "npSqrtMSE = [-100.0 for x in npSqrtMSE]\n",
    "npSqrtMSE = np.array(npSqrtMSE)\n",
    "\n",
    "#This is one for mean\n",
    "sqrtMSE = []\n",
    "\n",
    "#These lists are for testing\n",
    "testScore=[]\n",
    "testRMSE = []\n",
    "for i in range(365):\n",
    "    df = dayOfYrDic[i+1][['gus','spd']]\n",
    "    df = df.dropna()\n",
    "    X = df[['gus']]\n",
    "    y = df[['spd']]\n",
    "    X_train, X_test, y_train, y_test = train_test_split(X,y,test_size = 0.25, random_state = 1, shuffle = True)\n",
    "    if len(X_train)<5:\n",
    "        continue\n",
    "    lm = Ridge(alpha = 10)\n",
    "    lm.fit(X = X_train, y = y_train)\n",
    "    y_pred = cross_val_predict(lm,X_train,y_train,cv=5)\n",
    "    er = math.sqrt(mean_squared_error(y_pred,y_train))\n",
    "    sqrtMSE.append(er)\n",
    "    npSqrtMSE[i] = er\n",
    "\n",
    "    #below if for testing\n",
    "    #the following was implemented after optimization\n",
    "    score = lm.score(X=X_test, y = y_test)\n",
    "    testScore.append(score)\n",
    "    \n",
    "    y_predict = lm.predict(X_test)\n",
    "    rmse = math.sqrt(mean_squared_error(y_predict,y_test))\n",
    "    testRMSE.append(rmse)\n",
    "\n",
    "#Calculate average sqrt(MSE)\n",
    "sqrtMSE = np.array(sqrtMSE)\n",
    "avgSqrtMSE = np.mean(sqrtMSE)\n",
    "medSqrtMSE = np.median(sqrtMSE)\n",
    "medRMSE = medSqrtMSE\n",
    "print(\"Average RMSE: \",avgSqrtMSE)\n",
    "print()\n",
    "print(\"Medinan RMSE: \", medSqrtMSE)\n",
    "#plt the errors\n",
    "day = np.linspace(1,365,365)\n",
    "plt.scatter(day,npSqrtMSE)\n",
    "plt.title(\"Cross-Validated RMSE\")\n",
    "plt.xlabel(\"Day of Year\")\n",
    "#plt.ylabel(\"RMSE\")\n",
    "plt.ylim(0,100)\n",
    "plt.show()\n",
    "print()\n",
    "print(\"Median RMSE = \",medRMSE)\n",
    "print(\"% improvement with regularization: \",\n",
    "     (firstMedRMSE - medRMSE)/medRMSE)\n",
    "\n",
    "print()\n",
    "#below if for testing\n",
    "testScore = np.array(testScore)\n",
    "testRMSE = np.array(testRMSE)\n",
    "scoreMean = np.mean(testScore)\n",
    "rmseMean = np.mean(testRMSE)\n",
    "scoreMed = np.median(testScore)\n",
    "rmseMed = np.median(testRMSE)\n",
    "print(\"TESTING IS DONE BELOW.  THIS WAS PERFORMED AFTER OPTIMIZATION\")\n",
    "\n",
    "print(\"Average R^2 vale (test set): \",scoreMean)\n",
    "print()\n",
    "print(\"Median R^2 value (test set): \",scoreMed)\n",
    "print()\n",
    "print(\"Average RMSE (test set): \", rmseMean)\n",
    "print()\n",
    "print(\"Median RMSE (test set): \", rmseMed)"
   ]
  },
  {
   "cell_type": "markdown",
   "metadata": {},
   "source": [
    "### We get a 3.89% improvement with regularization (interesting...)\n",
    "\n",
    "### Again, we'll compare our model to the mean(y_train)\n",
    "\n",
    "# **----------TEST VALUES ABOVE----------"
   ]
  },
  {
   "cell_type": "code",
   "execution_count": 41,
   "metadata": {},
   "outputs": [
    {
     "name": "stdout",
     "output_type": "stream",
     "text": [
      "Median RMSE with mean(y_test) =  2.79352550123\n",
      "0.0115365069605\n"
     ]
    }
   ],
   "source": [
    "RMSE =[]\n",
    "for i in range(365):\n",
    "    df = dayOfYrDic[i+1][['gus','spd']]\n",
    "    df = df.dropna()\n",
    "    X = df[['gus']]\n",
    "    y = df[['spd']]\n",
    "    X_train, X_test, y_train, y_test = train_test_split(X,y,test_size = 0.25, random_state = 1, shuffle = True)\n",
    "    if len(X_train)<5:\n",
    "        continue\n",
    "    #Create a vector that is equal to the mean value for every entry\n",
    "    meany_train = np.zeros(len(y_train))\n",
    "    for i in range(len(meany_train)):\n",
    "        meany_train[i]= np.mean(y_train)\n",
    "    rmse = math.sqrt(mean_squared_error(meany_train, y_train))\n",
    "    RMSE.append(rmse)\n",
    "\n",
    "RMSE = np.array(RMSE)\n",
    "medControlRMSE = np.median(RMSE)\n",
    "print(\"Median RMSE with mean(y_test) = \", medControlRMSE)\n",
    "print((firstMedRMSE - medControlRMSE)/medControlRMSE)\n"
   ]
  },
  {
   "cell_type": "markdown",
   "metadata": {},
   "source": [
    "### we only get a 1.1% improvement with using the mean, thus our model is a little better than the mean!  \n",
    "\n",
    "\n",
    "### Amazing, we can use gust to predict wind!!"
   ]
  },
  {
   "cell_type": "markdown",
   "metadata": {},
   "source": [
    "# Below we'll try to predict direction"
   ]
  },
  {
   "cell_type": "code",
   "execution_count": 67,
   "metadata": {},
   "outputs": [
    {
     "name": "stdout",
     "output_type": "stream",
     "text": [
      "Average RMSE:  912.939267584\n",
      "\n",
      "Medinan RMSE:  202.924609667\n"
     ]
    },
    {
     "data": {
      "image/png": "[encoded data removed]",
      "text/plain": [
       "<matplotlib.figure.Figure at 0x1113b2320>"
      ]
     },
     "metadata": {},
     "output_type": "display_data"
    }
   ],
   "source": [
    "#This one for plot\n",
    "npSqrtMSE = np.zeros(365)\n",
    "npSqrtMSE = [-100.0 for x in npSqrtMSE]\n",
    "npSqrtMSE = np.array(npSqrtMSE)\n",
    "\n",
    "#This is one for mean\n",
    "sqrtMSE = []\n",
    "for i in range(365):\n",
    "    df = dayOfYrDic[i+1][['gus','temp','dir','slp','spd']]\n",
    "    df = df.dropna()\n",
    "    X = df[['gus','temp','spd','slp']]\n",
    "    y = df[['dir']]\n",
    "    X_train, X_test, y_train, y_test = train_test_split(X,y,test_size = 0.25, random_state = 1, shuffle = True)\n",
    "    if len(X_train)<5:\n",
    "        continue\n",
    "    lm = LinearRegression()\n",
    "    lm.fit(X = X_train, y = y_train)\n",
    "    y_pred = cross_val_predict(lm,X_train,y_train,cv=5)\n",
    "    er = math.sqrt(mean_squared_error(y_pred,y_train))\n",
    "    sqrtMSE.append(er)\n",
    "    npSqrtMSE[i] = er\n",
    "\n",
    "#Calculate average sqrt(MSE)\n",
    "sqrtMSE = np.array(sqrtMSE)\n",
    "avgSqrtMSE = np.mean(sqrtMSE)\n",
    "medSqrtMSE = np.median(sqrtMSE)\n",
    "firstMedRMSE = medSqrtMSE\n",
    "\n",
    "print(\"Average RMSE: \",avgSqrtMSE)\n",
    "print()\n",
    "print(\"Medinan RMSE: \", medSqrtMSE)\n",
    "\n",
    "#plt the errors\n",
    "day = np.linspace(1,365,365)\n",
    "plt.scatter(day,npSqrtMSE)\n",
    "plt.title(\"Cross-Validated RMSE\")\n",
    "plt.xlabel(\"Day of Year\")\n",
    "#plt.ylabel(\"RMSE\")\n",
    "plt.ylim(0,100)\n",
    "plt.show()"
   ]
  },
  {
   "cell_type": "markdown",
   "metadata": {},
   "source": [
    "### Right out of the box we get a huge error, implying that the direction will be very hard to predict!!!"
   ]
  },
  {
   "cell_type": "code",
   "execution_count": 50,
   "metadata": {},
   "outputs": [
    {
     "data": {
      "image/png": "[encoded data removed]",
      "text/plain": [
       "<matplotlib.figure.Figure at 0x110bb0780>"
      ]
     },
     "metadata": {},
     "output_type": "display_data"
    }
   ],
   "source": [
    "#Need to figure out what degree polynomial to use...\n",
    "degreeList =[1,2,3,4,5,6]\n",
    "\n",
    "avgList =[]\n",
    "medList = []\n",
    "for degree in degreeList:\n",
    "    #This is one for mean\n",
    "    sqrtMSE = []\n",
    "    for i in range(365):\n",
    "        df = dayOfYrDic[i+1][['gus','temp','dir','slp','spd']]\n",
    "        df = df.dropna()\n",
    "        X = df[['gus','temp','spd','slp']]\n",
    "        y = df[['dir']]\n",
    "        poly = PolynomialFeatures(degree = degree)\n",
    "        X_ = poly.fit_transform(X)\n",
    "        X_train, X_test, y_train, y_test = train_test_split(X_,y,test_size = 0.25, random_state = 1, shuffle = True)\n",
    "        if len(X_train)<5:\n",
    "            continue\n",
    "        lm = LinearRegression()\n",
    "        lm.fit(X = X_train, y = y_train)\n",
    "        y_pred = cross_val_predict(lm,X_train,y_train,cv=5)\n",
    "        er = math.sqrt(mean_squared_error(y_pred,y_train))\n",
    "        sqrtMSE.append(er)\n",
    "\n",
    "    #Calculate average and median sqrt(MSE)\n",
    "    sqrtMSE = np.array(sqrtMSE)\n",
    "    avgSqrtMSE = np.mean(sqrtMSE)\n",
    "    medSqrtMSE = np.median(sqrtMSE)\n",
    "\n",
    "    avgList.append(avgSqrtMSE)\n",
    "    medList.append(medSqrtMSE)\n",
    "    \n",
    "\n",
    "plt.plot(degreeList,avgList,label=\"Average\")\n",
    "plt.plot(degreeList,medList,label=\"Median\")\n",
    "plt.ylabel(\"sqrt(MSE)\")\n",
    "plt.xlabel(\"polynomial degree\")\n",
    "plt.title(\"Polynomal Degree Error\")\n",
    "plt.legend()\n",
    "plt.show()"
   ]
  },
  {
   "cell_type": "markdown",
   "metadata": {},
   "source": [
    "### Looks like polynomial features don't help too much here..."
   ]
  },
  {
   "cell_type": "code",
   "execution_count": 55,
   "metadata": {},
   "outputs": [
    {
     "data": {
      "image/png": "[encoded data removed]",
      "text/plain": [
       "<matplotlib.figure.Figure at 0x1112aa438>"
      ]
     },
     "metadata": {},
     "output_type": "display_data"
    }
   ],
   "source": [
    "#Need to figure out what value of alpha to use...\n",
    "alphaList = np.linspace(0.01,100,20)\n",
    "\n",
    "avgList =[]\n",
    "medList = []\n",
    "for a in alphaList:\n",
    "    #This is one for mean\n",
    "    sqrtMSE = []\n",
    "    for i in range(365):\n",
    "        df = dayOfYrDic[i+1][['gus','temp','dir','slp','spd']]\n",
    "        df = df.dropna()\n",
    "        X = df[['gus','temp','spd','slp']]\n",
    "        y = df[['dir']]\n",
    "        X_train, X_test, y_train, y_test = train_test_split(X,y,test_size = 0.25, random_state = 1, shuffle = True)\n",
    "        if len(X_train)<5:\n",
    "            continue\n",
    "        lm = Ridge(alpha = a)\n",
    "        lm.fit(X = X_train, y = y_train)\n",
    "        y_pred = cross_val_predict(lm,X_train,y_train,cv=5)\n",
    "        er = math.sqrt(mean_squared_error(y_pred,y_train))\n",
    "        sqrtMSE.append(er)\n",
    "\n",
    "    #Calculate average and median sqrt(MSE)\n",
    "    sqrtMSE = np.array(sqrtMSE)\n",
    "    avgSqrtMSE = np.mean(sqrtMSE)\n",
    "    medSqrtMSE = np.median(sqrtMSE)\n",
    "\n",
    "    avgList.append(avgSqrtMSE)\n",
    "    medList.append(medSqrtMSE)\n",
    "    \n",
    "\n",
    "plt.plot(alphaList,avgList,label=\"Average\")\n",
    "plt.plot(alphaList,medList,label=\"Median\")\n",
    "plt.ylabel(\"sqrt(MSE)\")\n",
    "plt.xlabel(\"alpha\")\n",
    "plt.title(\"Alpha Level Error\")\n",
    "plt.legend()\n",
    "plt.show()"
   ]
  },
  {
   "cell_type": "markdown",
   "metadata": {},
   "source": [
    "### Same story as above\n",
    "\n",
    "\n"
   ]
  },
  {
   "cell_type": "code",
   "execution_count": 68,
   "metadata": {},
   "outputs": [
    {
     "name": "stdout",
     "output_type": "stream",
     "text": [
      "Average RMSE:  85.6044673438\n",
      "\n",
      "Medinan RMSE:  85.2353866577\n",
      "%decrease in median RMSE is  0.579965255088\n"
     ]
    },
    {
     "data": {
      "image/png": "[encoded data removed]",
      "text/plain": [
       "<matplotlib.figure.Figure at 0x111356438>"
      ]
     },
     "metadata": {},
     "output_type": "display_data"
    },
    {
     "name": "stdout",
     "output_type": "stream",
     "text": [
      "\n",
      "The average coefficient for gus is 0.3589907159100876\n",
      "The average coefficient for temp is -0.21341455232245582\n",
      "The average coefficient for spd is -0.3932366589448517\n",
      "The average coefficient for slp is -0.3204992141427942\n",
      "The average coefficient for intercept is 208.80462918874977\n",
      "The means average to  208.798471433\n",
      "\n",
      "TESTING IS DONE BELOW.  THIS WAS PERFORMED AFTER OPTIMIZATION\n",
      "Average R^2 vale (test set):  -158.161854776\n",
      "\n",
      "Median R^2 value (test set):  -0.973527464704\n",
      "\n",
      "Average RMSE (test set):  82.2924355934\n",
      "\n",
      "Median RMSE (test set):  81.8670772667\n"
     ]
    }
   ],
   "source": [
    "#This one for plot\n",
    "npSqrtMSE = np.zeros(365)\n",
    "npSqrtMSE = [-100.0 for x in npSqrtMSE]\n",
    "npSqrtMSE = np.array(npSqrtMSE)\n",
    "\n",
    "CoeffDic = {}\n",
    "for col_name in X.columns:\n",
    "    CoeffDic[col_name] =[]\n",
    "CoeffDic['intercept']=[]\n",
    "#This is one for mean\n",
    "sqrtMSE = []\n",
    "\n",
    "means = [] # to hold the means of y_train\n",
    "\n",
    "#These lists are for testing\n",
    "testScore=[]\n",
    "testRMSE = []\n",
    "for i in range(365):\n",
    "    df = dayOfYrDic[i+1][['gus','temp','dir','slp','spd']]\n",
    "    df = df.dropna()\n",
    "    X = df[['gus','temp','spd','slp']]\n",
    "    scaledX = scale(X)\n",
    "    y = df[['dir']]\n",
    "    X_train, X_test, y_train, y_test = train_test_split(scaledX,y,test_size = 0.25, random_state = 1, shuffle = True)\n",
    "    if len(X_train)<5:\n",
    "        continue\n",
    "    lm = Ridge(alpha = 100)\n",
    "    lm.fit(X = X_train, y = y_train)\n",
    "    y_pred = cross_val_predict(lm,X_train,y_train,cv=5)\n",
    "    er = math.sqrt(mean_squared_error(y_pred,y_train))\n",
    "    sqrtMSE.append(er)\n",
    "    npSqrtMSE[i] = er\n",
    "    means.append(np.mean(y_train))\n",
    "    for idx, col_name in enumerate(X.columns):\n",
    "        CoeffDic[col_name].append(lm.coef_[0][idx])\n",
    "        CoeffDic[\"intercept\"].append(lm.intercept_[0])\n",
    "        \n",
    "    #below if for testing\n",
    "    #the following was implemented after optimization\n",
    "    score = lm.score(X=X_test, y = y_test)\n",
    "    testScore.append(score)\n",
    "    \n",
    "    y_predict = lm.predict(X_test)\n",
    "    rmse = math.sqrt(mean_squared_error(y_predict,y_test))\n",
    "    testRMSE.append(rmse)\n",
    "\n",
    "#Calculate average sqrt(MSE)\n",
    "sqrtMSE = np.array(sqrtMSE)\n",
    "avgSqrtMSE = np.mean(sqrtMSE)\n",
    "medSqrtMSE = np.median(sqrtMSE)\n",
    "medRMSE = medSqrtMSE\n",
    "print(\"Average RMSE: \",avgSqrtMSE)\n",
    "print()\n",
    "print(\"Medinan RMSE: \", medSqrtMSE)\n",
    "\n",
    "print(\"%decrease in median RMSE is \",\n",
    "     (firstMedRMSE - medRMSE)/firstMedRMSE)\n",
    "#plt the errors\n",
    "day = np.linspace(1,365,365)\n",
    "plt.scatter(day,npSqrtMSE)\n",
    "plt.title(\"Cross-Validated RMSE\")\n",
    "plt.xlabel(\"Day of Year\")\n",
    "#plt.ylabel(\"RMSE\")\n",
    "plt.ylim(0,100)\n",
    "plt.show()\n",
    "print()\n",
    "\n",
    "for col_name in CoeffDic.keys():\n",
    "    print(\"The average coefficient for {} is {}\".format(col_name,np.mean(np.array(CoeffDic[col_name]))))\n",
    "print(\"The means average to \", \n",
    "     np.mean(np.array(means)))\n",
    "\n",
    "#below if for testing\n",
    "testScore = np.array(testScore)\n",
    "testRMSE = np.array(testRMSE)\n",
    "scoreMean = np.mean(testScore)\n",
    "rmseMean = np.mean(testRMSE)\n",
    "scoreMed = np.median(testScore)\n",
    "rmseMed = np.median(testRMSE)\n",
    "print()\n",
    "print(\"TESTING IS DONE BELOW.  THIS WAS PERFORMED AFTER OPTIMIZATION\")\n",
    "\n",
    "print(\"Average R^2 vale (test set): \",scoreMean)\n",
    "print()\n",
    "print(\"Median R^2 value (test set): \",scoreMed)\n",
    "print()\n",
    "print(\"Average RMSE (test set): \", rmseMean)\n",
    "print()\n",
    "print(\"Median RMSE (test set): \", rmseMed)"
   ]
  },
  {
   "cell_type": "markdown",
   "metadata": {},
   "source": [
    "## ------------Test Values Above---------------"
   ]
  },
  {
   "cell_type": "code",
   "execution_count": 69,
   "metadata": {},
   "outputs": [
    {
     "name": "stdout",
     "output_type": "stream",
     "text": [
      "Median RMSE with mean(y_test) =  71.5749957141\n",
      "1.83513268345\n"
     ]
    }
   ],
   "source": [
    "RMSE =[]\n",
    "for i in range(365):\n",
    "    df = dayOfYrDic[i+1][['gus','temp','dir','slp','spd']]\n",
    "    df = df.dropna()\n",
    "    X = df[['gus','temp','spd','slp']]\n",
    "    y = df[['dir']]\n",
    "    X_train, X_test, y_train, y_test = train_test_split(X,y,test_size = 0.25, random_state = 1, shuffle = True)\n",
    "    if len(X_train)<5:\n",
    "        continue\n",
    "    #Create a vector that is equal to the mean value for every entry\n",
    "    meany_train = np.zeros(len(y_train))\n",
    "    for i in range(len(meany_train)):\n",
    "        meany_train[i]= np.mean(y_train)\n",
    "    rmse = math.sqrt(mean_squared_error(meany_train, y_train))\n",
    "    RMSE.append(rmse)\n",
    "\n",
    "RMSE = np.array(RMSE)\n",
    "medControlRMSE = np.median(RMSE)\n",
    "print(\"Median RMSE with mean(y_test) = \", medControlRMSE)\n",
    "print((firstMedRMSE - medControlRMSE)/medControlRMSE)\n"
   ]
  },
  {
   "cell_type": "markdown",
   "metadata": {},
   "source": [
    "### Looks like the crappy model is using all of coefficients, so we'll try our individual features below\n",
    "\n",
    "### Let's use gust to start with"
   ]
  },
  {
   "cell_type": "code",
   "execution_count": 54,
   "metadata": {
    "scrolled": true
   },
   "outputs": [
    {
     "name": "stdout",
     "output_type": "stream",
     "text": [
      "Average RMSE:  102.018783436\n",
      "\n",
      "Medinan RMSE:  94.0310559958\n"
     ]
    },
    {
     "data": {
      "image/png": "[encoded data removed]",
      "text/plain": [
       "<matplotlib.figure.Figure at 0x1113794a8>"
      ]
     },
     "metadata": {},
     "output_type": "display_data"
    }
   ],
   "source": [
    "#This one for plot\n",
    "npSqrtMSE = np.zeros(365)\n",
    "npSqrtMSE = [-100.0 for x in npSqrtMSE]\n",
    "npSqrtMSE = np.array(npSqrtMSE)\n",
    "\n",
    "#This is one for mean\n",
    "sqrtMSE = []\n",
    "for i in range(365):\n",
    "    df = dayOfYrDic[i+1][['gus','dir']]\n",
    "    df = df.dropna()\n",
    "    X = df[['gus']]\n",
    "    y = df[['dir']]\n",
    "    X_train, X_test, y_train, y_test = train_test_split(X,y,test_size = 0.25, random_state = 1, shuffle = True)\n",
    "    if len(X_train)<5:\n",
    "        continue\n",
    "    lm = LinearRegression()\n",
    "    lm.fit(X = X_train, y = y_train)\n",
    "    y_pred = cross_val_predict(lm,X_train,y_train,cv=5)\n",
    "    er = math.sqrt(mean_squared_error(y_pred,y_train))\n",
    "    sqrtMSE.append(er)\n",
    "    npSqrtMSE[i] = er\n",
    "\n",
    "#Calculate average sqrt(MSE)\n",
    "sqrtMSE = np.array(sqrtMSE)\n",
    "avgSqrtMSE = np.mean(sqrtMSE)\n",
    "medSqrtMSE = np.median(sqrtMSE)\n",
    "firstMedRMSE = medSqrtMSE\n",
    "\n",
    "print(\"Average RMSE: \",avgSqrtMSE)\n",
    "print()\n",
    "print(\"Medinan RMSE: \", medSqrtMSE)\n",
    "\n",
    "#plt the errors\n",
    "day = np.linspace(1,365,365)\n",
    "plt.scatter(day,npSqrtMSE)\n",
    "plt.title(\"Cross-Validated RMSE\")\n",
    "plt.xlabel(\"Day of Year\")\n",
    "#plt.ylabel(\"RMSE\")\n",
    "plt.ylim(0,100)\n",
    "plt.show()"
   ]
  },
  {
   "cell_type": "code",
   "execution_count": 63,
   "metadata": {},
   "outputs": [
    {
     "data": {
      "image/png": "[encoded data removed]",
      "text/plain": [
       "<matplotlib.figure.Figure at 0x1113a1a58>"
      ]
     },
     "metadata": {},
     "output_type": "display_data"
    }
   ],
   "source": [
    "#Need to figure out what value of alpha to use...\n",
    "alphaList = np.linspace(0.01,100,10)\n",
    "\n",
    "avgList =[]\n",
    "medList = []\n",
    "for a in alphaList:\n",
    "    #This is one for mean\n",
    "    sqrtMSE = []\n",
    "    for i in range(365):\n",
    "        df = dayOfYrDic[i+1][['gus','dir']]\n",
    "        df = df.dropna()\n",
    "        X = df[['gus']]\n",
    "        y = df[['dir']]\n",
    "        X_train, X_test, y_train, y_test = train_test_split(X,y,test_size = 0.25, random_state = 1, shuffle = True)\n",
    "        if len(X_train)<5:\n",
    "            continue\n",
    "        lm = Ridge(alpha = a)\n",
    "        lm.fit(X = X_train, y = y_train)\n",
    "        y_pred = cross_val_predict(lm,X_train,y_train,cv=5)\n",
    "        er = math.sqrt(mean_squared_error(y_pred,y_train))\n",
    "        sqrtMSE.append(er)\n",
    "\n",
    "    #Calculate average and median sqrt(MSE)\n",
    "    sqrtMSE = np.array(sqrtMSE)\n",
    "    avgSqrtMSE = np.mean(sqrtMSE)\n",
    "    medSqrtMSE = np.median(sqrtMSE)\n",
    "\n",
    "    avgList.append(avgSqrtMSE)\n",
    "    medList.append(medSqrtMSE)\n",
    "    \n",
    "\n",
    "plt.plot(alphaList,avgList,label=\"Average\")\n",
    "plt.plot(alphaList,medList,label=\"Median\")\n",
    "plt.ylabel(\"sqrt(MSE)\")\n",
    "plt.xlabel(\"alpha\")\n",
    "plt.title(\"Alpha Level Error\")\n",
    "plt.legend()\n",
    "plt.show()"
   ]
  },
  {
   "cell_type": "code",
   "execution_count": 64,
   "metadata": {},
   "outputs": [
    {
     "data": {
      "image/png": "[encoded data removed]",
      "text/plain": [
       "<matplotlib.figure.Figure at 0x1113505c0>"
      ]
     },
     "metadata": {},
     "output_type": "display_data"
    }
   ],
   "source": [
    "#Need to figure out what value of alpha to use...\n",
    "alphaList = np.linspace(0.01,100,10)\n",
    "\n",
    "avgList =[]\n",
    "medList = []\n",
    "for a in alphaList:\n",
    "    #This is one for mean\n",
    "    sqrtMSE = []\n",
    "    for i in range(365):\n",
    "        df = dayOfYrDic[i+1][['spd','dir']]\n",
    "        df = df.dropna()\n",
    "        X = df[['spd']]\n",
    "        y = df[['dir']]\n",
    "        X_train, X_test, y_train, y_test = train_test_split(X,y,test_size = 0.25, random_state = 1, shuffle = True)\n",
    "        if len(X_train)<5:\n",
    "            continue\n",
    "        lm = Ridge(alpha = a)\n",
    "        lm.fit(X = X_train, y = y_train)\n",
    "        y_pred = cross_val_predict(lm,X_train,y_train,cv=5)\n",
    "        er = math.sqrt(mean_squared_error(y_pred,y_train))\n",
    "        sqrtMSE.append(er)\n",
    "\n",
    "    #Calculate average and median sqrt(MSE)\n",
    "    sqrtMSE = np.array(sqrtMSE)\n",
    "    avgSqrtMSE = np.mean(sqrtMSE)\n",
    "    medSqrtMSE = np.median(sqrtMSE)\n",
    "\n",
    "    avgList.append(avgSqrtMSE)\n",
    "    medList.append(medSqrtMSE)\n",
    "    \n",
    "\n",
    "plt.plot(alphaList,avgList,label=\"Average\")\n",
    "plt.plot(alphaList,medList,label=\"Median\")\n",
    "plt.ylabel(\"sqrt(MSE)\")\n",
    "plt.xlabel(\"alpha\")\n",
    "plt.title(\"Alpha Level Error\")\n",
    "plt.legend()\n",
    "plt.show()"
   ]
  },
  {
   "cell_type": "code",
   "execution_count": 65,
   "metadata": {},
   "outputs": [
    {
     "data": {
      "image/png": "[encoded data removed]",
      "text/plain": [
       "<matplotlib.figure.Figure at 0x1106fee10>"
      ]
     },
     "metadata": {},
     "output_type": "display_data"
    }
   ],
   "source": [
    "#Need to figure out what value of alpha to use...\n",
    "alphaList = np.linspace(0.01,100,10)\n",
    "\n",
    "avgList =[]\n",
    "medList = []\n",
    "for a in alphaList:\n",
    "    #This is one for mean\n",
    "    sqrtMSE = []\n",
    "    for i in range(365):\n",
    "        df = dayOfYrDic[i+1][['temp','dir']]\n",
    "        df = df.dropna()\n",
    "        X = df[['temp']]\n",
    "        y = df[['dir']]\n",
    "        X_train, X_test, y_train, y_test = train_test_split(X,y,test_size = 0.25, random_state = 1, shuffle = True)\n",
    "        if len(X_train)<5:\n",
    "            continue\n",
    "        lm = Ridge(alpha = a)\n",
    "        lm.fit(X = X_train, y = y_train)\n",
    "        y_pred = cross_val_predict(lm,X_train,y_train,cv=5)\n",
    "        er = math.sqrt(mean_squared_error(y_pred,y_train))\n",
    "        sqrtMSE.append(er)\n",
    "\n",
    "    #Calculate average and median sqrt(MSE)\n",
    "    sqrtMSE = np.array(sqrtMSE)\n",
    "    avgSqrtMSE = np.mean(sqrtMSE)\n",
    "    medSqrtMSE = np.median(sqrtMSE)\n",
    "\n",
    "    avgList.append(avgSqrtMSE)\n",
    "    medList.append(medSqrtMSE)\n",
    "    \n",
    "\n",
    "plt.plot(alphaList,avgList,label=\"Average\")\n",
    "plt.plot(alphaList,medList,label=\"Median\")\n",
    "plt.ylabel(\"sqrt(MSE)\")\n",
    "plt.xlabel(\"alpha\")\n",
    "plt.title(\"Alpha Level Error\")\n",
    "plt.legend()\n",
    "plt.show()"
   ]
  },
  {
   "cell_type": "code",
   "execution_count": 66,
   "metadata": {},
   "outputs": [
    {
     "data": {
      "image/png": "[encoded data removed]",
      "text/plain": [
       "<matplotlib.figure.Figure at 0x11196e7f0>"
      ]
     },
     "metadata": {},
     "output_type": "display_data"
    }
   ],
   "source": [
    "#Need to figure out what value of alpha to use...\n",
    "alphaList = np.linspace(0.01,100,10)\n",
    "\n",
    "avgList =[]\n",
    "medList = []\n",
    "for a in alphaList:\n",
    "    #This is one for mean\n",
    "    sqrtMSE = []\n",
    "    for i in range(365):\n",
    "        df = dayOfYrDic[i+1][['slp','dir']]\n",
    "        df = df.dropna()\n",
    "        X = df[['slp']]\n",
    "        y = df[['dir']]\n",
    "        X_train, X_test, y_train, y_test = train_test_split(X,y,test_size = 0.25, random_state = 1, shuffle = True)\n",
    "        if len(X_train)<5:\n",
    "            continue\n",
    "        lm = Ridge(alpha = a)\n",
    "        lm.fit(X = X_train, y = y_train)\n",
    "        y_pred = cross_val_predict(lm,X_train,y_train,cv=5)\n",
    "        er = math.sqrt(mean_squared_error(y_pred,y_train))\n",
    "        sqrtMSE.append(er)\n",
    "\n",
    "    #Calculate average and median sqrt(MSE)\n",
    "    sqrtMSE = np.array(sqrtMSE)\n",
    "    avgSqrtMSE = np.mean(sqrtMSE)\n",
    "    medSqrtMSE = np.median(sqrtMSE)\n",
    "\n",
    "    avgList.append(avgSqrtMSE)\n",
    "    medList.append(medSqrtMSE)\n",
    "    \n",
    "\n",
    "plt.plot(alphaList,avgList,label=\"Average\")\n",
    "plt.plot(alphaList,medList,label=\"Median\")\n",
    "plt.ylabel(\"sqrt(MSE)\")\n",
    "plt.xlabel(\"alpha\")\n",
    "plt.title(\"Alpha Level Error\")\n",
    "plt.legend()\n",
    "plt.show()"
   ]
  },
  {
   "cell_type": "code",
   "execution_count": null,
   "metadata": {
    "collapsed": true
   },
   "outputs": [],
   "source": []
  }
 ],
 "metadata": {
  "kernelspec": {
   "display_name": "Python 3",
   "language": "python",
   "name": "python3"
  },
  "language_info": {
   "codemirror_mode": {
    "name": "ipython",
    "version": 3
   },
   "file_extension": ".py",
   "mimetype": "text/x-python",
   "name": "python",
   "nbconvert_exporter": "python",
   "pygments_lexer": "ipython3",
   "version": "3.6.2"
  }
 },
 "nbformat": 4,
 "nbformat_minor": 2
}
